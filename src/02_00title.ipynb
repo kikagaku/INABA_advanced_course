{
 "cells": [
  {
   "attachments": {},
   "cell_type": "markdown",
   "metadata": {},
   "source": [
    "# ー データの前処理と機械学習モデルの構築 ー"
   ]
  },
  {
   "cell_type": "markdown",
   "metadata": {},
   "source": [
    "本パートで使用する資料  \n",
    "\n",
    "- [Day2 講義資料](data/Day2スライド資料.pdf)"
   ]
  }
 ],
 "metadata": {
  "kernelspec": {
   "display_name": "Python 3",
   "language": "python",
   "name": "python3"
  },
  "language_info": {
   "codemirror_mode": {
    "name": "ipython",
    "version": 3
   },
   "file_extension": ".py",
   "mimetype": "text/x-python",
   "name": "python",
   "nbconvert_exporter": "python",
   "pygments_lexer": "ipython3",
   "version": "3.10.6 (main, Sep 19 2022, 02:43:37) [Clang 13.1.6 (clang-1316.0.21.2.5)]"
  },
  "vscode": {
   "interpreter": {
    "hash": "1a9a29c64a2d29f0f665bd1b8ed54b7bf069844ea72f7a667d2994997dec6824"
   }
  }
 },
 "nbformat": 4,
 "nbformat_minor": 4
}
