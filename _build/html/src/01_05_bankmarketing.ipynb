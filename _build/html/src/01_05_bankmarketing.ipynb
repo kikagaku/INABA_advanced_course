{
 "cells": [
  {
   "cell_type": "markdown",
   "metadata": {
    "id": "03agZUoxnyCY"
   },
   "source": [
    "# 実装例\n",
    "\n",
    "▼ 本章で使用するデータセット\n",
    "\n",
    "学習と検証用のデータセットはこちらから[bank_train.csv](https://drive.google.com/file/d/12ASy6rFUxeko2qWix2wKl-mYkCLJ--bK/view?usp=sharing)を使用してください。 "
   ]
  },
  {
   "cell_type": "markdown",
   "metadata": {},
   "source": [
    "ここまでのデータの前処理や操作の実装を生かして、実際の問題設定において分類モデルを構築してみましょう。\n",
    "今回の問題設定では、リクルーティングが成功（success）するか失敗（fail）するかを予測する二値分類モデルとなります。"
   ]
  },
  {
   "cell_type": "code",
   "execution_count": null,
   "metadata": {
    "id": "BuJQAC1hnpuR"
   },
   "outputs": [],
   "source": [
    "import numpy as np\n",
    "import pandas as pd\n",
    "import matplotlib.pyplot as plt\n",
    "import seaborn as sns\n",
    "\n",
    "plt.style.use('seaborn')"
   ]
  },
  {
   "cell_type": "markdown",
   "metadata": {
    "id": "05gZJ7ZgpDuL"
   },
   "source": [
    "## ベースモデルの構築"
   ]
  },
  {
   "cell_type": "markdown",
   "metadata": {
    "id": "qSxN-WVZnv8j"
   },
   "source": [
    "### データの前処理"
   ]
  },
  {
   "cell_type": "markdown",
   "metadata": {
    "id": "R82QkoAXn8j0"
   },
   "source": [
    "まずは必要な前処理のみを適用して、ベースラインとなる学習済みモデルを構築していきます。"
   ]
  },
  {
   "cell_type": "code",
   "execution_count": null,
   "metadata": {
    "colab": {
     "base_uri": "https://localhost:8080/",
     "height": 143
    },
    "id": "mA0xVLOpn-NF",
    "outputId": "3d7e3188-f783-45a7-a57b-b5c1302f4b96"
   },
   "outputs": [
    {
     "data": {
      "text/html": [
       "\n",
       "  <div id=\"df-4e06ef43-842d-4d4b-8137-e1b9a100e4e1\">\n",
       "    <div class=\"colab-df-container\">\n",
       "      <div>\n",
       "<style scoped>\n",
       "    .dataframe tbody tr th:only-of-type {\n",
       "        vertical-align: middle;\n",
       "    }\n",
       "\n",
       "    .dataframe tbody tr th {\n",
       "        vertical-align: top;\n",
       "    }\n",
       "\n",
       "    .dataframe thead th {\n",
       "        text-align: right;\n",
       "    }\n",
       "</style>\n",
       "<table border=\"1\" class=\"dataframe\">\n",
       "  <thead>\n",
       "    <tr style=\"text-align: right;\">\n",
       "      <th></th>\n",
       "      <th>age</th>\n",
       "      <th>job</th>\n",
       "      <th>marital</th>\n",
       "      <th>education</th>\n",
       "      <th>default</th>\n",
       "      <th>balance</th>\n",
       "      <th>housing</th>\n",
       "      <th>loan</th>\n",
       "      <th>pdays</th>\n",
       "      <th>previous</th>\n",
       "      <th>poutcome</th>\n",
       "      <th>result</th>\n",
       "    </tr>\n",
       "  </thead>\n",
       "  <tbody>\n",
       "    <tr>\n",
       "      <th>0</th>\n",
       "      <td>50.0</td>\n",
       "      <td>entrepreneur</td>\n",
       "      <td>married</td>\n",
       "      <td>secondary</td>\n",
       "      <td>no</td>\n",
       "      <td>1857</td>\n",
       "      <td>no</td>\n",
       "      <td>yes</td>\n",
       "      <td>-1.0</td>\n",
       "      <td>0</td>\n",
       "      <td>unknown</td>\n",
       "      <td>fail</td>\n",
       "    </tr>\n",
       "    <tr>\n",
       "      <th>1</th>\n",
       "      <td>37.0</td>\n",
       "      <td>technician</td>\n",
       "      <td>single</td>\n",
       "      <td>secondary</td>\n",
       "      <td>no</td>\n",
       "      <td>363</td>\n",
       "      <td>yes</td>\n",
       "      <td>no</td>\n",
       "      <td>-1.0</td>\n",
       "      <td>0</td>\n",
       "      <td>unknown</td>\n",
       "      <td>fail</td>\n",
       "    </tr>\n",
       "    <tr>\n",
       "      <th>2</th>\n",
       "      <td>35.0</td>\n",
       "      <td>blue-collar</td>\n",
       "      <td>married</td>\n",
       "      <td>primary</td>\n",
       "      <td>no</td>\n",
       "      <td>422</td>\n",
       "      <td>yes</td>\n",
       "      <td>no</td>\n",
       "      <td>-1.0</td>\n",
       "      <td>0</td>\n",
       "      <td>unknown</td>\n",
       "      <td>fail</td>\n",
       "    </tr>\n",
       "  </tbody>\n",
       "</table>\n",
       "</div>\n",
       "      <button class=\"colab-df-convert\" onclick=\"convertToInteractive('df-4e06ef43-842d-4d4b-8137-e1b9a100e4e1')\"\n",
       "              title=\"Convert this dataframe to an interactive table.\"\n",
       "              style=\"display:none;\">\n",
       "        \n",
       "  <svg xmlns=\"http://www.w3.org/2000/svg\" height=\"24px\"viewBox=\"0 0 24 24\"\n",
       "       width=\"24px\">\n",
       "    <path d=\"M0 0h24v24H0V0z\" fill=\"none\"/>\n",
       "    <path d=\"M18.56 5.44l.94 2.06.94-2.06 2.06-.94-2.06-.94-.94-2.06-.94 2.06-2.06.94zm-11 1L8.5 8.5l.94-2.06 2.06-.94-2.06-.94L8.5 2.5l-.94 2.06-2.06.94zm10 10l.94 2.06.94-2.06 2.06-.94-2.06-.94-.94-2.06-.94 2.06-2.06.94z\"/><path d=\"M17.41 7.96l-1.37-1.37c-.4-.4-.92-.59-1.43-.59-.52 0-1.04.2-1.43.59L10.3 9.45l-7.72 7.72c-.78.78-.78 2.05 0 2.83L4 21.41c.39.39.9.59 1.41.59.51 0 1.02-.2 1.41-.59l7.78-7.78 2.81-2.81c.8-.78.8-2.07 0-2.86zM5.41 20L4 18.59l7.72-7.72 1.47 1.35L5.41 20z\"/>\n",
       "  </svg>\n",
       "      </button>\n",
       "      \n",
       "  <style>\n",
       "    .colab-df-container {\n",
       "      display:flex;\n",
       "      flex-wrap:wrap;\n",
       "      gap: 12px;\n",
       "    }\n",
       "\n",
       "    .colab-df-convert {\n",
       "      background-color: #E8F0FE;\n",
       "      border: none;\n",
       "      border-radius: 50%;\n",
       "      cursor: pointer;\n",
       "      display: none;\n",
       "      fill: #1967D2;\n",
       "      height: 32px;\n",
       "      padding: 0 0 0 0;\n",
       "      width: 32px;\n",
       "    }\n",
       "\n",
       "    .colab-df-convert:hover {\n",
       "      background-color: #E2EBFA;\n",
       "      box-shadow: 0px 1px 2px rgba(60, 64, 67, 0.3), 0px 1px 3px 1px rgba(60, 64, 67, 0.15);\n",
       "      fill: #174EA6;\n",
       "    }\n",
       "\n",
       "    [theme=dark] .colab-df-convert {\n",
       "      background-color: #3B4455;\n",
       "      fill: #D2E3FC;\n",
       "    }\n",
       "\n",
       "    [theme=dark] .colab-df-convert:hover {\n",
       "      background-color: #434B5C;\n",
       "      box-shadow: 0px 1px 3px 1px rgba(0, 0, 0, 0.15);\n",
       "      filter: drop-shadow(0px 1px 2px rgba(0, 0, 0, 0.3));\n",
       "      fill: #FFFFFF;\n",
       "    }\n",
       "  </style>\n",
       "\n",
       "      <script>\n",
       "        const buttonEl =\n",
       "          document.querySelector('#df-4e06ef43-842d-4d4b-8137-e1b9a100e4e1 button.colab-df-convert');\n",
       "        buttonEl.style.display =\n",
       "          google.colab.kernel.accessAllowed ? 'block' : 'none';\n",
       "\n",
       "        async function convertToInteractive(key) {\n",
       "          const element = document.querySelector('#df-4e06ef43-842d-4d4b-8137-e1b9a100e4e1');\n",
       "          const dataTable =\n",
       "            await google.colab.kernel.invokeFunction('convertToInteractive',\n",
       "                                                     [key], {});\n",
       "          if (!dataTable) return;\n",
       "\n",
       "          const docLinkHtml = 'Like what you see? Visit the ' +\n",
       "            '<a target=\"_blank\" href=https://colab.research.google.com/notebooks/data_table.ipynb>data table notebook</a>'\n",
       "            + ' to learn more about interactive tables.';\n",
       "          element.innerHTML = '';\n",
       "          dataTable['output_type'] = 'display_data';\n",
       "          await google.colab.output.renderOutput(dataTable, element);\n",
       "          const docLink = document.createElement('div');\n",
       "          docLink.innerHTML = docLinkHtml;\n",
       "          element.appendChild(docLink);\n",
       "        }\n",
       "      </script>\n",
       "    </div>\n",
       "  </div>\n",
       "  "
      ],
      "text/plain": [
       "    age           job  marital  education default  balance housing loan  \\\n",
       "0  50.0  entrepreneur  married  secondary      no     1857      no  yes   \n",
       "1  37.0    technician   single  secondary      no      363     yes   no   \n",
       "2  35.0   blue-collar  married    primary      no      422     yes   no   \n",
       "\n",
       "   pdays  previous poutcome result  \n",
       "0   -1.0         0  unknown   fail  \n",
       "1   -1.0         0  unknown   fail  \n",
       "2   -1.0         0  unknown   fail  "
      ]
     },
     "execution_count": 2,
     "metadata": {},
     "output_type": "execute_result"
    }
   ],
   "source": [
    "df = pd.read_csv('bank_train.csv')\n",
    "df.head(3)"
   ]
  },
  {
   "cell_type": "code",
   "execution_count": null,
   "metadata": {
    "colab": {
     "base_uri": "https://localhost:8080/"
    },
    "id": "lIym-XJGoBev",
    "outputId": "9cc60eb5-41f4-4b41-dc76-a9a96c2ca2b2"
   },
   "outputs": [
    {
     "data": {
      "text/plain": [
       "(6416, 12)"
      ]
     },
     "execution_count": 3,
     "metadata": {},
     "output_type": "execute_result"
    }
   ],
   "source": [
    "df.shape"
   ]
  },
  {
   "cell_type": "markdown",
   "metadata": {
    "id": "d0shF0uGoCLA"
   },
   "source": [
    "まずは文字列で入っている教師データを、数値に置き換えます。"
   ]
  },
  {
   "cell_type": "code",
   "execution_count": null,
   "metadata": {
    "colab": {
     "base_uri": "https://localhost:8080/"
    },
    "id": "JzkIln7toDh3",
    "outputId": "04b49573-dfcf-407c-f899-2fc7a40ace48"
   },
   "outputs": [
    {
     "data": {
      "text/plain": [
       "fail       5683\n",
       "success     733\n",
       "Name: result, dtype: int64"
      ]
     },
     "execution_count": 4,
     "metadata": {},
     "output_type": "execute_result"
    }
   ],
   "source": [
    "# 教師データ確認\n",
    "df['result'].value_counts()"
   ]
  },
  {
   "cell_type": "code",
   "execution_count": null,
   "metadata": {
    "id": "uTPb7oRrCcI3"
   },
   "outputs": [],
   "source": [
    "# 0,1 で補完\n",
    "df['result'] = df['result'].map({'fail': 0, 'success': 1})"
   ]
  },
  {
   "cell_type": "markdown",
   "metadata": {
    "id": "qgejmG_ioHfJ"
   },
   "source": [
    "#### 欠損値処理"
   ]
  },
  {
   "cell_type": "markdown",
   "metadata": {
    "id": "4L1fvkOMoLmV"
   },
   "source": [
    "**欠損値の確認**"
   ]
  },
  {
   "cell_type": "code",
   "execution_count": null,
   "metadata": {
    "colab": {
     "base_uri": "https://localhost:8080/"
    },
    "id": "wk5zVRmroOVx",
    "outputId": "54dd2868-df18-4700-e98d-5d57e2f69b15"
   },
   "outputs": [
    {
     "data": {
      "text/plain": [
       "age           90\n",
       "job            3\n",
       "marital       89\n",
       "education      0\n",
       "default       29\n",
       "balance        0\n",
       "housing       61\n",
       "loan         217\n",
       "pdays         36\n",
       "previous       0\n",
       "poutcome     250\n",
       "result         0\n",
       "dtype: int64"
      ]
     },
     "execution_count": 6,
     "metadata": {},
     "output_type": "execute_result"
    }
   ],
   "source": [
    "df.isnull().sum()"
   ]
  },
  {
   "cell_type": "markdown",
   "metadata": {
    "id": "ib2WlcQgoQoY"
   },
   "source": [
    "まずはベースラインのモデルとして欠損値は全て除去してしまいます。\n",
    "その精度をベースに前処理や、ハイパーパラメータのチューニングを行なっていきます。"
   ]
  },
  {
   "cell_type": "code",
   "execution_count": null,
   "metadata": {
    "colab": {
     "base_uri": "https://localhost:8080/"
    },
    "id": "v4kJr0B_oSB9",
    "outputId": "e4c17380-48d2-4f3f-e422-3138515ff7fb"
   },
   "outputs": [
    {
     "data": {
      "text/plain": [
       "age          0\n",
       "job          0\n",
       "marital      0\n",
       "education    0\n",
       "default      0\n",
       "balance      0\n",
       "housing      0\n",
       "loan         0\n",
       "pdays        0\n",
       "previous     0\n",
       "poutcome     0\n",
       "result       0\n",
       "dtype: int64"
      ]
     },
     "execution_count": 7,
     "metadata": {},
     "output_type": "execute_result"
    }
   ],
   "source": [
    "#　全ての行を削除\n",
    "df = df.dropna()\n",
    "df.isnull().sum()"
   ]
  },
  {
   "cell_type": "markdown",
   "metadata": {
    "id": "qlW2OkkloUp-"
   },
   "source": [
    "#### カテゴリカル変数"
   ]
  },
  {
   "cell_type": "markdown",
   "metadata": {
    "id": "6QAH9inEoaDG"
   },
   "source": [
    "カテゴリカル変数もひとまず、全てOne-Hot Encodingを適用します。"
   ]
  },
  {
   "cell_type": "code",
   "execution_count": null,
   "metadata": {
    "colab": {
     "base_uri": "https://localhost:8080/",
     "height": 254
    },
    "id": "7hZsL7HLobrn",
    "outputId": "b8703992-ea99-4eeb-cfda-5a15aa38ceb3"
   },
   "outputs": [
    {
     "data": {
      "text/html": [
       "\n",
       "  <div id=\"df-540c7c53-1135-42e3-99bc-1715f59d3fb6\">\n",
       "    <div class=\"colab-df-container\">\n",
       "      <div>\n",
       "<style scoped>\n",
       "    .dataframe tbody tr th:only-of-type {\n",
       "        vertical-align: middle;\n",
       "    }\n",
       "\n",
       "    .dataframe tbody tr th {\n",
       "        vertical-align: top;\n",
       "    }\n",
       "\n",
       "    .dataframe thead th {\n",
       "        text-align: right;\n",
       "    }\n",
       "</style>\n",
       "<table border=\"1\" class=\"dataframe\">\n",
       "  <thead>\n",
       "    <tr style=\"text-align: right;\">\n",
       "      <th></th>\n",
       "      <th>age</th>\n",
       "      <th>balance</th>\n",
       "      <th>pdays</th>\n",
       "      <th>previous</th>\n",
       "      <th>result</th>\n",
       "      <th>job_admin.</th>\n",
       "      <th>job_blue-collar</th>\n",
       "      <th>job_entrepreneur</th>\n",
       "      <th>job_housemaid</th>\n",
       "      <th>job_management</th>\n",
       "      <th>...</th>\n",
       "      <th>default_no</th>\n",
       "      <th>default_yes</th>\n",
       "      <th>housing_no</th>\n",
       "      <th>housing_yes</th>\n",
       "      <th>loan_no</th>\n",
       "      <th>loan_yes</th>\n",
       "      <th>poutcome_failure</th>\n",
       "      <th>poutcome_other</th>\n",
       "      <th>poutcome_success</th>\n",
       "      <th>poutcome_unknown</th>\n",
       "    </tr>\n",
       "  </thead>\n",
       "  <tbody>\n",
       "    <tr>\n",
       "      <th>0</th>\n",
       "      <td>50.0</td>\n",
       "      <td>1857</td>\n",
       "      <td>-1.0</td>\n",
       "      <td>0</td>\n",
       "      <td>0</td>\n",
       "      <td>0</td>\n",
       "      <td>0</td>\n",
       "      <td>1</td>\n",
       "      <td>0</td>\n",
       "      <td>0</td>\n",
       "      <td>...</td>\n",
       "      <td>1</td>\n",
       "      <td>0</td>\n",
       "      <td>1</td>\n",
       "      <td>0</td>\n",
       "      <td>0</td>\n",
       "      <td>1</td>\n",
       "      <td>0</td>\n",
       "      <td>0</td>\n",
       "      <td>0</td>\n",
       "      <td>1</td>\n",
       "    </tr>\n",
       "    <tr>\n",
       "      <th>1</th>\n",
       "      <td>37.0</td>\n",
       "      <td>363</td>\n",
       "      <td>-1.0</td>\n",
       "      <td>0</td>\n",
       "      <td>0</td>\n",
       "      <td>0</td>\n",
       "      <td>0</td>\n",
       "      <td>0</td>\n",
       "      <td>0</td>\n",
       "      <td>0</td>\n",
       "      <td>...</td>\n",
       "      <td>1</td>\n",
       "      <td>0</td>\n",
       "      <td>0</td>\n",
       "      <td>1</td>\n",
       "      <td>1</td>\n",
       "      <td>0</td>\n",
       "      <td>0</td>\n",
       "      <td>0</td>\n",
       "      <td>0</td>\n",
       "      <td>1</td>\n",
       "    </tr>\n",
       "    <tr>\n",
       "      <th>2</th>\n",
       "      <td>35.0</td>\n",
       "      <td>422</td>\n",
       "      <td>-1.0</td>\n",
       "      <td>0</td>\n",
       "      <td>0</td>\n",
       "      <td>0</td>\n",
       "      <td>1</td>\n",
       "      <td>0</td>\n",
       "      <td>0</td>\n",
       "      <td>0</td>\n",
       "      <td>...</td>\n",
       "      <td>1</td>\n",
       "      <td>0</td>\n",
       "      <td>0</td>\n",
       "      <td>1</td>\n",
       "      <td>1</td>\n",
       "      <td>0</td>\n",
       "      <td>0</td>\n",
       "      <td>0</td>\n",
       "      <td>0</td>\n",
       "      <td>1</td>\n",
       "    </tr>\n",
       "  </tbody>\n",
       "</table>\n",
       "<p>3 rows × 34 columns</p>\n",
       "</div>\n",
       "      <button class=\"colab-df-convert\" onclick=\"convertToInteractive('df-540c7c53-1135-42e3-99bc-1715f59d3fb6')\"\n",
       "              title=\"Convert this dataframe to an interactive table.\"\n",
       "              style=\"display:none;\">\n",
       "        \n",
       "  <svg xmlns=\"http://www.w3.org/2000/svg\" height=\"24px\"viewBox=\"0 0 24 24\"\n",
       "       width=\"24px\">\n",
       "    <path d=\"M0 0h24v24H0V0z\" fill=\"none\"/>\n",
       "    <path d=\"M18.56 5.44l.94 2.06.94-2.06 2.06-.94-2.06-.94-.94-2.06-.94 2.06-2.06.94zm-11 1L8.5 8.5l.94-2.06 2.06-.94-2.06-.94L8.5 2.5l-.94 2.06-2.06.94zm10 10l.94 2.06.94-2.06 2.06-.94-2.06-.94-.94-2.06-.94 2.06-2.06.94z\"/><path d=\"M17.41 7.96l-1.37-1.37c-.4-.4-.92-.59-1.43-.59-.52 0-1.04.2-1.43.59L10.3 9.45l-7.72 7.72c-.78.78-.78 2.05 0 2.83L4 21.41c.39.39.9.59 1.41.59.51 0 1.02-.2 1.41-.59l7.78-7.78 2.81-2.81c.8-.78.8-2.07 0-2.86zM5.41 20L4 18.59l7.72-7.72 1.47 1.35L5.41 20z\"/>\n",
       "  </svg>\n",
       "      </button>\n",
       "      \n",
       "  <style>\n",
       "    .colab-df-container {\n",
       "      display:flex;\n",
       "      flex-wrap:wrap;\n",
       "      gap: 12px;\n",
       "    }\n",
       "\n",
       "    .colab-df-convert {\n",
       "      background-color: #E8F0FE;\n",
       "      border: none;\n",
       "      border-radius: 50%;\n",
       "      cursor: pointer;\n",
       "      display: none;\n",
       "      fill: #1967D2;\n",
       "      height: 32px;\n",
       "      padding: 0 0 0 0;\n",
       "      width: 32px;\n",
       "    }\n",
       "\n",
       "    .colab-df-convert:hover {\n",
       "      background-color: #E2EBFA;\n",
       "      box-shadow: 0px 1px 2px rgba(60, 64, 67, 0.3), 0px 1px 3px 1px rgba(60, 64, 67, 0.15);\n",
       "      fill: #174EA6;\n",
       "    }\n",
       "\n",
       "    [theme=dark] .colab-df-convert {\n",
       "      background-color: #3B4455;\n",
       "      fill: #D2E3FC;\n",
       "    }\n",
       "\n",
       "    [theme=dark] .colab-df-convert:hover {\n",
       "      background-color: #434B5C;\n",
       "      box-shadow: 0px 1px 3px 1px rgba(0, 0, 0, 0.15);\n",
       "      filter: drop-shadow(0px 1px 2px rgba(0, 0, 0, 0.3));\n",
       "      fill: #FFFFFF;\n",
       "    }\n",
       "  </style>\n",
       "\n",
       "      <script>\n",
       "        const buttonEl =\n",
       "          document.querySelector('#df-540c7c53-1135-42e3-99bc-1715f59d3fb6 button.colab-df-convert');\n",
       "        buttonEl.style.display =\n",
       "          google.colab.kernel.accessAllowed ? 'block' : 'none';\n",
       "\n",
       "        async function convertToInteractive(key) {\n",
       "          const element = document.querySelector('#df-540c7c53-1135-42e3-99bc-1715f59d3fb6');\n",
       "          const dataTable =\n",
       "            await google.colab.kernel.invokeFunction('convertToInteractive',\n",
       "                                                     [key], {});\n",
       "          if (!dataTable) return;\n",
       "\n",
       "          const docLinkHtml = 'Like what you see? Visit the ' +\n",
       "            '<a target=\"_blank\" href=https://colab.research.google.com/notebooks/data_table.ipynb>data table notebook</a>'\n",
       "            + ' to learn more about interactive tables.';\n",
       "          element.innerHTML = '';\n",
       "          dataTable['output_type'] = 'display_data';\n",
       "          await google.colab.output.renderOutput(dataTable, element);\n",
       "          const docLink = document.createElement('div');\n",
       "          docLink.innerHTML = docLinkHtml;\n",
       "          element.appendChild(docLink);\n",
       "        }\n",
       "      </script>\n",
       "    </div>\n",
       "  </div>\n",
       "  "
      ],
      "text/plain": [
       "    age  balance  pdays  previous  result  job_admin.  job_blue-collar  \\\n",
       "0  50.0     1857   -1.0         0       0           0                0   \n",
       "1  37.0      363   -1.0         0       0           0                0   \n",
       "2  35.0      422   -1.0         0       0           0                1   \n",
       "\n",
       "   job_entrepreneur  job_housemaid  job_management  ...  default_no  \\\n",
       "0                 1              0               0  ...           1   \n",
       "1                 0              0               0  ...           1   \n",
       "2                 0              0               0  ...           1   \n",
       "\n",
       "   default_yes  housing_no  housing_yes  loan_no  loan_yes  poutcome_failure  \\\n",
       "0            0           1            0        0         1                 0   \n",
       "1            0           0            1        1         0                 0   \n",
       "2            0           0            1        1         0                 0   \n",
       "\n",
       "   poutcome_other  poutcome_success  poutcome_unknown  \n",
       "0               0                 0                 1  \n",
       "1               0                 0                 1  \n",
       "2               0                 0                 1  \n",
       "\n",
       "[3 rows x 34 columns]"
      ]
     },
     "execution_count": 8,
     "metadata": {},
     "output_type": "execute_result"
    }
   ],
   "source": [
    "# 全部 One-Hot Encoding\n",
    "df = pd.get_dummies(df)\n",
    "df.head(3)"
   ]
  },
  {
   "cell_type": "markdown",
   "metadata": {
    "id": "ya3KYN1zofDt"
   },
   "source": [
    "### モデルの構築"
   ]
  },
  {
   "cell_type": "code",
   "execution_count": null,
   "metadata": {
    "id": "c-lT2fNgomOB"
   },
   "outputs": [],
   "source": [
    "t = df['result'].values\n",
    "x = df.drop(['result'], axis=1).values"
   ]
  },
  {
   "cell_type": "markdown",
   "metadata": {
    "id": "bJObD1mcoqb9"
   },
   "source": [
    "前処理が少なくて済む決定木でベースモデルを作成します。"
   ]
  },
  {
   "cell_type": "code",
   "execution_count": null,
   "metadata": {
    "id": "3EQVZJdZortX"
   },
   "outputs": [],
   "source": [
    "# モデルの宣言\n",
    "from sklearn.tree import DecisionTreeClassifier\n",
    "model = DecisionTreeClassifier(random_state=0)"
   ]
  },
  {
   "cell_type": "code",
   "execution_count": null,
   "metadata": {
    "id": "V-IsQ1khSta0"
   },
   "outputs": [],
   "source": [
    "from sklearn.model_selection import train_test_split\n",
    "x_train, x_val, t_train, t_val = train_test_split(x, t, test_size=0.3, random_state=0)"
   ]
  },
  {
   "cell_type": "code",
   "execution_count": null,
   "metadata": {
    "colab": {
     "base_uri": "https://localhost:8080/"
    },
    "id": "y52KTxt4otfN",
    "outputId": "ad67a6c3-5f0c-4f14-dfe2-917ce1ef04d2"
   },
   "outputs": [
    {
     "data": {
      "text/plain": [
       "DecisionTreeClassifier(random_state=0)"
      ]
     },
     "execution_count": 12,
     "metadata": {},
     "output_type": "execute_result"
    }
   ],
   "source": [
    "# モデルの学習\n",
    "model.fit(x_train, t_train)"
   ]
  },
  {
   "cell_type": "code",
   "execution_count": null,
   "metadata": {
    "colab": {
     "base_uri": "https://localhost:8080/"
    },
    "id": "4ajt5DJzovlD",
    "outputId": "993bfc0c-b8f4-4638-86fa-bc2a06d55df9"
   },
   "outputs": [
    {
     "name": "stdout",
     "output_type": "stream",
     "text": [
      "0.9992494370778083\n",
      "0.8114419147694104\n"
     ]
    }
   ],
   "source": [
    "# ベースモデルの検証\n",
    "print(model.score(x_train, t_train))\n",
    "print(model.score(x_val, t_val))"
   ]
  },
  {
   "cell_type": "markdown",
   "metadata": {
    "id": "NUec4DoeoxPh"
   },
   "source": [
    "### Feature Importance の確認"
   ]
  },
  {
   "cell_type": "code",
   "execution_count": null,
   "metadata": {
    "colab": {
     "base_uri": "https://localhost:8080/",
     "height": 610
    },
    "id": "KbVi5uxSo3Ne",
    "outputId": "7e9ebc5b-2add-46f2-d7b3-ba16a9128f22"
   },
   "outputs": [
    {
     "data": {
      "text/plain": [
       "<BarContainer object of 33 artists>"
      ]
     },
     "execution_count": 14,
     "metadata": {},
     "output_type": "execute_result"
    },
    {
     "data": {
      "image/png": "[encoded data removed]",
      "text/plain": [
       "<Figure size 720x720 with 1 Axes>"
      ]
     },
     "metadata": {
      "needs_background": "light"
     },
     "output_type": "display_data"
    }
   ],
   "source": [
    "# 特徴量重要度の確認\n",
    "feature_importance = model.feature_importances_\n",
    "\n",
    "# 目的変数削除し、説明変数のみとする\n",
    "labels = df.drop('result', axis=1).columns.tolist()\n",
    "\n",
    "plt.figure(figsize=(10,10))\n",
    "plt.barh(labels, feature_importance)"
   ]
  },
  {
   "cell_type": "markdown",
   "metadata": {
    "id": "tkLEjvlJo6NP"
   },
   "source": [
    "ベースモデルの結果から、正解率の値に開きがあり、少し過学習気味のである事がわかります。\n",
    "下記の3つのアプローチでこの結果を改善できるか試行錯誤してみます。\n",
    "\n",
    "- データへのアプローチ（前処理）\n",
    "\n",
    "- モデルへのアプローチ（ハイパーパラメータのチューニング）\n",
    "\n",
    "- 手法へのアプローチ（手法の選択）"
   ]
  },
  {
   "cell_type": "markdown",
   "metadata": {
    "id": "VA_hA1GTo-A6"
   },
   "source": [
    "## データへのアプローチ"
   ]
  },
  {
   "cell_type": "markdown",
   "metadata": {
    "id": "ndOFy-jepO1P"
   },
   "source": [
    "欠損値やカテゴリカル変数へのアプローチを工夫して、精度がどのように変化するのか確認します。  \n",
    "実問題では、基本的には欠損値が含まれていたとしても、推論する必要があります。  \n",
    "そのため、行方向への欠損値除去は用いずにサンプルを保持したまま学習する方が望ましいです。  \n",
    "今回は全ての欠損値を補完していきます。"
   ]
  },
  {
   "cell_type": "code",
   "execution_count": null,
   "metadata": {
    "colab": {
     "base_uri": "https://localhost:8080/",
     "height": 143
    },
    "id": "dWP771OlpQsW",
    "outputId": "644309fa-8073-4f8f-e4b9-8ef9eeb0e71e"
   },
   "outputs": [
    {
     "data": {
      "text/html": [
       "\n",
       "  <div id=\"df-b64a076e-915a-4060-a63d-2a7f39e50dae\">\n",
       "    <div class=\"colab-df-container\">\n",
       "      <div>\n",
       "<style scoped>\n",
       "    .dataframe tbody tr th:only-of-type {\n",
       "        vertical-align: middle;\n",
       "    }\n",
       "\n",
       "    .dataframe tbody tr th {\n",
       "        vertical-align: top;\n",
       "    }\n",
       "\n",
       "    .dataframe thead th {\n",
       "        text-align: right;\n",
       "    }\n",
       "</style>\n",
       "<table border=\"1\" class=\"dataframe\">\n",
       "  <thead>\n",
       "    <tr style=\"text-align: right;\">\n",
       "      <th></th>\n",
       "      <th>age</th>\n",
       "      <th>job</th>\n",
       "      <th>marital</th>\n",
       "      <th>education</th>\n",
       "      <th>default</th>\n",
       "      <th>balance</th>\n",
       "      <th>housing</th>\n",
       "      <th>loan</th>\n",
       "      <th>pdays</th>\n",
       "      <th>previous</th>\n",
       "      <th>poutcome</th>\n",
       "      <th>result</th>\n",
       "    </tr>\n",
       "  </thead>\n",
       "  <tbody>\n",
       "    <tr>\n",
       "      <th>0</th>\n",
       "      <td>50.0</td>\n",
       "      <td>entrepreneur</td>\n",
       "      <td>married</td>\n",
       "      <td>secondary</td>\n",
       "      <td>no</td>\n",
       "      <td>1857</td>\n",
       "      <td>no</td>\n",
       "      <td>yes</td>\n",
       "      <td>-1.0</td>\n",
       "      <td>0</td>\n",
       "      <td>unknown</td>\n",
       "      <td>fail</td>\n",
       "    </tr>\n",
       "    <tr>\n",
       "      <th>1</th>\n",
       "      <td>37.0</td>\n",
       "      <td>technician</td>\n",
       "      <td>single</td>\n",
       "      <td>secondary</td>\n",
       "      <td>no</td>\n",
       "      <td>363</td>\n",
       "      <td>yes</td>\n",
       "      <td>no</td>\n",
       "      <td>-1.0</td>\n",
       "      <td>0</td>\n",
       "      <td>unknown</td>\n",
       "      <td>fail</td>\n",
       "    </tr>\n",
       "    <tr>\n",
       "      <th>2</th>\n",
       "      <td>35.0</td>\n",
       "      <td>blue-collar</td>\n",
       "      <td>married</td>\n",
       "      <td>primary</td>\n",
       "      <td>no</td>\n",
       "      <td>422</td>\n",
       "      <td>yes</td>\n",
       "      <td>no</td>\n",
       "      <td>-1.0</td>\n",
       "      <td>0</td>\n",
       "      <td>unknown</td>\n",
       "      <td>fail</td>\n",
       "    </tr>\n",
       "  </tbody>\n",
       "</table>\n",
       "</div>\n",
       "      <button class=\"colab-df-convert\" onclick=\"convertToInteractive('df-b64a076e-915a-4060-a63d-2a7f39e50dae')\"\n",
       "              title=\"Convert this dataframe to an interactive table.\"\n",
       "              style=\"display:none;\">\n",
       "        \n",
       "  <svg xmlns=\"http://www.w3.org/2000/svg\" height=\"24px\"viewBox=\"0 0 24 24\"\n",
       "       width=\"24px\">\n",
       "    <path d=\"M0 0h24v24H0V0z\" fill=\"none\"/>\n",
       "    <path d=\"M18.56 5.44l.94 2.06.94-2.06 2.06-.94-2.06-.94-.94-2.06-.94 2.06-2.06.94zm-11 1L8.5 8.5l.94-2.06 2.06-.94-2.06-.94L8.5 2.5l-.94 2.06-2.06.94zm10 10l.94 2.06.94-2.06 2.06-.94-2.06-.94-.94-2.06-.94 2.06-2.06.94z\"/><path d=\"M17.41 7.96l-1.37-1.37c-.4-.4-.92-.59-1.43-.59-.52 0-1.04.2-1.43.59L10.3 9.45l-7.72 7.72c-.78.78-.78 2.05 0 2.83L4 21.41c.39.39.9.59 1.41.59.51 0 1.02-.2 1.41-.59l7.78-7.78 2.81-2.81c.8-.78.8-2.07 0-2.86zM5.41 20L4 18.59l7.72-7.72 1.47 1.35L5.41 20z\"/>\n",
       "  </svg>\n",
       "      </button>\n",
       "      \n",
       "  <style>\n",
       "    .colab-df-container {\n",
       "      display:flex;\n",
       "      flex-wrap:wrap;\n",
       "      gap: 12px;\n",
       "    }\n",
       "\n",
       "    .colab-df-convert {\n",
       "      background-color: #E8F0FE;\n",
       "      border: none;\n",
       "      border-radius: 50%;\n",
       "      cursor: pointer;\n",
       "      display: none;\n",
       "      fill: #1967D2;\n",
       "      height: 32px;\n",
       "      padding: 0 0 0 0;\n",
       "      width: 32px;\n",
       "    }\n",
       "\n",
       "    .colab-df-convert:hover {\n",
       "      background-color: #E2EBFA;\n",
       "      box-shadow: 0px 1px 2px rgba(60, 64, 67, 0.3), 0px 1px 3px 1px rgba(60, 64, 67, 0.15);\n",
       "      fill: #174EA6;\n",
       "    }\n",
       "\n",
       "    [theme=dark] .colab-df-convert {\n",
       "      background-color: #3B4455;\n",
       "      fill: #D2E3FC;\n",
       "    }\n",
       "\n",
       "    [theme=dark] .colab-df-convert:hover {\n",
       "      background-color: #434B5C;\n",
       "      box-shadow: 0px 1px 3px 1px rgba(0, 0, 0, 0.15);\n",
       "      filter: drop-shadow(0px 1px 2px rgba(0, 0, 0, 0.3));\n",
       "      fill: #FFFFFF;\n",
       "    }\n",
       "  </style>\n",
       "\n",
       "      <script>\n",
       "        const buttonEl =\n",
       "          document.querySelector('#df-b64a076e-915a-4060-a63d-2a7f39e50dae button.colab-df-convert');\n",
       "        buttonEl.style.display =\n",
       "          google.colab.kernel.accessAllowed ? 'block' : 'none';\n",
       "\n",
       "        async function convertToInteractive(key) {\n",
       "          const element = document.querySelector('#df-b64a076e-915a-4060-a63d-2a7f39e50dae');\n",
       "          const dataTable =\n",
       "            await google.colab.kernel.invokeFunction('convertToInteractive',\n",
       "                                                     [key], {});\n",
       "          if (!dataTable) return;\n",
       "\n",
       "          const docLinkHtml = 'Like what you see? Visit the ' +\n",
       "            '<a target=\"_blank\" href=https://colab.research.google.com/notebooks/data_table.ipynb>data table notebook</a>'\n",
       "            + ' to learn more about interactive tables.';\n",
       "          element.innerHTML = '';\n",
       "          dataTable['output_type'] = 'display_data';\n",
       "          await google.colab.output.renderOutput(dataTable, element);\n",
       "          const docLink = document.createElement('div');\n",
       "          docLink.innerHTML = docLinkHtml;\n",
       "          element.appendChild(docLink);\n",
       "        }\n",
       "      </script>\n",
       "    </div>\n",
       "  </div>\n",
       "  "
      ],
      "text/plain": [
       "    age           job  marital  education default  balance housing loan  \\\n",
       "0  50.0  entrepreneur  married  secondary      no     1857      no  yes   \n",
       "1  37.0    technician   single  secondary      no      363     yes   no   \n",
       "2  35.0   blue-collar  married    primary      no      422     yes   no   \n",
       "\n",
       "   pdays  previous poutcome result  \n",
       "0   -1.0         0  unknown   fail  \n",
       "1   -1.0         0  unknown   fail  \n",
       "2   -1.0         0  unknown   fail  "
      ]
     },
     "execution_count": 15,
     "metadata": {},
     "output_type": "execute_result"
    }
   ],
   "source": [
    "# データフレームの読み込み\n",
    "df2 = pd.read_csv('/content/bank_train.csv')\n",
    "df2.head(3)"
   ]
  },
  {
   "cell_type": "markdown",
   "metadata": {
    "id": "F9RjZECIpYDg"
   },
   "source": [
    "### 欠損値補完"
   ]
  },
  {
   "cell_type": "code",
   "execution_count": null,
   "metadata": {
    "colab": {
     "base_uri": "https://localhost:8080/"
    },
    "id": "MJUDhw0Dpb5f",
    "outputId": "c6d721a1-e708-42f6-dd53-56c6e98387f8"
   },
   "outputs": [
    {
     "data": {
      "text/plain": [
       "age           90\n",
       "job            3\n",
       "marital       89\n",
       "education      0\n",
       "default       29\n",
       "balance        0\n",
       "housing       61\n",
       "loan         217\n",
       "pdays         36\n",
       "previous       0\n",
       "poutcome     250\n",
       "result         0\n",
       "dtype: int64"
      ]
     },
     "execution_count": 16,
     "metadata": {},
     "output_type": "execute_result"
    }
   ],
   "source": [
    "# 欠損値の確認\n",
    "nullsum = df2.isnull().sum()\n",
    "nullsum"
   ]
  },
  {
   "cell_type": "markdown",
   "metadata": {
    "id": "vtfC3ugwpd-M"
   },
   "source": [
    "#### Job の欠損値補完\n",
    "\n",
    "職業を表す、 `job` の欠損値補完を行います。\n",
    "まずはデータを確認しましょう。"
   ]
  },
  {
   "cell_type": "code",
   "execution_count": null,
   "metadata": {
    "colab": {
     "base_uri": "https://localhost:8080/",
     "height": 461
    },
    "id": "5EURsk-ipgoe",
    "outputId": "5cd7fdb8-40fa-4f5c-806b-97bad80e2ba5"
   },
   "outputs": [
    {
     "name": "stderr",
     "output_type": "stream",
     "text": [
      "/usr/local/lib/python3.7/dist-packages/seaborn/_decorators.py:43: FutureWarning: Pass the following variable as a keyword arg: x. From version 0.12, the only valid positional argument will be `data`, and passing other arguments without an explicit keyword will result in an error or misinterpretation.\n",
      "  FutureWarning\n"
     ]
    },
    {
     "data": {
      "text/plain": [
       "<matplotlib.axes._subplots.AxesSubplot at 0x7fcb6c1a8a90>"
      ]
     },
     "execution_count": 17,
     "metadata": {},
     "output_type": "execute_result"
    },
    {
     "data": {
      "image/png": "[encoded data removed]",
      "text/plain": [
       "<Figure size 1080x432 with 1 Axes>"
      ]
     },
     "metadata": {
      "needs_background": "light"
     },
     "output_type": "display_data"
    }
   ],
   "source": [
    "plt.figure(figsize=(15, 6))\n",
    "sns.countplot(df2['job'])"
   ]
  },
  {
   "cell_type": "markdown",
   "metadata": {
    "id": "693zQg08pkOZ"
   },
   "source": [
    "データの中に `unknown` というものがあるので、そちらで補完しましょう。"
   ]
  },
  {
   "cell_type": "code",
   "execution_count": null,
   "metadata": {
    "colab": {
     "base_uri": "https://localhost:8080/"
    },
    "id": "IZeV_vnzpxx4",
    "outputId": "70fe0cc1-ed31-463f-da70-9124a21e13d1"
   },
   "outputs": [
    {
     "data": {
      "text/plain": [
       "age           90\n",
       "job            0\n",
       "marital       89\n",
       "education      0\n",
       "default       29\n",
       "balance        0\n",
       "housing       61\n",
       "loan         217\n",
       "pdays         36\n",
       "previous       0\n",
       "poutcome     250\n",
       "result         0\n",
       "dtype: int64"
      ]
     },
     "execution_count": 18,
     "metadata": {},
     "output_type": "execute_result"
    }
   ],
   "source": [
    "df2 = df2.fillna({'job':'unknown'})\n",
    "df2.isnull().sum()"
   ]
  },
  {
   "cell_type": "markdown",
   "metadata": {
    "id": "drusMQCCpz87"
   },
   "source": [
    "#### Age の欠損値補完"
   ]
  },
  {
   "cell_type": "code",
   "execution_count": null,
   "metadata": {
    "colab": {
     "base_uri": "https://localhost:8080/",
     "height": 352
    },
    "id": "GMKxIHb5p3ju",
    "outputId": "002c9935-9010-4229-9420-b28d29f703de"
   },
   "outputs": [
    {
     "name": "stderr",
     "output_type": "stream",
     "text": [
      "/usr/local/lib/python3.7/dist-packages/seaborn/distributions.py:2619: FutureWarning: `distplot` is a deprecated function and will be removed in a future version. Please adapt your code to use either `displot` (a figure-level function with similar flexibility) or `histplot` (an axes-level function for histograms).\n",
      "  warnings.warn(msg, FutureWarning)\n"
     ]
    },
    {
     "data": {
      "text/plain": [
       "<matplotlib.axes._subplots.AxesSubplot at 0x7fcb6bc4fcd0>"
      ]
     },
     "execution_count": 19,
     "metadata": {},
     "output_type": "execute_result"
    },
    {
     "data": {
      "image/png": "[encoded data removed]",
      "text/plain": [
       "<Figure size 432x288 with 1 Axes>"
      ]
     },
     "metadata": {
      "needs_background": "light"
     },
     "output_type": "display_data"
    }
   ],
   "source": [
    "sns.distplot(df2['age'].dropna())"
   ]
  },
  {
   "cell_type": "markdown",
   "metadata": {
    "id": "hGH02CXZp4sL"
   },
   "source": [
    "データの総数からみて、欠損の値の数が多くないようなので、一度平均値で補完して問題ないか確認します。"
   ]
  },
  {
   "cell_type": "code",
   "execution_count": null,
   "metadata": {
    "colab": {
     "base_uri": "https://localhost:8080/",
     "height": 352
    },
    "id": "G2ANThZip9sO",
    "outputId": "7a0bc6f9-c934-40ce-eba5-2a39c284fb2d"
   },
   "outputs": [
    {
     "name": "stderr",
     "output_type": "stream",
     "text": [
      "/usr/local/lib/python3.7/dist-packages/seaborn/distributions.py:2619: FutureWarning: `distplot` is a deprecated function and will be removed in a future version. Please adapt your code to use either `displot` (a figure-level function with similar flexibility) or `histplot` (an axes-level function for histograms).\n",
      "  warnings.warn(msg, FutureWarning)\n"
     ]
    },
    {
     "data": {
      "text/plain": [
       "<matplotlib.axes._subplots.AxesSubplot at 0x7fcb6bb85bd0>"
      ]
     },
     "execution_count": 20,
     "metadata": {},
     "output_type": "execute_result"
    },
    {
     "data": {
      "image/png": "[encoded data removed]",
      "text/plain": [
       "<Figure size 432x288 with 1 Axes>"
      ]
     },
     "metadata": {
      "needs_background": "light"
     },
     "output_type": "display_data"
    }
   ],
   "source": [
    "# 平均値で補完\n",
    "df2 = df2.fillna({'age':df['age'].mean()})\n",
    "sns.distplot(df2['age'])"
   ]
  },
  {
   "cell_type": "markdown",
   "metadata": {
    "id": "W-SNnWpoqACy"
   },
   "source": [
    "分布にも大きな乱れはなく、正規分布に少し近づいた形になりました。"
   ]
  },
  {
   "cell_type": "code",
   "execution_count": null,
   "metadata": {
    "colab": {
     "base_uri": "https://localhost:8080/"
    },
    "id": "ZTSwXHjSqCMM",
    "outputId": "5ff190d4-162d-4a90-8290-a375a6d3fae8"
   },
   "outputs": [
    {
     "data": {
      "text/plain": [
       "age            0\n",
       "job            0\n",
       "marital       89\n",
       "education      0\n",
       "default       29\n",
       "balance        0\n",
       "housing       61\n",
       "loan         217\n",
       "pdays         36\n",
       "previous       0\n",
       "poutcome     250\n",
       "result         0\n",
       "dtype: int64"
      ]
     },
     "execution_count": 21,
     "metadata": {},
     "output_type": "execute_result"
    }
   ],
   "source": [
    "# 欠損値の確認\n",
    "df2.isnull().sum()"
   ]
  },
  {
   "cell_type": "markdown",
   "metadata": {
    "id": "36vB53pwqE_X"
   },
   "source": [
    "#### Marital の欠損値補完"
   ]
  },
  {
   "cell_type": "code",
   "execution_count": null,
   "metadata": {
    "colab": {
     "base_uri": "https://localhost:8080/"
    },
    "id": "_bBjUBWZqINn",
    "outputId": "bc8cbec7-5858-4bf6-f976-5346cf6e4461"
   },
   "outputs": [
    {
     "data": {
      "text/plain": [
       "array(['married', 'single', 'divorced', nan], dtype=object)"
      ]
     },
     "execution_count": 22,
     "metadata": {},
     "output_type": "execute_result"
    }
   ],
   "source": [
    "# 値の確認\n",
    "df2['marital'].unique()"
   ]
  },
  {
   "cell_type": "markdown",
   "metadata": {
    "id": "d4UR8UV2qJf1"
   },
   "source": [
    "`martial` が表しているのは、結婚、独身、離婚の3つのカテゴリーです。  \n",
    "この指標に関しては年齢や職業が大きく関連しているように考えることができそうです。  \n",
    "では、実験的に職業で考えてみましょう。"
   ]
  },
  {
   "cell_type": "markdown",
   "metadata": {
    "id": "Ic7MdGRbqM8Q"
   },
   "source": [
    "まずは `crosstab` （クロス集計表）を使用して数値の関係性を確認してみます。  \n",
    "その前にどの職業で `NaN` なのか確認してみましょう。"
   ]
  },
  {
   "cell_type": "code",
   "execution_count": null,
   "metadata": {
    "colab": {
     "base_uri": "https://localhost:8080/",
     "height": 112
    },
    "id": "2sleZSJwqSKa",
    "outputId": "a72f5d17-e6b6-4ef1-f3f1-3576826bcad6"
   },
   "outputs": [
    {
     "data": {
      "text/html": [
       "\n",
       "  <div id=\"df-c808f398-4a7b-48ad-b04e-0f1c5187f4ef\">\n",
       "    <div class=\"colab-df-container\">\n",
       "      <div>\n",
       "<style scoped>\n",
       "    .dataframe tbody tr th:only-of-type {\n",
       "        vertical-align: middle;\n",
       "    }\n",
       "\n",
       "    .dataframe tbody tr th {\n",
       "        vertical-align: top;\n",
       "    }\n",
       "\n",
       "    .dataframe thead th {\n",
       "        text-align: right;\n",
       "    }\n",
       "</style>\n",
       "<table border=\"1\" class=\"dataframe\">\n",
       "  <thead>\n",
       "    <tr style=\"text-align: right;\">\n",
       "      <th></th>\n",
       "      <th>job</th>\n",
       "      <th>marital</th>\n",
       "    </tr>\n",
       "  </thead>\n",
       "  <tbody>\n",
       "    <tr>\n",
       "      <th>66</th>\n",
       "      <td>blue-collar</td>\n",
       "      <td>NaN</td>\n",
       "    </tr>\n",
       "    <tr>\n",
       "      <th>69</th>\n",
       "      <td>blue-collar</td>\n",
       "      <td>NaN</td>\n",
       "    </tr>\n",
       "  </tbody>\n",
       "</table>\n",
       "</div>\n",
       "      <button class=\"colab-df-convert\" onclick=\"convertToInteractive('df-c808f398-4a7b-48ad-b04e-0f1c5187f4ef')\"\n",
       "              title=\"Convert this dataframe to an interactive table.\"\n",
       "              style=\"display:none;\">\n",
       "        \n",
       "  <svg xmlns=\"http://www.w3.org/2000/svg\" height=\"24px\"viewBox=\"0 0 24 24\"\n",
       "       width=\"24px\">\n",
       "    <path d=\"M0 0h24v24H0V0z\" fill=\"none\"/>\n",
       "    <path d=\"M18.56 5.44l.94 2.06.94-2.06 2.06-.94-2.06-.94-.94-2.06-.94 2.06-2.06.94zm-11 1L8.5 8.5l.94-2.06 2.06-.94-2.06-.94L8.5 2.5l-.94 2.06-2.06.94zm10 10l.94 2.06.94-2.06 2.06-.94-2.06-.94-.94-2.06-.94 2.06-2.06.94z\"/><path d=\"M17.41 7.96l-1.37-1.37c-.4-.4-.92-.59-1.43-.59-.52 0-1.04.2-1.43.59L10.3 9.45l-7.72 7.72c-.78.78-.78 2.05 0 2.83L4 21.41c.39.39.9.59 1.41.59.51 0 1.02-.2 1.41-.59l7.78-7.78 2.81-2.81c.8-.78.8-2.07 0-2.86zM5.41 20L4 18.59l7.72-7.72 1.47 1.35L5.41 20z\"/>\n",
       "  </svg>\n",
       "      </button>\n",
       "      \n",
       "  <style>\n",
       "    .colab-df-container {\n",
       "      display:flex;\n",
       "      flex-wrap:wrap;\n",
       "      gap: 12px;\n",
       "    }\n",
       "\n",
       "    .colab-df-convert {\n",
       "      background-color: #E8F0FE;\n",
       "      border: none;\n",
       "      border-radius: 50%;\n",
       "      cursor: pointer;\n",
       "      display: none;\n",
       "      fill: #1967D2;\n",
       "      height: 32px;\n",
       "      padding: 0 0 0 0;\n",
       "      width: 32px;\n",
       "    }\n",
       "\n",
       "    .colab-df-convert:hover {\n",
       "      background-color: #E2EBFA;\n",
       "      box-shadow: 0px 1px 2px rgba(60, 64, 67, 0.3), 0px 1px 3px 1px rgba(60, 64, 67, 0.15);\n",
       "      fill: #174EA6;\n",
       "    }\n",
       "\n",
       "    [theme=dark] .colab-df-convert {\n",
       "      background-color: #3B4455;\n",
       "      fill: #D2E3FC;\n",
       "    }\n",
       "\n",
       "    [theme=dark] .colab-df-convert:hover {\n",
       "      background-color: #434B5C;\n",
       "      box-shadow: 0px 1px 3px 1px rgba(0, 0, 0, 0.15);\n",
       "      filter: drop-shadow(0px 1px 2px rgba(0, 0, 0, 0.3));\n",
       "      fill: #FFFFFF;\n",
       "    }\n",
       "  </style>\n",
       "\n",
       "      <script>\n",
       "        const buttonEl =\n",
       "          document.querySelector('#df-c808f398-4a7b-48ad-b04e-0f1c5187f4ef button.colab-df-convert');\n",
       "        buttonEl.style.display =\n",
       "          google.colab.kernel.accessAllowed ? 'block' : 'none';\n",
       "\n",
       "        async function convertToInteractive(key) {\n",
       "          const element = document.querySelector('#df-c808f398-4a7b-48ad-b04e-0f1c5187f4ef');\n",
       "          const dataTable =\n",
       "            await google.colab.kernel.invokeFunction('convertToInteractive',\n",
       "                                                     [key], {});\n",
       "          if (!dataTable) return;\n",
       "\n",
       "          const docLinkHtml = 'Like what you see? Visit the ' +\n",
       "            '<a target=\"_blank\" href=https://colab.research.google.com/notebooks/data_table.ipynb>data table notebook</a>'\n",
       "            + ' to learn more about interactive tables.';\n",
       "          element.innerHTML = '';\n",
       "          dataTable['output_type'] = 'display_data';\n",
       "          await google.colab.output.renderOutput(dataTable, element);\n",
       "          const docLink = document.createElement('div');\n",
       "          docLink.innerHTML = docLinkHtml;\n",
       "          element.appendChild(docLink);\n",
       "        }\n",
       "      </script>\n",
       "    </div>\n",
       "  </div>\n",
       "  "
      ],
      "text/plain": [
       "            job marital\n",
       "66  blue-collar     NaN\n",
       "69  blue-collar     NaN"
      ]
     },
     "execution_count": 23,
     "metadata": {},
     "output_type": "execute_result"
    }
   ],
   "source": [
    "# maritalがNaNのjobのデータを抽出\n",
    "marital_null = df2[df2['marital'].isnull()][['job', 'marital']]\n",
    "marital_null.head(2)"
   ]
  },
  {
   "cell_type": "code",
   "execution_count": null,
   "metadata": {
    "colab": {
     "base_uri": "https://localhost:8080/"
    },
    "id": "H-Bah2I4qUgN",
    "outputId": "002be267-cecf-4406-918a-1b2771ae70c6"
   },
   "outputs": [
    {
     "data": {
      "text/plain": [
       "array(['blue-collar', 'student'], dtype=object)"
      ]
     },
     "execution_count": 24,
     "metadata": {},
     "output_type": "execute_result"
    }
   ],
   "source": [
    "# jobの中でuniqueを確認\n",
    "marital_null['job'].unique()"
   ]
  },
  {
   "cell_type": "markdown",
   "metadata": {},
   "source": [
    "blue-collaer か student のいずれかで補完する。"
   ]
  },
  {
   "cell_type": "code",
   "execution_count": null,
   "metadata": {
    "colab": {
     "base_uri": "https://localhost:8080/",
     "height": 175
    },
    "id": "jXv3_B7zqWAS",
    "outputId": "f9f2710a-12a7-4525-98bb-7b39c09fd050"
   },
   "outputs": [
    {
     "data": {
      "text/html": [
       "\n",
       "  <div id=\"df-9cb6c209-2b56-433c-9095-89c5abd784bb\">\n",
       "    <div class=\"colab-df-container\">\n",
       "      <div>\n",
       "<style scoped>\n",
       "    .dataframe tbody tr th:only-of-type {\n",
       "        vertical-align: middle;\n",
       "    }\n",
       "\n",
       "    .dataframe tbody tr th {\n",
       "        vertical-align: top;\n",
       "    }\n",
       "\n",
       "    .dataframe thead th {\n",
       "        text-align: right;\n",
       "    }\n",
       "</style>\n",
       "<table border=\"1\" class=\"dataframe\">\n",
       "  <thead>\n",
       "    <tr style=\"text-align: right;\">\n",
       "      <th>job</th>\n",
       "      <th>admin.</th>\n",
       "      <th>blue-collar</th>\n",
       "      <th>entrepreneur</th>\n",
       "      <th>housemaid</th>\n",
       "      <th>management</th>\n",
       "      <th>retired</th>\n",
       "      <th>self-employed</th>\n",
       "      <th>services</th>\n",
       "      <th>student</th>\n",
       "      <th>technician</th>\n",
       "      <th>unemployed</th>\n",
       "      <th>unknown</th>\n",
       "    </tr>\n",
       "    <tr>\n",
       "      <th>marital</th>\n",
       "      <th></th>\n",
       "      <th></th>\n",
       "      <th></th>\n",
       "      <th></th>\n",
       "      <th></th>\n",
       "      <th></th>\n",
       "      <th></th>\n",
       "      <th></th>\n",
       "      <th></th>\n",
       "      <th></th>\n",
       "      <th></th>\n",
       "      <th></th>\n",
       "    </tr>\n",
       "  </thead>\n",
       "  <tbody>\n",
       "    <tr>\n",
       "      <th>divorced</th>\n",
       "      <td>111</td>\n",
       "      <td>112</td>\n",
       "      <td>36</td>\n",
       "      <td>27</td>\n",
       "      <td>145</td>\n",
       "      <td>52</td>\n",
       "      <td>17</td>\n",
       "      <td>80</td>\n",
       "      <td>0</td>\n",
       "      <td>112</td>\n",
       "      <td>20</td>\n",
       "      <td>6</td>\n",
       "    </tr>\n",
       "    <tr>\n",
       "      <th>married</th>\n",
       "      <td>358</td>\n",
       "      <td>960</td>\n",
       "      <td>175</td>\n",
       "      <td>112</td>\n",
       "      <td>769</td>\n",
       "      <td>255</td>\n",
       "      <td>139</td>\n",
       "      <td>333</td>\n",
       "      <td>8</td>\n",
       "      <td>591</td>\n",
       "      <td>100</td>\n",
       "      <td>39</td>\n",
       "    </tr>\n",
       "    <tr>\n",
       "      <th>single</th>\n",
       "      <td>241</td>\n",
       "      <td>300</td>\n",
       "      <td>31</td>\n",
       "      <td>20</td>\n",
       "      <td>421</td>\n",
       "      <td>19</td>\n",
       "      <td>69</td>\n",
       "      <td>187</td>\n",
       "      <td>86</td>\n",
       "      <td>340</td>\n",
       "      <td>48</td>\n",
       "      <td>8</td>\n",
       "    </tr>\n",
       "  </tbody>\n",
       "</table>\n",
       "</div>\n",
       "      <button class=\"colab-df-convert\" onclick=\"convertToInteractive('df-9cb6c209-2b56-433c-9095-89c5abd784bb')\"\n",
       "              title=\"Convert this dataframe to an interactive table.\"\n",
       "              style=\"display:none;\">\n",
       "        \n",
       "  <svg xmlns=\"http://www.w3.org/2000/svg\" height=\"24px\"viewBox=\"0 0 24 24\"\n",
       "       width=\"24px\">\n",
       "    <path d=\"M0 0h24v24H0V0z\" fill=\"none\"/>\n",
       "    <path d=\"M18.56 5.44l.94 2.06.94-2.06 2.06-.94-2.06-.94-.94-2.06-.94 2.06-2.06.94zm-11 1L8.5 8.5l.94-2.06 2.06-.94-2.06-.94L8.5 2.5l-.94 2.06-2.06.94zm10 10l.94 2.06.94-2.06 2.06-.94-2.06-.94-.94-2.06-.94 2.06-2.06.94z\"/><path d=\"M17.41 7.96l-1.37-1.37c-.4-.4-.92-.59-1.43-.59-.52 0-1.04.2-1.43.59L10.3 9.45l-7.72 7.72c-.78.78-.78 2.05 0 2.83L4 21.41c.39.39.9.59 1.41.59.51 0 1.02-.2 1.41-.59l7.78-7.78 2.81-2.81c.8-.78.8-2.07 0-2.86zM5.41 20L4 18.59l7.72-7.72 1.47 1.35L5.41 20z\"/>\n",
       "  </svg>\n",
       "      </button>\n",
       "      \n",
       "  <style>\n",
       "    .colab-df-container {\n",
       "      display:flex;\n",
       "      flex-wrap:wrap;\n",
       "      gap: 12px;\n",
       "    }\n",
       "\n",
       "    .colab-df-convert {\n",
       "      background-color: #E8F0FE;\n",
       "      border: none;\n",
       "      border-radius: 50%;\n",
       "      cursor: pointer;\n",
       "      display: none;\n",
       "      fill: #1967D2;\n",
       "      height: 32px;\n",
       "      padding: 0 0 0 0;\n",
       "      width: 32px;\n",
       "    }\n",
       "\n",
       "    .colab-df-convert:hover {\n",
       "      background-color: #E2EBFA;\n",
       "      box-shadow: 0px 1px 2px rgba(60, 64, 67, 0.3), 0px 1px 3px 1px rgba(60, 64, 67, 0.15);\n",
       "      fill: #174EA6;\n",
       "    }\n",
       "\n",
       "    [theme=dark] .colab-df-convert {\n",
       "      background-color: #3B4455;\n",
       "      fill: #D2E3FC;\n",
       "    }\n",
       "\n",
       "    [theme=dark] .colab-df-convert:hover {\n",
       "      background-color: #434B5C;\n",
       "      box-shadow: 0px 1px 3px 1px rgba(0, 0, 0, 0.15);\n",
       "      filter: drop-shadow(0px 1px 2px rgba(0, 0, 0, 0.3));\n",
       "      fill: #FFFFFF;\n",
       "    }\n",
       "  </style>\n",
       "\n",
       "      <script>\n",
       "        const buttonEl =\n",
       "          document.querySelector('#df-9cb6c209-2b56-433c-9095-89c5abd784bb button.colab-df-convert');\n",
       "        buttonEl.style.display =\n",
       "          google.colab.kernel.accessAllowed ? 'block' : 'none';\n",
       "\n",
       "        async function convertToInteractive(key) {\n",
       "          const element = document.querySelector('#df-9cb6c209-2b56-433c-9095-89c5abd784bb');\n",
       "          const dataTable =\n",
       "            await google.colab.kernel.invokeFunction('convertToInteractive',\n",
       "                                                     [key], {});\n",
       "          if (!dataTable) return;\n",
       "\n",
       "          const docLinkHtml = 'Like what you see? Visit the ' +\n",
       "            '<a target=\"_blank\" href=https://colab.research.google.com/notebooks/data_table.ipynb>data table notebook</a>'\n",
       "            + ' to learn more about interactive tables.';\n",
       "          element.innerHTML = '';\n",
       "          dataTable['output_type'] = 'display_data';\n",
       "          await google.colab.output.renderOutput(dataTable, element);\n",
       "          const docLink = document.createElement('div');\n",
       "          docLink.innerHTML = docLinkHtml;\n",
       "          element.appendChild(docLink);\n",
       "        }\n",
       "      </script>\n",
       "    </div>\n",
       "  </div>\n",
       "  "
      ],
      "text/plain": [
       "job       admin.  blue-collar  entrepreneur  housemaid  management  retired  \\\n",
       "marital                                                                       \n",
       "divorced     111          112            36         27         145       52   \n",
       "married      358          960           175        112         769      255   \n",
       "single       241          300            31         20         421       19   \n",
       "\n",
       "job       self-employed  services  student  technician  unemployed  unknown  \n",
       "marital                                                                      \n",
       "divorced             17        80        0         112          20        6  \n",
       "married             139       333        8         591         100       39  \n",
       "single               69       187       86         340          48        8  "
      ]
     },
     "execution_count": 25,
     "metadata": {},
     "output_type": "execute_result"
    }
   ],
   "source": [
    "# crosstabで関係性を確認\n",
    "pd.crosstab(df2['marital'], df2['job'])"
   ]
  },
  {
   "cell_type": "markdown",
   "metadata": {
    "id": "DMgDbWDXqXUm"
   },
   "source": [
    "`student` は `single` である可能性が高そうです。  \n",
    "`blue-collar` は `married` で補完が妥当であるように感じます。"
   ]
  },
  {
   "cell_type": "markdown",
   "metadata": {
    "id": "a8wk1JcPqdrm"
   },
   "source": [
    "補完は今までの方法ではうまくいきません、条件文を適応する方法はいくつかありますが、  \n",
    "`loc` 関数を使用して、特定のデータを切り出し補完する値を代入する方法がわかりやすいかと思います。"
   ]
  },
  {
   "cell_type": "code",
   "execution_count": null,
   "metadata": {
    "colab": {
     "base_uri": "https://localhost:8080/",
     "height": 770
    },
    "id": "a34X7UsJqjqs",
    "outputId": "460accbb-dd56-4cb9-ea59-1e41a3754ce2"
   },
   "outputs": [
    {
     "data": {
      "text/html": [
       "\n",
       "  <div id=\"df-f96d4cfb-f5cf-4a48-a618-031ed85d9db7\">\n",
       "    <div class=\"colab-df-container\">\n",
       "      <div>\n",
       "<style scoped>\n",
       "    .dataframe tbody tr th:only-of-type {\n",
       "        vertical-align: middle;\n",
       "    }\n",
       "\n",
       "    .dataframe tbody tr th {\n",
       "        vertical-align: top;\n",
       "    }\n",
       "\n",
       "    .dataframe thead th {\n",
       "        text-align: right;\n",
       "    }\n",
       "</style>\n",
       "<table border=\"1\" class=\"dataframe\">\n",
       "  <thead>\n",
       "    <tr style=\"text-align: right;\">\n",
       "      <th></th>\n",
       "      <th>age</th>\n",
       "      <th>job</th>\n",
       "      <th>marital</th>\n",
       "      <th>education</th>\n",
       "      <th>default</th>\n",
       "      <th>balance</th>\n",
       "      <th>housing</th>\n",
       "      <th>loan</th>\n",
       "      <th>pdays</th>\n",
       "      <th>previous</th>\n",
       "      <th>poutcome</th>\n",
       "      <th>result</th>\n",
       "    </tr>\n",
       "  </thead>\n",
       "  <tbody>\n",
       "    <tr>\n",
       "      <th>516</th>\n",
       "      <td>31.0</td>\n",
       "      <td>student</td>\n",
       "      <td>NaN</td>\n",
       "      <td>tertiary</td>\n",
       "      <td>no</td>\n",
       "      <td>4951</td>\n",
       "      <td>no</td>\n",
       "      <td>no</td>\n",
       "      <td>-1.0</td>\n",
       "      <td>0</td>\n",
       "      <td>unknown</td>\n",
       "      <td>fail</td>\n",
       "    </tr>\n",
       "    <tr>\n",
       "      <th>547</th>\n",
       "      <td>26.0</td>\n",
       "      <td>student</td>\n",
       "      <td>NaN</td>\n",
       "      <td>secondary</td>\n",
       "      <td>no</td>\n",
       "      <td>1209</td>\n",
       "      <td>yes</td>\n",
       "      <td>no</td>\n",
       "      <td>-1.0</td>\n",
       "      <td>0</td>\n",
       "      <td>unknown</td>\n",
       "      <td>fail</td>\n",
       "    </tr>\n",
       "    <tr>\n",
       "      <th>555</th>\n",
       "      <td>24.0</td>\n",
       "      <td>student</td>\n",
       "      <td>NaN</td>\n",
       "      <td>secondary</td>\n",
       "      <td>no</td>\n",
       "      <td>597</td>\n",
       "      <td>yes</td>\n",
       "      <td>no</td>\n",
       "      <td>-1.0</td>\n",
       "      <td>0</td>\n",
       "      <td>unknown</td>\n",
       "      <td>success</td>\n",
       "    </tr>\n",
       "    <tr>\n",
       "      <th>606</th>\n",
       "      <td>23.0</td>\n",
       "      <td>student</td>\n",
       "      <td>NaN</td>\n",
       "      <td>tertiary</td>\n",
       "      <td>no</td>\n",
       "      <td>113</td>\n",
       "      <td>no</td>\n",
       "      <td>NaN</td>\n",
       "      <td>-1.0</td>\n",
       "      <td>0</td>\n",
       "      <td>unknown</td>\n",
       "      <td>success</td>\n",
       "    </tr>\n",
       "    <tr>\n",
       "      <th>1726</th>\n",
       "      <td>27.0</td>\n",
       "      <td>student</td>\n",
       "      <td>NaN</td>\n",
       "      <td>secondary</td>\n",
       "      <td>no</td>\n",
       "      <td>111</td>\n",
       "      <td>no</td>\n",
       "      <td>no</td>\n",
       "      <td>-1.0</td>\n",
       "      <td>0</td>\n",
       "      <td>unknown</td>\n",
       "      <td>success</td>\n",
       "    </tr>\n",
       "    <tr>\n",
       "      <th>2860</th>\n",
       "      <td>26.0</td>\n",
       "      <td>student</td>\n",
       "      <td>NaN</td>\n",
       "      <td>secondary</td>\n",
       "      <td>no</td>\n",
       "      <td>655</td>\n",
       "      <td>no</td>\n",
       "      <td>no</td>\n",
       "      <td>-1.0</td>\n",
       "      <td>0</td>\n",
       "      <td>unknown</td>\n",
       "      <td>success</td>\n",
       "    </tr>\n",
       "    <tr>\n",
       "      <th>3258</th>\n",
       "      <td>18.0</td>\n",
       "      <td>student</td>\n",
       "      <td>NaN</td>\n",
       "      <td>unknown</td>\n",
       "      <td>no</td>\n",
       "      <td>108</td>\n",
       "      <td>no</td>\n",
       "      <td>no</td>\n",
       "      <td>-1.0</td>\n",
       "      <td>0</td>\n",
       "      <td>unknown</td>\n",
       "      <td>success</td>\n",
       "    </tr>\n",
       "    <tr>\n",
       "      <th>3272</th>\n",
       "      <td>33.0</td>\n",
       "      <td>student</td>\n",
       "      <td>NaN</td>\n",
       "      <td>unknown</td>\n",
       "      <td>no</td>\n",
       "      <td>1170</td>\n",
       "      <td>no</td>\n",
       "      <td>no</td>\n",
       "      <td>-1.0</td>\n",
       "      <td>0</td>\n",
       "      <td>unknown</td>\n",
       "      <td>success</td>\n",
       "    </tr>\n",
       "    <tr>\n",
       "      <th>3291</th>\n",
       "      <td>23.0</td>\n",
       "      <td>student</td>\n",
       "      <td>NaN</td>\n",
       "      <td>secondary</td>\n",
       "      <td>no</td>\n",
       "      <td>480</td>\n",
       "      <td>no</td>\n",
       "      <td>no</td>\n",
       "      <td>182.0</td>\n",
       "      <td>1</td>\n",
       "      <td>failure</td>\n",
       "      <td>success</td>\n",
       "    </tr>\n",
       "    <tr>\n",
       "      <th>3321</th>\n",
       "      <td>22.0</td>\n",
       "      <td>student</td>\n",
       "      <td>NaN</td>\n",
       "      <td>unknown</td>\n",
       "      <td>no</td>\n",
       "      <td>3317</td>\n",
       "      <td>no</td>\n",
       "      <td>NaN</td>\n",
       "      <td>-1.0</td>\n",
       "      <td>0</td>\n",
       "      <td>unknown</td>\n",
       "      <td>fail</td>\n",
       "    </tr>\n",
       "    <tr>\n",
       "      <th>3422</th>\n",
       "      <td>19.0</td>\n",
       "      <td>student</td>\n",
       "      <td>NaN</td>\n",
       "      <td>unknown</td>\n",
       "      <td>no</td>\n",
       "      <td>60</td>\n",
       "      <td>no</td>\n",
       "      <td>NaN</td>\n",
       "      <td>-1.0</td>\n",
       "      <td>0</td>\n",
       "      <td>unknown</td>\n",
       "      <td>fail</td>\n",
       "    </tr>\n",
       "    <tr>\n",
       "      <th>4375</th>\n",
       "      <td>27.0</td>\n",
       "      <td>student</td>\n",
       "      <td>NaN</td>\n",
       "      <td>tertiary</td>\n",
       "      <td>no</td>\n",
       "      <td>118</td>\n",
       "      <td>no</td>\n",
       "      <td>no</td>\n",
       "      <td>98.0</td>\n",
       "      <td>1</td>\n",
       "      <td>failure</td>\n",
       "      <td>success</td>\n",
       "    </tr>\n",
       "    <tr>\n",
       "      <th>4399</th>\n",
       "      <td>26.0</td>\n",
       "      <td>student</td>\n",
       "      <td>NaN</td>\n",
       "      <td>tertiary</td>\n",
       "      <td>no</td>\n",
       "      <td>294</td>\n",
       "      <td>no</td>\n",
       "      <td>no</td>\n",
       "      <td>91.0</td>\n",
       "      <td>2</td>\n",
       "      <td>success</td>\n",
       "      <td>success</td>\n",
       "    </tr>\n",
       "    <tr>\n",
       "      <th>4909</th>\n",
       "      <td>28.0</td>\n",
       "      <td>student</td>\n",
       "      <td>NaN</td>\n",
       "      <td>secondary</td>\n",
       "      <td>no</td>\n",
       "      <td>205</td>\n",
       "      <td>no</td>\n",
       "      <td>no</td>\n",
       "      <td>184.0</td>\n",
       "      <td>2</td>\n",
       "      <td>other</td>\n",
       "      <td>success</td>\n",
       "    </tr>\n",
       "    <tr>\n",
       "      <th>5128</th>\n",
       "      <td>30.0</td>\n",
       "      <td>student</td>\n",
       "      <td>NaN</td>\n",
       "      <td>unknown</td>\n",
       "      <td>no</td>\n",
       "      <td>1232</td>\n",
       "      <td>yes</td>\n",
       "      <td>no</td>\n",
       "      <td>-1.0</td>\n",
       "      <td>0</td>\n",
       "      <td>unknown</td>\n",
       "      <td>fail</td>\n",
       "    </tr>\n",
       "    <tr>\n",
       "      <th>5226</th>\n",
       "      <td>28.0</td>\n",
       "      <td>student</td>\n",
       "      <td>NaN</td>\n",
       "      <td>secondary</td>\n",
       "      <td>no</td>\n",
       "      <td>1377</td>\n",
       "      <td>yes</td>\n",
       "      <td>no</td>\n",
       "      <td>-1.0</td>\n",
       "      <td>0</td>\n",
       "      <td>unknown</td>\n",
       "      <td>success</td>\n",
       "    </tr>\n",
       "    <tr>\n",
       "      <th>5336</th>\n",
       "      <td>27.0</td>\n",
       "      <td>student</td>\n",
       "      <td>NaN</td>\n",
       "      <td>secondary</td>\n",
       "      <td>no</td>\n",
       "      <td>672</td>\n",
       "      <td>no</td>\n",
       "      <td>no</td>\n",
       "      <td>-1.0</td>\n",
       "      <td>0</td>\n",
       "      <td>unknown</td>\n",
       "      <td>fail</td>\n",
       "    </tr>\n",
       "    <tr>\n",
       "      <th>5345</th>\n",
       "      <td>22.0</td>\n",
       "      <td>student</td>\n",
       "      <td>NaN</td>\n",
       "      <td>unknown</td>\n",
       "      <td>no</td>\n",
       "      <td>47</td>\n",
       "      <td>no</td>\n",
       "      <td>NaN</td>\n",
       "      <td>-1.0</td>\n",
       "      <td>0</td>\n",
       "      <td>unknown</td>\n",
       "      <td>fail</td>\n",
       "    </tr>\n",
       "    <tr>\n",
       "      <th>5379</th>\n",
       "      <td>26.0</td>\n",
       "      <td>student</td>\n",
       "      <td>NaN</td>\n",
       "      <td>tertiary</td>\n",
       "      <td>no</td>\n",
       "      <td>37</td>\n",
       "      <td>yes</td>\n",
       "      <td>no</td>\n",
       "      <td>-1.0</td>\n",
       "      <td>0</td>\n",
       "      <td>unknown</td>\n",
       "      <td>fail</td>\n",
       "    </tr>\n",
       "    <tr>\n",
       "      <th>5429</th>\n",
       "      <td>20.0</td>\n",
       "      <td>student</td>\n",
       "      <td>NaN</td>\n",
       "      <td>unknown</td>\n",
       "      <td>no</td>\n",
       "      <td>167</td>\n",
       "      <td>no</td>\n",
       "      <td>no</td>\n",
       "      <td>-1.0</td>\n",
       "      <td>0</td>\n",
       "      <td>unknown</td>\n",
       "      <td>fail</td>\n",
       "    </tr>\n",
       "    <tr>\n",
       "      <th>5557</th>\n",
       "      <td>25.0</td>\n",
       "      <td>student</td>\n",
       "      <td>NaN</td>\n",
       "      <td>unknown</td>\n",
       "      <td>no</td>\n",
       "      <td>3</td>\n",
       "      <td>no</td>\n",
       "      <td>no</td>\n",
       "      <td>-1.0</td>\n",
       "      <td>0</td>\n",
       "      <td>unknown</td>\n",
       "      <td>success</td>\n",
       "    </tr>\n",
       "    <tr>\n",
       "      <th>5561</th>\n",
       "      <td>27.0</td>\n",
       "      <td>student</td>\n",
       "      <td>NaN</td>\n",
       "      <td>tertiary</td>\n",
       "      <td>no</td>\n",
       "      <td>0</td>\n",
       "      <td>no</td>\n",
       "      <td>no</td>\n",
       "      <td>-1.0</td>\n",
       "      <td>0</td>\n",
       "      <td>unknown</td>\n",
       "      <td>success</td>\n",
       "    </tr>\n",
       "    <tr>\n",
       "      <th>5567</th>\n",
       "      <td>21.0</td>\n",
       "      <td>student</td>\n",
       "      <td>NaN</td>\n",
       "      <td>unknown</td>\n",
       "      <td>no</td>\n",
       "      <td>137</td>\n",
       "      <td>yes</td>\n",
       "      <td>no</td>\n",
       "      <td>-1.0</td>\n",
       "      <td>0</td>\n",
       "      <td>unknown</td>\n",
       "      <td>fail</td>\n",
       "    </tr>\n",
       "  </tbody>\n",
       "</table>\n",
       "</div>\n",
       "      <button class=\"colab-df-convert\" onclick=\"convertToInteractive('df-f96d4cfb-f5cf-4a48-a618-031ed85d9db7')\"\n",
       "              title=\"Convert this dataframe to an interactive table.\"\n",
       "              style=\"display:none;\">\n",
       "        \n",
       "  <svg xmlns=\"http://www.w3.org/2000/svg\" height=\"24px\"viewBox=\"0 0 24 24\"\n",
       "       width=\"24px\">\n",
       "    <path d=\"M0 0h24v24H0V0z\" fill=\"none\"/>\n",
       "    <path d=\"M18.56 5.44l.94 2.06.94-2.06 2.06-.94-2.06-.94-.94-2.06-.94 2.06-2.06.94zm-11 1L8.5 8.5l.94-2.06 2.06-.94-2.06-.94L8.5 2.5l-.94 2.06-2.06.94zm10 10l.94 2.06.94-2.06 2.06-.94-2.06-.94-.94-2.06-.94 2.06-2.06.94z\"/><path d=\"M17.41 7.96l-1.37-1.37c-.4-.4-.92-.59-1.43-.59-.52 0-1.04.2-1.43.59L10.3 9.45l-7.72 7.72c-.78.78-.78 2.05 0 2.83L4 21.41c.39.39.9.59 1.41.59.51 0 1.02-.2 1.41-.59l7.78-7.78 2.81-2.81c.8-.78.8-2.07 0-2.86zM5.41 20L4 18.59l7.72-7.72 1.47 1.35L5.41 20z\"/>\n",
       "  </svg>\n",
       "      </button>\n",
       "      \n",
       "  <style>\n",
       "    .colab-df-container {\n",
       "      display:flex;\n",
       "      flex-wrap:wrap;\n",
       "      gap: 12px;\n",
       "    }\n",
       "\n",
       "    .colab-df-convert {\n",
       "      background-color: #E8F0FE;\n",
       "      border: none;\n",
       "      border-radius: 50%;\n",
       "      cursor: pointer;\n",
       "      display: none;\n",
       "      fill: #1967D2;\n",
       "      height: 32px;\n",
       "      padding: 0 0 0 0;\n",
       "      width: 32px;\n",
       "    }\n",
       "\n",
       "    .colab-df-convert:hover {\n",
       "      background-color: #E2EBFA;\n",
       "      box-shadow: 0px 1px 2px rgba(60, 64, 67, 0.3), 0px 1px 3px 1px rgba(60, 64, 67, 0.15);\n",
       "      fill: #174EA6;\n",
       "    }\n",
       "\n",
       "    [theme=dark] .colab-df-convert {\n",
       "      background-color: #3B4455;\n",
       "      fill: #D2E3FC;\n",
       "    }\n",
       "\n",
       "    [theme=dark] .colab-df-convert:hover {\n",
       "      background-color: #434B5C;\n",
       "      box-shadow: 0px 1px 3px 1px rgba(0, 0, 0, 0.15);\n",
       "      filter: drop-shadow(0px 1px 2px rgba(0, 0, 0, 0.3));\n",
       "      fill: #FFFFFF;\n",
       "    }\n",
       "  </style>\n",
       "\n",
       "      <script>\n",
       "        const buttonEl =\n",
       "          document.querySelector('#df-f96d4cfb-f5cf-4a48-a618-031ed85d9db7 button.colab-df-convert');\n",
       "        buttonEl.style.display =\n",
       "          google.colab.kernel.accessAllowed ? 'block' : 'none';\n",
       "\n",
       "        async function convertToInteractive(key) {\n",
       "          const element = document.querySelector('#df-f96d4cfb-f5cf-4a48-a618-031ed85d9db7');\n",
       "          const dataTable =\n",
       "            await google.colab.kernel.invokeFunction('convertToInteractive',\n",
       "                                                     [key], {});\n",
       "          if (!dataTable) return;\n",
       "\n",
       "          const docLinkHtml = 'Like what you see? Visit the ' +\n",
       "            '<a target=\"_blank\" href=https://colab.research.google.com/notebooks/data_table.ipynb>data table notebook</a>'\n",
       "            + ' to learn more about interactive tables.';\n",
       "          element.innerHTML = '';\n",
       "          dataTable['output_type'] = 'display_data';\n",
       "          await google.colab.output.renderOutput(dataTable, element);\n",
       "          const docLink = document.createElement('div');\n",
       "          docLink.innerHTML = docLinkHtml;\n",
       "          element.appendChild(docLink);\n",
       "        }\n",
       "      </script>\n",
       "    </div>\n",
       "  </div>\n",
       "  "
      ],
      "text/plain": [
       "       age      job marital  education default  balance housing loan  pdays  \\\n",
       "516   31.0  student     NaN   tertiary      no     4951      no   no   -1.0   \n",
       "547   26.0  student     NaN  secondary      no     1209     yes   no   -1.0   \n",
       "555   24.0  student     NaN  secondary      no      597     yes   no   -1.0   \n",
       "606   23.0  student     NaN   tertiary      no      113      no  NaN   -1.0   \n",
       "1726  27.0  student     NaN  secondary      no      111      no   no   -1.0   \n",
       "2860  26.0  student     NaN  secondary      no      655      no   no   -1.0   \n",
       "3258  18.0  student     NaN    unknown      no      108      no   no   -1.0   \n",
       "3272  33.0  student     NaN    unknown      no     1170      no   no   -1.0   \n",
       "3291  23.0  student     NaN  secondary      no      480      no   no  182.0   \n",
       "3321  22.0  student     NaN    unknown      no     3317      no  NaN   -1.0   \n",
       "3422  19.0  student     NaN    unknown      no       60      no  NaN   -1.0   \n",
       "4375  27.0  student     NaN   tertiary      no      118      no   no   98.0   \n",
       "4399  26.0  student     NaN   tertiary      no      294      no   no   91.0   \n",
       "4909  28.0  student     NaN  secondary      no      205      no   no  184.0   \n",
       "5128  30.0  student     NaN    unknown      no     1232     yes   no   -1.0   \n",
       "5226  28.0  student     NaN  secondary      no     1377     yes   no   -1.0   \n",
       "5336  27.0  student     NaN  secondary      no      672      no   no   -1.0   \n",
       "5345  22.0  student     NaN    unknown      no       47      no  NaN   -1.0   \n",
       "5379  26.0  student     NaN   tertiary      no       37     yes   no   -1.0   \n",
       "5429  20.0  student     NaN    unknown      no      167      no   no   -1.0   \n",
       "5557  25.0  student     NaN    unknown      no        3      no   no   -1.0   \n",
       "5561  27.0  student     NaN   tertiary      no        0      no   no   -1.0   \n",
       "5567  21.0  student     NaN    unknown      no      137     yes   no   -1.0   \n",
       "\n",
       "      previous poutcome   result  \n",
       "516          0  unknown     fail  \n",
       "547          0  unknown     fail  \n",
       "555          0  unknown  success  \n",
       "606          0  unknown  success  \n",
       "1726         0  unknown  success  \n",
       "2860         0  unknown  success  \n",
       "3258         0  unknown  success  \n",
       "3272         0  unknown  success  \n",
       "3291         1  failure  success  \n",
       "3321         0  unknown     fail  \n",
       "3422         0  unknown     fail  \n",
       "4375         1  failure  success  \n",
       "4399         2  success  success  \n",
       "4909         2    other  success  \n",
       "5128         0  unknown     fail  \n",
       "5226         0  unknown  success  \n",
       "5336         0  unknown     fail  \n",
       "5345         0  unknown     fail  \n",
       "5379         0  unknown     fail  \n",
       "5429         0  unknown     fail  \n",
       "5557         0  unknown  success  \n",
       "5561         0  unknown  success  \n",
       "5567         0  unknown     fail  "
      ]
     },
     "execution_count": 26,
     "metadata": {},
     "output_type": "execute_result"
    }
   ],
   "source": [
    "# df.loc[条件文]で取得したいデータを指定　　> martial が null であり、job が student を抽出\n",
    "df2.loc[(df2['marital'].isnull()) & (df2['job'] == 'student')]"
   ]
  },
  {
   "cell_type": "code",
   "execution_count": null,
   "metadata": {
    "id": "DEmc_08KqlXj"
   },
   "outputs": [],
   "source": [
    "# df.loc[条件文, 列名] = 値で値を代入\n",
    "df2.loc[(df2['marital'].isnull()) & (df2['job'] == 'student'), 'marital'] = 'single' # student は single で補完\n",
    "df2.loc[(df2['marital'].isnull()) & (df2['job'] == 'blue-collar'), 'marital'] = 'married' # mattial は married で補完"
   ]
  },
  {
   "cell_type": "code",
   "execution_count": null,
   "metadata": {
    "colab": {
     "base_uri": "https://localhost:8080/"
    },
    "id": "ezKILxaWqoSW",
    "outputId": "2e2d89ac-2f7e-455d-a14c-3b58b858253e"
   },
   "outputs": [
    {
     "data": {
      "text/plain": [
       "age            0\n",
       "job            0\n",
       "marital        0\n",
       "education      0\n",
       "default       29\n",
       "balance        0\n",
       "housing       61\n",
       "loan         217\n",
       "pdays         36\n",
       "previous       0\n",
       "poutcome     250\n",
       "result         0\n",
       "dtype: int64"
      ]
     },
     "execution_count": 28,
     "metadata": {},
     "output_type": "execute_result"
    }
   ],
   "source": [
    "df2.isnull().sum()"
   ]
  },
  {
   "cell_type": "markdown",
   "metadata": {
    "id": "YTA4Ba37qp2_"
   },
   "source": [
    "#### Default の欠損値補完"
   ]
  },
  {
   "cell_type": "code",
   "execution_count": null,
   "metadata": {
    "colab": {
     "base_uri": "https://localhost:8080/",
     "height": 352
    },
    "id": "QHLXBI-AqtLR",
    "outputId": "37effdcc-6446-4d2a-f4d4-e266aa894113"
   },
   "outputs": [
    {
     "name": "stderr",
     "output_type": "stream",
     "text": [
      "/usr/local/lib/python3.7/dist-packages/seaborn/_decorators.py:43: FutureWarning: Pass the following variable as a keyword arg: x. From version 0.12, the only valid positional argument will be `data`, and passing other arguments without an explicit keyword will result in an error or misinterpretation.\n",
      "  FutureWarning\n"
     ]
    },
    {
     "data": {
      "text/plain": [
       "<matplotlib.axes._subplots.AxesSubplot at 0x7fcb69a5b310>"
      ]
     },
     "execution_count": 29,
     "metadata": {},
     "output_type": "execute_result"
    },
    {
     "data": {
      "image/png": "[encoded data removed]",
      "text/plain": [
       "<Figure size 432x288 with 1 Axes>"
      ]
     },
     "metadata": {
      "needs_background": "light"
     },
     "output_type": "display_data"
    }
   ],
   "source": [
    "sns.countplot(df2['default'])"
   ]
  },
  {
   "cell_type": "markdown",
   "metadata": {
    "id": "Osdog5iAqust"
   },
   "source": [
    "データを確認してみると、かなり偏りがありそうです。 最頻値で補完を行います。"
   ]
  },
  {
   "cell_type": "code",
   "execution_count": null,
   "metadata": {
    "colab": {
     "base_uri": "https://localhost:8080/",
     "height": 35
    },
    "id": "6NTYKeDyqwXQ",
    "outputId": "2bad913e-d1cb-4d67-c4b0-c9a611ecce56"
   },
   "outputs": [
    {
     "data": {
      "application/vnd.google.colaboratory.intrinsic+json": {
       "type": "string"
      },
      "text/plain": [
       "'no'"
      ]
     },
     "execution_count": 30,
     "metadata": {},
     "output_type": "execute_result"
    }
   ],
   "source": [
    "# 最頻値の取得\n",
    "df2['default'].mode()[0]"
   ]
  },
  {
   "cell_type": "code",
   "execution_count": null,
   "metadata": {
    "id": "pEOzM9H4qyk4"
   },
   "outputs": [],
   "source": [
    "# 欠損値の補完\n",
    "df2['default'] = df2['default'].fillna(df2['default'].mode()[0])"
   ]
  },
  {
   "cell_type": "code",
   "execution_count": null,
   "metadata": {
    "colab": {
     "base_uri": "https://localhost:8080/"
    },
    "id": "TBjjIvp3q1KC",
    "outputId": "56918085-93a6-4ddb-9ed7-64384195fc04"
   },
   "outputs": [
    {
     "data": {
      "text/plain": [
       "age            0\n",
       "job            0\n",
       "marital        0\n",
       "education      0\n",
       "default        0\n",
       "balance        0\n",
       "housing       61\n",
       "loan         217\n",
       "pdays         36\n",
       "previous       0\n",
       "poutcome     250\n",
       "result         0\n",
       "dtype: int64"
      ]
     },
     "execution_count": 32,
     "metadata": {},
     "output_type": "execute_result"
    }
   ],
   "source": [
    "df2.isnull().sum()"
   ]
  },
  {
   "cell_type": "markdown",
   "metadata": {
    "id": "JOSeHogkq2ph"
   },
   "source": [
    "#### Housing の欠損値補完"
   ]
  },
  {
   "cell_type": "markdown",
   "metadata": {
    "id": "JGJRLSmWq5gQ"
   },
   "source": [
    "`Housing` が表すのは家のローンの有無です。  \n",
    "こちらも年齢と職業が大きく関連していると考えられます。  \n",
    "\n",
    "では、その仮説を元にどのように欠損値を補完できるか確認します。"
   ]
  },
  {
   "cell_type": "code",
   "execution_count": null,
   "metadata": {
    "colab": {
     "base_uri": "https://localhost:8080/"
    },
    "id": "UqLu8wB8q87_",
    "outputId": "09564f68-4c8d-491c-81cd-246dcb5e85fd"
   },
   "outputs": [
    {
     "data": {
      "text/plain": [
       "yes    3499\n",
       "no     2856\n",
       "Name: housing, dtype: int64"
      ]
     },
     "execution_count": 33,
     "metadata": {},
     "output_type": "execute_result"
    }
   ],
   "source": [
    "# Uniqueな値の数を確認\n",
    "df2['housing'].value_counts()"
   ]
  },
  {
   "cell_type": "code",
   "execution_count": null,
   "metadata": {
    "colab": {
     "base_uri": "https://localhost:8080/",
     "height": 352
    },
    "id": "IuxIw8d4q_Q9",
    "outputId": "74040cf2-76de-4ac0-de87-ab7e2bdae5ac"
   },
   "outputs": [
    {
     "name": "stderr",
     "output_type": "stream",
     "text": [
      "/usr/local/lib/python3.7/dist-packages/seaborn/_decorators.py:43: FutureWarning: Pass the following variable as a keyword arg: x. From version 0.12, the only valid positional argument will be `data`, and passing other arguments without an explicit keyword will result in an error or misinterpretation.\n",
      "  FutureWarning\n"
     ]
    },
    {
     "data": {
      "text/plain": [
       "<matplotlib.axes._subplots.AxesSubplot at 0x7fcb699632d0>"
      ]
     },
     "execution_count": 34,
     "metadata": {},
     "output_type": "execute_result"
    },
    {
     "data": {
      "image/png": "[encoded data removed]",
      "text/plain": [
       "<Figure size 432x288 with 1 Axes>"
      ]
     },
     "metadata": {
      "needs_background": "light"
     },
     "output_type": "display_data"
    }
   ],
   "source": [
    "sns.countplot(df2['housing'])"
   ]
  },
  {
   "cell_type": "markdown",
   "metadata": {
    "id": "T89yY8GmrAMP"
   },
   "source": [
    "`housing` と `job` の関係性を確認します。"
   ]
  },
  {
   "cell_type": "code",
   "execution_count": null,
   "metadata": {
    "colab": {
     "base_uri": "https://localhost:8080/",
     "height": 143
    },
    "id": "ny8aIknVrDOl",
    "outputId": "4af7371d-d5e5-4270-c01a-035fa2fbd5ae"
   },
   "outputs": [
    {
     "data": {
      "text/html": [
       "\n",
       "  <div id=\"df-a069585d-afa5-4808-9d21-28deaf655e5f\">\n",
       "    <div class=\"colab-df-container\">\n",
       "      <div>\n",
       "<style scoped>\n",
       "    .dataframe tbody tr th:only-of-type {\n",
       "        vertical-align: middle;\n",
       "    }\n",
       "\n",
       "    .dataframe tbody tr th {\n",
       "        vertical-align: top;\n",
       "    }\n",
       "\n",
       "    .dataframe thead th {\n",
       "        text-align: right;\n",
       "    }\n",
       "</style>\n",
       "<table border=\"1\" class=\"dataframe\">\n",
       "  <thead>\n",
       "    <tr style=\"text-align: right;\">\n",
       "      <th>job</th>\n",
       "      <th>admin.</th>\n",
       "      <th>blue-collar</th>\n",
       "      <th>entrepreneur</th>\n",
       "      <th>housemaid</th>\n",
       "      <th>management</th>\n",
       "      <th>retired</th>\n",
       "      <th>self-employed</th>\n",
       "      <th>services</th>\n",
       "      <th>student</th>\n",
       "      <th>technician</th>\n",
       "      <th>unemployed</th>\n",
       "      <th>unknown</th>\n",
       "    </tr>\n",
       "    <tr>\n",
       "      <th>housing</th>\n",
       "      <th></th>\n",
       "      <th></th>\n",
       "      <th></th>\n",
       "      <th></th>\n",
       "      <th></th>\n",
       "      <th></th>\n",
       "      <th></th>\n",
       "      <th></th>\n",
       "      <th></th>\n",
       "      <th></th>\n",
       "      <th></th>\n",
       "      <th></th>\n",
       "    </tr>\n",
       "  </thead>\n",
       "  <tbody>\n",
       "    <tr>\n",
       "      <th>no</th>\n",
       "      <td>281</td>\n",
       "      <td>379</td>\n",
       "      <td>106</td>\n",
       "      <td>101</td>\n",
       "      <td>675</td>\n",
       "      <td>267</td>\n",
       "      <td>127</td>\n",
       "      <td>207</td>\n",
       "      <td>85</td>\n",
       "      <td>488</td>\n",
       "      <td>97</td>\n",
       "      <td>43</td>\n",
       "    </tr>\n",
       "    <tr>\n",
       "      <th>yes</th>\n",
       "      <td>421</td>\n",
       "      <td>1036</td>\n",
       "      <td>136</td>\n",
       "      <td>58</td>\n",
       "      <td>649</td>\n",
       "      <td>51</td>\n",
       "      <td>98</td>\n",
       "      <td>386</td>\n",
       "      <td>30</td>\n",
       "      <td>553</td>\n",
       "      <td>71</td>\n",
       "      <td>10</td>\n",
       "    </tr>\n",
       "  </tbody>\n",
       "</table>\n",
       "</div>\n",
       "      <button class=\"colab-df-convert\" onclick=\"convertToInteractive('df-a069585d-afa5-4808-9d21-28deaf655e5f')\"\n",
       "              title=\"Convert this dataframe to an interactive table.\"\n",
       "              style=\"display:none;\">\n",
       "        \n",
       "  <svg xmlns=\"http://www.w3.org/2000/svg\" height=\"24px\"viewBox=\"0 0 24 24\"\n",
       "       width=\"24px\">\n",
       "    <path d=\"M0 0h24v24H0V0z\" fill=\"none\"/>\n",
       "    <path d=\"M18.56 5.44l.94 2.06.94-2.06 2.06-.94-2.06-.94-.94-2.06-.94 2.06-2.06.94zm-11 1L8.5 8.5l.94-2.06 2.06-.94-2.06-.94L8.5 2.5l-.94 2.06-2.06.94zm10 10l.94 2.06.94-2.06 2.06-.94-2.06-.94-.94-2.06-.94 2.06-2.06.94z\"/><path d=\"M17.41 7.96l-1.37-1.37c-.4-.4-.92-.59-1.43-.59-.52 0-1.04.2-1.43.59L10.3 9.45l-7.72 7.72c-.78.78-.78 2.05 0 2.83L4 21.41c.39.39.9.59 1.41.59.51 0 1.02-.2 1.41-.59l7.78-7.78 2.81-2.81c.8-.78.8-2.07 0-2.86zM5.41 20L4 18.59l7.72-7.72 1.47 1.35L5.41 20z\"/>\n",
       "  </svg>\n",
       "      </button>\n",
       "      \n",
       "  <style>\n",
       "    .colab-df-container {\n",
       "      display:flex;\n",
       "      flex-wrap:wrap;\n",
       "      gap: 12px;\n",
       "    }\n",
       "\n",
       "    .colab-df-convert {\n",
       "      background-color: #E8F0FE;\n",
       "      border: none;\n",
       "      border-radius: 50%;\n",
       "      cursor: pointer;\n",
       "      display: none;\n",
       "      fill: #1967D2;\n",
       "      height: 32px;\n",
       "      padding: 0 0 0 0;\n",
       "      width: 32px;\n",
       "    }\n",
       "\n",
       "    .colab-df-convert:hover {\n",
       "      background-color: #E2EBFA;\n",
       "      box-shadow: 0px 1px 2px rgba(60, 64, 67, 0.3), 0px 1px 3px 1px rgba(60, 64, 67, 0.15);\n",
       "      fill: #174EA6;\n",
       "    }\n",
       "\n",
       "    [theme=dark] .colab-df-convert {\n",
       "      background-color: #3B4455;\n",
       "      fill: #D2E3FC;\n",
       "    }\n",
       "\n",
       "    [theme=dark] .colab-df-convert:hover {\n",
       "      background-color: #434B5C;\n",
       "      box-shadow: 0px 1px 3px 1px rgba(0, 0, 0, 0.15);\n",
       "      filter: drop-shadow(0px 1px 2px rgba(0, 0, 0, 0.3));\n",
       "      fill: #FFFFFF;\n",
       "    }\n",
       "  </style>\n",
       "\n",
       "      <script>\n",
       "        const buttonEl =\n",
       "          document.querySelector('#df-a069585d-afa5-4808-9d21-28deaf655e5f button.colab-df-convert');\n",
       "        buttonEl.style.display =\n",
       "          google.colab.kernel.accessAllowed ? 'block' : 'none';\n",
       "\n",
       "        async function convertToInteractive(key) {\n",
       "          const element = document.querySelector('#df-a069585d-afa5-4808-9d21-28deaf655e5f');\n",
       "          const dataTable =\n",
       "            await google.colab.kernel.invokeFunction('convertToInteractive',\n",
       "                                                     [key], {});\n",
       "          if (!dataTable) return;\n",
       "\n",
       "          const docLinkHtml = 'Like what you see? Visit the ' +\n",
       "            '<a target=\"_blank\" href=https://colab.research.google.com/notebooks/data_table.ipynb>data table notebook</a>'\n",
       "            + ' to learn more about interactive tables.';\n",
       "          element.innerHTML = '';\n",
       "          dataTable['output_type'] = 'display_data';\n",
       "          await google.colab.output.renderOutput(dataTable, element);\n",
       "          const docLink = document.createElement('div');\n",
       "          docLink.innerHTML = docLinkHtml;\n",
       "          element.appendChild(docLink);\n",
       "        }\n",
       "      </script>\n",
       "    </div>\n",
       "  </div>\n",
       "  "
      ],
      "text/plain": [
       "job      admin.  blue-collar  entrepreneur  housemaid  management  retired  \\\n",
       "housing                                                                      \n",
       "no          281          379           106        101         675      267   \n",
       "yes         421         1036           136         58         649       51   \n",
       "\n",
       "job      self-employed  services  student  technician  unemployed  unknown  \n",
       "housing                                                                     \n",
       "no                 127       207       85         488          97       43  \n",
       "yes                 98       386       30         553          71       10  "
      ]
     },
     "execution_count": 35,
     "metadata": {},
     "output_type": "execute_result"
    }
   ],
   "source": [
    "# クロスタブ集計で数値を確認\n",
    "pd.crosstab(df2['housing'], df2['job'])"
   ]
  },
  {
   "cell_type": "code",
   "execution_count": null,
   "metadata": {
    "colab": {
     "base_uri": "https://localhost:8080/",
     "height": 406
    },
    "id": "LKnoomY5rFC5",
    "outputId": "aad9c7d9-e086-4478-a80c-d115d47e1f3f"
   },
   "outputs": [
    {
     "data": {
      "text/plain": [
       "<matplotlib.axes._subplots.AxesSubplot at 0x7fcb6bc61610>"
      ]
     },
     "execution_count": 36,
     "metadata": {},
     "output_type": "execute_result"
    },
    {
     "data": {
      "image/png": "[encoded data removed]",
      "text/plain": [
       "<Figure size 1080x432 with 1 Axes>"
      ]
     },
     "metadata": {
      "needs_background": "light"
     },
     "output_type": "display_data"
    }
   ],
   "source": [
    "# countplotでyesとnoに対応する数をカラムごとに算出\n",
    "plt.figure(figsize=(15, 6))\n",
    "sns.countplot(x='job', hue='housing', data=df2)"
   ]
  },
  {
   "cell_type": "markdown",
   "metadata": {
    "id": "YmEpeUe1rGQs"
   },
   "source": [
    "`housing` と `age` の関係性も確認します。"
   ]
  },
  {
   "cell_type": "code",
   "execution_count": null,
   "metadata": {
    "colab": {
     "base_uri": "https://localhost:8080/",
     "height": 173
    },
    "id": "hUD0tCZprR_s",
    "outputId": "1efa9269-55b0-45f5-a8aa-c85adf04c289"
   },
   "outputs": [
    {
     "data": {
      "text/html": [
       "\n",
       "  <div id=\"df-93588793-465d-4b57-ba1a-4d07e39757b8\">\n",
       "    <div class=\"colab-df-container\">\n",
       "      <div>\n",
       "<style scoped>\n",
       "    .dataframe tbody tr th:only-of-type {\n",
       "        vertical-align: middle;\n",
       "    }\n",
       "\n",
       "    .dataframe tbody tr th {\n",
       "        vertical-align: top;\n",
       "    }\n",
       "\n",
       "    .dataframe thead th {\n",
       "        text-align: right;\n",
       "    }\n",
       "</style>\n",
       "<table border=\"1\" class=\"dataframe\">\n",
       "  <thead>\n",
       "    <tr style=\"text-align: right;\">\n",
       "      <th>age</th>\n",
       "      <th>18.0</th>\n",
       "      <th>19.0</th>\n",
       "      <th>20.0</th>\n",
       "      <th>21.0</th>\n",
       "      <th>22.0</th>\n",
       "      <th>23.0</th>\n",
       "      <th>24.0</th>\n",
       "      <th>25.0</th>\n",
       "      <th>26.0</th>\n",
       "      <th>27.0</th>\n",
       "      <th>...</th>\n",
       "      <th>77.0</th>\n",
       "      <th>78.0</th>\n",
       "      <th>79.0</th>\n",
       "      <th>80.0</th>\n",
       "      <th>81.0</th>\n",
       "      <th>82.0</th>\n",
       "      <th>83.0</th>\n",
       "      <th>84.0</th>\n",
       "      <th>86.0</th>\n",
       "      <th>93.0</th>\n",
       "    </tr>\n",
       "    <tr>\n",
       "      <th>housing</th>\n",
       "      <th></th>\n",
       "      <th></th>\n",
       "      <th></th>\n",
       "      <th></th>\n",
       "      <th></th>\n",
       "      <th></th>\n",
       "      <th></th>\n",
       "      <th></th>\n",
       "      <th></th>\n",
       "      <th></th>\n",
       "      <th></th>\n",
       "      <th></th>\n",
       "      <th></th>\n",
       "      <th></th>\n",
       "      <th></th>\n",
       "      <th></th>\n",
       "      <th></th>\n",
       "      <th></th>\n",
       "      <th></th>\n",
       "      <th></th>\n",
       "      <th></th>\n",
       "    </tr>\n",
       "  </thead>\n",
       "  <tbody>\n",
       "    <tr>\n",
       "      <th>no</th>\n",
       "      <td>2</td>\n",
       "      <td>2</td>\n",
       "      <td>5</td>\n",
       "      <td>7</td>\n",
       "      <td>11</td>\n",
       "      <td>7</td>\n",
       "      <td>10</td>\n",
       "      <td>31</td>\n",
       "      <td>55</td>\n",
       "      <td>49</td>\n",
       "      <td>...</td>\n",
       "      <td>5</td>\n",
       "      <td>6</td>\n",
       "      <td>4</td>\n",
       "      <td>3</td>\n",
       "      <td>3</td>\n",
       "      <td>2</td>\n",
       "      <td>6</td>\n",
       "      <td>1</td>\n",
       "      <td>1</td>\n",
       "      <td>1</td>\n",
       "    </tr>\n",
       "    <tr>\n",
       "      <th>yes</th>\n",
       "      <td>0</td>\n",
       "      <td>0</td>\n",
       "      <td>0</td>\n",
       "      <td>4</td>\n",
       "      <td>7</td>\n",
       "      <td>22</td>\n",
       "      <td>26</td>\n",
       "      <td>36</td>\n",
       "      <td>53</td>\n",
       "      <td>69</td>\n",
       "      <td>...</td>\n",
       "      <td>0</td>\n",
       "      <td>0</td>\n",
       "      <td>0</td>\n",
       "      <td>0</td>\n",
       "      <td>0</td>\n",
       "      <td>0</td>\n",
       "      <td>0</td>\n",
       "      <td>0</td>\n",
       "      <td>0</td>\n",
       "      <td>0</td>\n",
       "    </tr>\n",
       "  </tbody>\n",
       "</table>\n",
       "<p>2 rows × 70 columns</p>\n",
       "</div>\n",
       "      <button class=\"colab-df-convert\" onclick=\"convertToInteractive('df-93588793-465d-4b57-ba1a-4d07e39757b8')\"\n",
       "              title=\"Convert this dataframe to an interactive table.\"\n",
       "              style=\"display:none;\">\n",
       "        \n",
       "  <svg xmlns=\"http://www.w3.org/2000/svg\" height=\"24px\"viewBox=\"0 0 24 24\"\n",
       "       width=\"24px\">\n",
       "    <path d=\"M0 0h24v24H0V0z\" fill=\"none\"/>\n",
       "    <path d=\"M18.56 5.44l.94 2.06.94-2.06 2.06-.94-2.06-.94-.94-2.06-.94 2.06-2.06.94zm-11 1L8.5 8.5l.94-2.06 2.06-.94-2.06-.94L8.5 2.5l-.94 2.06-2.06.94zm10 10l.94 2.06.94-2.06 2.06-.94-2.06-.94-.94-2.06-.94 2.06-2.06.94z\"/><path d=\"M17.41 7.96l-1.37-1.37c-.4-.4-.92-.59-1.43-.59-.52 0-1.04.2-1.43.59L10.3 9.45l-7.72 7.72c-.78.78-.78 2.05 0 2.83L4 21.41c.39.39.9.59 1.41.59.51 0 1.02-.2 1.41-.59l7.78-7.78 2.81-2.81c.8-.78.8-2.07 0-2.86zM5.41 20L4 18.59l7.72-7.72 1.47 1.35L5.41 20z\"/>\n",
       "  </svg>\n",
       "      </button>\n",
       "      \n",
       "  <style>\n",
       "    .colab-df-container {\n",
       "      display:flex;\n",
       "      flex-wrap:wrap;\n",
       "      gap: 12px;\n",
       "    }\n",
       "\n",
       "    .colab-df-convert {\n",
       "      background-color: #E8F0FE;\n",
       "      border: none;\n",
       "      border-radius: 50%;\n",
       "      cursor: pointer;\n",
       "      display: none;\n",
       "      fill: #1967D2;\n",
       "      height: 32px;\n",
       "      padding: 0 0 0 0;\n",
       "      width: 32px;\n",
       "    }\n",
       "\n",
       "    .colab-df-convert:hover {\n",
       "      background-color: #E2EBFA;\n",
       "      box-shadow: 0px 1px 2px rgba(60, 64, 67, 0.3), 0px 1px 3px 1px rgba(60, 64, 67, 0.15);\n",
       "      fill: #174EA6;\n",
       "    }\n",
       "\n",
       "    [theme=dark] .colab-df-convert {\n",
       "      background-color: #3B4455;\n",
       "      fill: #D2E3FC;\n",
       "    }\n",
       "\n",
       "    [theme=dark] .colab-df-convert:hover {\n",
       "      background-color: #434B5C;\n",
       "      box-shadow: 0px 1px 3px 1px rgba(0, 0, 0, 0.15);\n",
       "      filter: drop-shadow(0px 1px 2px rgba(0, 0, 0, 0.3));\n",
       "      fill: #FFFFFF;\n",
       "    }\n",
       "  </style>\n",
       "\n",
       "      <script>\n",
       "        const buttonEl =\n",
       "          document.querySelector('#df-93588793-465d-4b57-ba1a-4d07e39757b8 button.colab-df-convert');\n",
       "        buttonEl.style.display =\n",
       "          google.colab.kernel.accessAllowed ? 'block' : 'none';\n",
       "\n",
       "        async function convertToInteractive(key) {\n",
       "          const element = document.querySelector('#df-93588793-465d-4b57-ba1a-4d07e39757b8');\n",
       "          const dataTable =\n",
       "            await google.colab.kernel.invokeFunction('convertToInteractive',\n",
       "                                                     [key], {});\n",
       "          if (!dataTable) return;\n",
       "\n",
       "          const docLinkHtml = 'Like what you see? Visit the ' +\n",
       "            '<a target=\"_blank\" href=https://colab.research.google.com/notebooks/data_table.ipynb>data table notebook</a>'\n",
       "            + ' to learn more about interactive tables.';\n",
       "          element.innerHTML = '';\n",
       "          dataTable['output_type'] = 'display_data';\n",
       "          await google.colab.output.renderOutput(dataTable, element);\n",
       "          const docLink = document.createElement('div');\n",
       "          docLink.innerHTML = docLinkHtml;\n",
       "          element.appendChild(docLink);\n",
       "        }\n",
       "      </script>\n",
       "    </div>\n",
       "  </div>\n",
       "  "
      ],
      "text/plain": [
       "age      18.0  19.0  20.0  21.0  22.0  23.0  24.0  25.0  26.0  27.0  ...  \\\n",
       "housing                                                              ...   \n",
       "no          2     2     5     7    11     7    10    31    55    49  ...   \n",
       "yes         0     0     0     4     7    22    26    36    53    69  ...   \n",
       "\n",
       "age      77.0  78.0  79.0  80.0  81.0  82.0  83.0  84.0  86.0  93.0  \n",
       "housing                                                              \n",
       "no          5     6     4     3     3     2     6     1     1     1  \n",
       "yes         0     0     0     0     0     0     0     0     0     0  \n",
       "\n",
       "[2 rows x 70 columns]"
      ]
     },
     "execution_count": 37,
     "metadata": {},
     "output_type": "execute_result"
    }
   ],
   "source": [
    "pd.crosstab(df2['housing'], df2['age'])"
   ]
  },
  {
   "cell_type": "code",
   "execution_count": null,
   "metadata": {
    "colab": {
     "base_uri": "https://localhost:8080/",
     "height": 406
    },
    "id": "Qc1Q-3pVrTKA",
    "outputId": "dd72e391-eca1-43fb-9a33-e064bca9859c"
   },
   "outputs": [
    {
     "data": {
      "text/plain": [
       "<matplotlib.axes._subplots.AxesSubplot at 0x7fcb6d920910>"
      ]
     },
     "execution_count": 38,
     "metadata": {},
     "output_type": "execute_result"
    },
    {
     "data": {
      "image/png": "[encoded data removed]",
      "text/plain": [
       "<Figure size 1080x432 with 1 Axes>"
      ]
     },
     "metadata": {
      "needs_background": "light"
     },
     "output_type": "display_data"
    }
   ],
   "source": [
    "plt.figure(figsize=(15, 6))\n",
    "sns.countplot(x='age', hue='housing', data=df2)"
   ]
  },
  {
   "cell_type": "markdown",
   "metadata": {
    "id": "9GAblXlNrWGQ"
   },
   "source": [
    "感覚的にどのように埋めればいいのかは確認することができました。  \n",
    "実際にどこを補完する必要があるのかも確認しておき、アプローチを考えます。"
   ]
  },
  {
   "cell_type": "code",
   "execution_count": null,
   "metadata": {
    "colab": {
     "base_uri": "https://localhost:8080/",
     "height": 112
    },
    "id": "K4xu67Bnrc2v",
    "outputId": "8bc8e8a4-9534-4785-9eee-281a1934fee8"
   },
   "outputs": [
    {
     "data": {
      "text/html": [
       "\n",
       "  <div id=\"df-d9bc50c0-6438-465b-a94b-d46ebb47ae6d\">\n",
       "    <div class=\"colab-df-container\">\n",
       "      <div>\n",
       "<style scoped>\n",
       "    .dataframe tbody tr th:only-of-type {\n",
       "        vertical-align: middle;\n",
       "    }\n",
       "\n",
       "    .dataframe tbody tr th {\n",
       "        vertical-align: top;\n",
       "    }\n",
       "\n",
       "    .dataframe thead th {\n",
       "        text-align: right;\n",
       "    }\n",
       "</style>\n",
       "<table border=\"1\" class=\"dataframe\">\n",
       "  <thead>\n",
       "    <tr style=\"text-align: right;\">\n",
       "      <th></th>\n",
       "      <th>housing</th>\n",
       "      <th>job</th>\n",
       "      <th>age</th>\n",
       "    </tr>\n",
       "  </thead>\n",
       "  <tbody>\n",
       "    <tr>\n",
       "      <th>23</th>\n",
       "      <td>NaN</td>\n",
       "      <td>management</td>\n",
       "      <td>51.0</td>\n",
       "    </tr>\n",
       "    <tr>\n",
       "      <th>61</th>\n",
       "      <td>NaN</td>\n",
       "      <td>admin.</td>\n",
       "      <td>52.0</td>\n",
       "    </tr>\n",
       "  </tbody>\n",
       "</table>\n",
       "</div>\n",
       "      <button class=\"colab-df-convert\" onclick=\"convertToInteractive('df-d9bc50c0-6438-465b-a94b-d46ebb47ae6d')\"\n",
       "              title=\"Convert this dataframe to an interactive table.\"\n",
       "              style=\"display:none;\">\n",
       "        \n",
       "  <svg xmlns=\"http://www.w3.org/2000/svg\" height=\"24px\"viewBox=\"0 0 24 24\"\n",
       "       width=\"24px\">\n",
       "    <path d=\"M0 0h24v24H0V0z\" fill=\"none\"/>\n",
       "    <path d=\"M18.56 5.44l.94 2.06.94-2.06 2.06-.94-2.06-.94-.94-2.06-.94 2.06-2.06.94zm-11 1L8.5 8.5l.94-2.06 2.06-.94-2.06-.94L8.5 2.5l-.94 2.06-2.06.94zm10 10l.94 2.06.94-2.06 2.06-.94-2.06-.94-.94-2.06-.94 2.06-2.06.94z\"/><path d=\"M17.41 7.96l-1.37-1.37c-.4-.4-.92-.59-1.43-.59-.52 0-1.04.2-1.43.59L10.3 9.45l-7.72 7.72c-.78.78-.78 2.05 0 2.83L4 21.41c.39.39.9.59 1.41.59.51 0 1.02-.2 1.41-.59l7.78-7.78 2.81-2.81c.8-.78.8-2.07 0-2.86zM5.41 20L4 18.59l7.72-7.72 1.47 1.35L5.41 20z\"/>\n",
       "  </svg>\n",
       "      </button>\n",
       "      \n",
       "  <style>\n",
       "    .colab-df-container {\n",
       "      display:flex;\n",
       "      flex-wrap:wrap;\n",
       "      gap: 12px;\n",
       "    }\n",
       "\n",
       "    .colab-df-convert {\n",
       "      background-color: #E8F0FE;\n",
       "      border: none;\n",
       "      border-radius: 50%;\n",
       "      cursor: pointer;\n",
       "      display: none;\n",
       "      fill: #1967D2;\n",
       "      height: 32px;\n",
       "      padding: 0 0 0 0;\n",
       "      width: 32px;\n",
       "    }\n",
       "\n",
       "    .colab-df-convert:hover {\n",
       "      background-color: #E2EBFA;\n",
       "      box-shadow: 0px 1px 2px rgba(60, 64, 67, 0.3), 0px 1px 3px 1px rgba(60, 64, 67, 0.15);\n",
       "      fill: #174EA6;\n",
       "    }\n",
       "\n",
       "    [theme=dark] .colab-df-convert {\n",
       "      background-color: #3B4455;\n",
       "      fill: #D2E3FC;\n",
       "    }\n",
       "\n",
       "    [theme=dark] .colab-df-convert:hover {\n",
       "      background-color: #434B5C;\n",
       "      box-shadow: 0px 1px 3px 1px rgba(0, 0, 0, 0.15);\n",
       "      filter: drop-shadow(0px 1px 2px rgba(0, 0, 0, 0.3));\n",
       "      fill: #FFFFFF;\n",
       "    }\n",
       "  </style>\n",
       "\n",
       "      <script>\n",
       "        const buttonEl =\n",
       "          document.querySelector('#df-d9bc50c0-6438-465b-a94b-d46ebb47ae6d button.colab-df-convert');\n",
       "        buttonEl.style.display =\n",
       "          google.colab.kernel.accessAllowed ? 'block' : 'none';\n",
       "\n",
       "        async function convertToInteractive(key) {\n",
       "          const element = document.querySelector('#df-d9bc50c0-6438-465b-a94b-d46ebb47ae6d');\n",
       "          const dataTable =\n",
       "            await google.colab.kernel.invokeFunction('convertToInteractive',\n",
       "                                                     [key], {});\n",
       "          if (!dataTable) return;\n",
       "\n",
       "          const docLinkHtml = 'Like what you see? Visit the ' +\n",
       "            '<a target=\"_blank\" href=https://colab.research.google.com/notebooks/data_table.ipynb>data table notebook</a>'\n",
       "            + ' to learn more about interactive tables.';\n",
       "          element.innerHTML = '';\n",
       "          dataTable['output_type'] = 'display_data';\n",
       "          await google.colab.output.renderOutput(dataTable, element);\n",
       "          const docLink = document.createElement('div');\n",
       "          docLink.innerHTML = docLinkHtml;\n",
       "          element.appendChild(docLink);\n",
       "        }\n",
       "      </script>\n",
       "    </div>\n",
       "  </div>\n",
       "  "
      ],
      "text/plain": [
       "   housing         job   age\n",
       "23     NaN  management  51.0\n",
       "61     NaN      admin.  52.0"
      ]
     },
     "execution_count": 39,
     "metadata": {},
     "output_type": "execute_result"
    }
   ],
   "source": [
    "housing_null = df2[df2['housing'].isnull()][['housing', 'job', 'age']]\n",
    "housing_null.head(2)"
   ]
  },
  {
   "cell_type": "code",
   "execution_count": null,
   "metadata": {
    "colab": {
     "base_uri": "https://localhost:8080/",
     "height": 352
    },
    "id": "QQRjXl_ArfNj",
    "outputId": "cdff0183-e932-44cd-db56-92f86c1f9b7d"
   },
   "outputs": [
    {
     "name": "stderr",
     "output_type": "stream",
     "text": [
      "/usr/local/lib/python3.7/dist-packages/seaborn/distributions.py:2619: FutureWarning: `distplot` is a deprecated function and will be removed in a future version. Please adapt your code to use either `displot` (a figure-level function with similar flexibility) or `histplot` (an axes-level function for histograms).\n",
      "  warnings.warn(msg, FutureWarning)\n"
     ]
    },
    {
     "data": {
      "text/plain": [
       "<matplotlib.axes._subplots.AxesSubplot at 0x7fcb6c1e5910>"
      ]
     },
     "execution_count": 40,
     "metadata": {},
     "output_type": "execute_result"
    },
    {
     "data": {
      "image/png": "[encoded data removed]",
      "text/plain": [
       "<Figure size 432x288 with 1 Axes>"
      ]
     },
     "metadata": {
      "needs_background": "light"
     },
     "output_type": "display_data"
    }
   ],
   "source": [
    "sns.distplot(housing_null['age'])"
   ]
  },
  {
   "cell_type": "code",
   "execution_count": null,
   "metadata": {
    "colab": {
     "base_uri": "https://localhost:8080/",
     "height": 352
    },
    "id": "6GHrXCocrgf-",
    "outputId": "fedebc3c-e680-4e28-e3d7-36df37664011"
   },
   "outputs": [
    {
     "name": "stderr",
     "output_type": "stream",
     "text": [
      "/usr/local/lib/python3.7/dist-packages/seaborn/_decorators.py:43: FutureWarning: Pass the following variable as a keyword arg: x. From version 0.12, the only valid positional argument will be `data`, and passing other arguments without an explicit keyword will result in an error or misinterpretation.\n",
      "  FutureWarning\n"
     ]
    },
    {
     "data": {
      "text/plain": [
       "<matplotlib.axes._subplots.AxesSubplot at 0x7fcb6954ae10>"
      ]
     },
     "execution_count": 41,
     "metadata": {},
     "output_type": "execute_result"
    },
    {
     "data": {
      "image/png": "[encoded data removed]",
      "text/plain": [
       "<Figure size 432x288 with 1 Axes>"
      ]
     },
     "metadata": {
      "needs_background": "light"
     },
     "output_type": "display_data"
    }
   ],
   "source": [
    "sns.countplot('job', data=housing_null)"
   ]
  },
  {
   "cell_type": "markdown",
   "metadata": {
    "id": "0_DB0-dCriJI"
   },
   "source": [
    "上記の可視化した情報から、感覚的に補完を行う値を決めます。"
   ]
  },
  {
   "cell_type": "markdown",
   "metadata": {
    "id": "BcBWOraSrk2A"
   },
   "source": [
    "- `job` が `student` もしくは `retired` の場合は、 `no`\n",
    "\n",
    "- その他の値は `yes` で補完（職業の内容と年齢の `housing` のデータをみても `yes` の数の方が多そうな為）"
   ]
  },
  {
   "cell_type": "markdown",
   "metadata": {
    "id": "pg6Ubzepru-V"
   },
   "source": [
    "データフレームの条件抽出は `.loc` 関数を使用します。"
   ]
  },
  {
   "cell_type": "code",
   "execution_count": null,
   "metadata": {
    "colab": {
     "base_uri": "https://localhost:8080/",
     "height": 363
    },
    "id": "RR3auZfWry2V",
    "outputId": "e2bb627a-9ba3-4008-89de-d2593deac2d2"
   },
   "outputs": [
    {
     "data": {
      "text/html": [
       "\n",
       "  <div id=\"df-9cc89715-0505-46f1-9245-c3687095098c\">\n",
       "    <div class=\"colab-df-container\">\n",
       "      <div>\n",
       "<style scoped>\n",
       "    .dataframe tbody tr th:only-of-type {\n",
       "        vertical-align: middle;\n",
       "    }\n",
       "\n",
       "    .dataframe tbody tr th {\n",
       "        vertical-align: top;\n",
       "    }\n",
       "\n",
       "    .dataframe thead th {\n",
       "        text-align: right;\n",
       "    }\n",
       "</style>\n",
       "<table border=\"1\" class=\"dataframe\">\n",
       "  <thead>\n",
       "    <tr style=\"text-align: right;\">\n",
       "      <th></th>\n",
       "      <th>age</th>\n",
       "      <th>job</th>\n",
       "      <th>marital</th>\n",
       "      <th>education</th>\n",
       "      <th>default</th>\n",
       "      <th>balance</th>\n",
       "      <th>housing</th>\n",
       "      <th>loan</th>\n",
       "      <th>pdays</th>\n",
       "      <th>previous</th>\n",
       "      <th>poutcome</th>\n",
       "      <th>result</th>\n",
       "    </tr>\n",
       "  </thead>\n",
       "  <tbody>\n",
       "    <tr>\n",
       "      <th>167</th>\n",
       "      <td>51.0</td>\n",
       "      <td>retired</td>\n",
       "      <td>married</td>\n",
       "      <td>secondary</td>\n",
       "      <td>no</td>\n",
       "      <td>0</td>\n",
       "      <td>NaN</td>\n",
       "      <td>no</td>\n",
       "      <td>-1.0</td>\n",
       "      <td>0</td>\n",
       "      <td>NaN</td>\n",
       "      <td>fail</td>\n",
       "    </tr>\n",
       "    <tr>\n",
       "      <th>636</th>\n",
       "      <td>51.0</td>\n",
       "      <td>retired</td>\n",
       "      <td>married</td>\n",
       "      <td>primary</td>\n",
       "      <td>no</td>\n",
       "      <td>229</td>\n",
       "      <td>NaN</td>\n",
       "      <td>no</td>\n",
       "      <td>-1.0</td>\n",
       "      <td>0</td>\n",
       "      <td>unknown</td>\n",
       "      <td>fail</td>\n",
       "    </tr>\n",
       "    <tr>\n",
       "      <th>2037</th>\n",
       "      <td>24.0</td>\n",
       "      <td>student</td>\n",
       "      <td>single</td>\n",
       "      <td>unknown</td>\n",
       "      <td>no</td>\n",
       "      <td>0</td>\n",
       "      <td>NaN</td>\n",
       "      <td>no</td>\n",
       "      <td>-1.0</td>\n",
       "      <td>0</td>\n",
       "      <td>unknown</td>\n",
       "      <td>fail</td>\n",
       "    </tr>\n",
       "    <tr>\n",
       "      <th>4094</th>\n",
       "      <td>54.0</td>\n",
       "      <td>retired</td>\n",
       "      <td>married</td>\n",
       "      <td>secondary</td>\n",
       "      <td>no</td>\n",
       "      <td>1614</td>\n",
       "      <td>NaN</td>\n",
       "      <td>no</td>\n",
       "      <td>-1.0</td>\n",
       "      <td>0</td>\n",
       "      <td>unknown</td>\n",
       "      <td>fail</td>\n",
       "    </tr>\n",
       "    <tr>\n",
       "      <th>4884</th>\n",
       "      <td>54.0</td>\n",
       "      <td>retired</td>\n",
       "      <td>divorced</td>\n",
       "      <td>tertiary</td>\n",
       "      <td>no</td>\n",
       "      <td>349</td>\n",
       "      <td>NaN</td>\n",
       "      <td>no</td>\n",
       "      <td>-1.0</td>\n",
       "      <td>0</td>\n",
       "      <td>unknown</td>\n",
       "      <td>fail</td>\n",
       "    </tr>\n",
       "    <tr>\n",
       "      <th>4903</th>\n",
       "      <td>51.0</td>\n",
       "      <td>retired</td>\n",
       "      <td>married</td>\n",
       "      <td>primary</td>\n",
       "      <td>no</td>\n",
       "      <td>34</td>\n",
       "      <td>NaN</td>\n",
       "      <td>no</td>\n",
       "      <td>-1.0</td>\n",
       "      <td>0</td>\n",
       "      <td>unknown</td>\n",
       "      <td>fail</td>\n",
       "    </tr>\n",
       "    <tr>\n",
       "      <th>5382</th>\n",
       "      <td>54.0</td>\n",
       "      <td>retired</td>\n",
       "      <td>divorced</td>\n",
       "      <td>secondary</td>\n",
       "      <td>no</td>\n",
       "      <td>1483</td>\n",
       "      <td>NaN</td>\n",
       "      <td>yes</td>\n",
       "      <td>-1.0</td>\n",
       "      <td>0</td>\n",
       "      <td>unknown</td>\n",
       "      <td>fail</td>\n",
       "    </tr>\n",
       "    <tr>\n",
       "      <th>5717</th>\n",
       "      <td>54.0</td>\n",
       "      <td>retired</td>\n",
       "      <td>married</td>\n",
       "      <td>secondary</td>\n",
       "      <td>no</td>\n",
       "      <td>1154</td>\n",
       "      <td>NaN</td>\n",
       "      <td>no</td>\n",
       "      <td>-1.0</td>\n",
       "      <td>0</td>\n",
       "      <td>unknown</td>\n",
       "      <td>fail</td>\n",
       "    </tr>\n",
       "    <tr>\n",
       "      <th>5807</th>\n",
       "      <td>24.0</td>\n",
       "      <td>student</td>\n",
       "      <td>single</td>\n",
       "      <td>secondary</td>\n",
       "      <td>no</td>\n",
       "      <td>486</td>\n",
       "      <td>NaN</td>\n",
       "      <td>no</td>\n",
       "      <td>270.0</td>\n",
       "      <td>2</td>\n",
       "      <td>other</td>\n",
       "      <td>fail</td>\n",
       "    </tr>\n",
       "    <tr>\n",
       "      <th>6032</th>\n",
       "      <td>54.0</td>\n",
       "      <td>retired</td>\n",
       "      <td>married</td>\n",
       "      <td>secondary</td>\n",
       "      <td>no</td>\n",
       "      <td>529</td>\n",
       "      <td>NaN</td>\n",
       "      <td>no</td>\n",
       "      <td>-1.0</td>\n",
       "      <td>0</td>\n",
       "      <td>unknown</td>\n",
       "      <td>fail</td>\n",
       "    </tr>\n",
       "  </tbody>\n",
       "</table>\n",
       "</div>\n",
       "      <button class=\"colab-df-convert\" onclick=\"convertToInteractive('df-9cc89715-0505-46f1-9245-c3687095098c')\"\n",
       "              title=\"Convert this dataframe to an interactive table.\"\n",
       "              style=\"display:none;\">\n",
       "        \n",
       "  <svg xmlns=\"http://www.w3.org/2000/svg\" height=\"24px\"viewBox=\"0 0 24 24\"\n",
       "       width=\"24px\">\n",
       "    <path d=\"M0 0h24v24H0V0z\" fill=\"none\"/>\n",
       "    <path d=\"M18.56 5.44l.94 2.06.94-2.06 2.06-.94-2.06-.94-.94-2.06-.94 2.06-2.06.94zm-11 1L8.5 8.5l.94-2.06 2.06-.94-2.06-.94L8.5 2.5l-.94 2.06-2.06.94zm10 10l.94 2.06.94-2.06 2.06-.94-2.06-.94-.94-2.06-.94 2.06-2.06.94z\"/><path d=\"M17.41 7.96l-1.37-1.37c-.4-.4-.92-.59-1.43-.59-.52 0-1.04.2-1.43.59L10.3 9.45l-7.72 7.72c-.78.78-.78 2.05 0 2.83L4 21.41c.39.39.9.59 1.41.59.51 0 1.02-.2 1.41-.59l7.78-7.78 2.81-2.81c.8-.78.8-2.07 0-2.86zM5.41 20L4 18.59l7.72-7.72 1.47 1.35L5.41 20z\"/>\n",
       "  </svg>\n",
       "      </button>\n",
       "      \n",
       "  <style>\n",
       "    .colab-df-container {\n",
       "      display:flex;\n",
       "      flex-wrap:wrap;\n",
       "      gap: 12px;\n",
       "    }\n",
       "\n",
       "    .colab-df-convert {\n",
       "      background-color: #E8F0FE;\n",
       "      border: none;\n",
       "      border-radius: 50%;\n",
       "      cursor: pointer;\n",
       "      display: none;\n",
       "      fill: #1967D2;\n",
       "      height: 32px;\n",
       "      padding: 0 0 0 0;\n",
       "      width: 32px;\n",
       "    }\n",
       "\n",
       "    .colab-df-convert:hover {\n",
       "      background-color: #E2EBFA;\n",
       "      box-shadow: 0px 1px 2px rgba(60, 64, 67, 0.3), 0px 1px 3px 1px rgba(60, 64, 67, 0.15);\n",
       "      fill: #174EA6;\n",
       "    }\n",
       "\n",
       "    [theme=dark] .colab-df-convert {\n",
       "      background-color: #3B4455;\n",
       "      fill: #D2E3FC;\n",
       "    }\n",
       "\n",
       "    [theme=dark] .colab-df-convert:hover {\n",
       "      background-color: #434B5C;\n",
       "      box-shadow: 0px 1px 3px 1px rgba(0, 0, 0, 0.15);\n",
       "      filter: drop-shadow(0px 1px 2px rgba(0, 0, 0, 0.3));\n",
       "      fill: #FFFFFF;\n",
       "    }\n",
       "  </style>\n",
       "\n",
       "      <script>\n",
       "        const buttonEl =\n",
       "          document.querySelector('#df-9cc89715-0505-46f1-9245-c3687095098c button.colab-df-convert');\n",
       "        buttonEl.style.display =\n",
       "          google.colab.kernel.accessAllowed ? 'block' : 'none';\n",
       "\n",
       "        async function convertToInteractive(key) {\n",
       "          const element = document.querySelector('#df-9cc89715-0505-46f1-9245-c3687095098c');\n",
       "          const dataTable =\n",
       "            await google.colab.kernel.invokeFunction('convertToInteractive',\n",
       "                                                     [key], {});\n",
       "          if (!dataTable) return;\n",
       "\n",
       "          const docLinkHtml = 'Like what you see? Visit the ' +\n",
       "            '<a target=\"_blank\" href=https://colab.research.google.com/notebooks/data_table.ipynb>data table notebook</a>'\n",
       "            + ' to learn more about interactive tables.';\n",
       "          element.innerHTML = '';\n",
       "          dataTable['output_type'] = 'display_data';\n",
       "          await google.colab.output.renderOutput(dataTable, element);\n",
       "          const docLink = document.createElement('div');\n",
       "          docLink.innerHTML = docLinkHtml;\n",
       "          element.appendChild(docLink);\n",
       "        }\n",
       "      </script>\n",
       "    </div>\n",
       "  </div>\n",
       "  "
      ],
      "text/plain": [
       "       age      job   marital  education default  balance housing loan  pdays  \\\n",
       "167   51.0  retired   married  secondary      no        0     NaN   no   -1.0   \n",
       "636   51.0  retired   married    primary      no      229     NaN   no   -1.0   \n",
       "2037  24.0  student    single    unknown      no        0     NaN   no   -1.0   \n",
       "4094  54.0  retired   married  secondary      no     1614     NaN   no   -1.0   \n",
       "4884  54.0  retired  divorced   tertiary      no      349     NaN   no   -1.0   \n",
       "4903  51.0  retired   married    primary      no       34     NaN   no   -1.0   \n",
       "5382  54.0  retired  divorced  secondary      no     1483     NaN  yes   -1.0   \n",
       "5717  54.0  retired   married  secondary      no     1154     NaN   no   -1.0   \n",
       "5807  24.0  student    single  secondary      no      486     NaN   no  270.0   \n",
       "6032  54.0  retired   married  secondary      no      529     NaN   no   -1.0   \n",
       "\n",
       "      previous poutcome result  \n",
       "167          0      NaN   fail  \n",
       "636          0  unknown   fail  \n",
       "2037         0  unknown   fail  \n",
       "4094         0  unknown   fail  \n",
       "4884         0  unknown   fail  \n",
       "4903         0  unknown   fail  \n",
       "5382         0  unknown   fail  \n",
       "5717         0  unknown   fail  \n",
       "5807         2    other   fail  \n",
       "6032         0  unknown   fail  "
      ]
     },
     "execution_count": 42,
     "metadata": {},
     "output_type": "execute_result"
    }
   ],
   "source": [
    "df2.loc[(df2['housing'].isnull()) & ((df2['job'] == 'student') | (df2['job'] == 'retired'))]"
   ]
  },
  {
   "cell_type": "code",
   "execution_count": null,
   "metadata": {
    "id": "3bQZSzYzr1by"
   },
   "outputs": [],
   "source": [
    "# jobがstudent or retiredの場合、noで補完\n",
    "df2.loc[(df2['housing'].isnull()) & ((df2['job'] == 'student') | (df2['job'] == 'retired')), 'housing'] = 'no'"
   ]
  },
  {
   "cell_type": "code",
   "execution_count": null,
   "metadata": {
    "id": "EGVcXqKSr2_t"
   },
   "outputs": [],
   "source": [
    "# その他の値をyesで補完\n",
    "df2 = df2.fillna({'housing':'yes'})"
   ]
  },
  {
   "cell_type": "code",
   "execution_count": null,
   "metadata": {
    "colab": {
     "base_uri": "https://localhost:8080/"
    },
    "id": "G8REh7Svr4f6",
    "outputId": "081e1571-974d-4cf6-d158-9b94dacfd4ea"
   },
   "outputs": [
    {
     "data": {
      "text/plain": [
       "age            0\n",
       "job            0\n",
       "marital        0\n",
       "education      0\n",
       "default        0\n",
       "balance        0\n",
       "housing        0\n",
       "loan         217\n",
       "pdays         36\n",
       "previous       0\n",
       "poutcome     250\n",
       "result         0\n",
       "dtype: int64"
      ]
     },
     "execution_count": 45,
     "metadata": {},
     "output_type": "execute_result"
    }
   ],
   "source": [
    "df2.isnull().sum()"
   ]
  },
  {
   "cell_type": "markdown",
   "metadata": {
    "id": "F1jg3PEZr6BQ"
   },
   "source": [
    "#### PDays の欠損値補完"
   ]
  },
  {
   "cell_type": "markdown",
   "metadata": {
    "id": "LS_MKo-0r931"
   },
   "source": [
    "`pdays` が表しているのは前回のキャンペーンで通話してからの経過日数（単位：日）です。  \n",
    "まずは分布を確認してみます。"
   ]
  },
  {
   "cell_type": "code",
   "execution_count": null,
   "metadata": {
    "colab": {
     "base_uri": "https://localhost:8080/",
     "height": 352
    },
    "id": "XwMKJTf-sBEm",
    "outputId": "45304db0-100f-496a-c512-5595a674070a"
   },
   "outputs": [
    {
     "name": "stderr",
     "output_type": "stream",
     "text": [
      "/usr/local/lib/python3.7/dist-packages/seaborn/distributions.py:2619: FutureWarning: `distplot` is a deprecated function and will be removed in a future version. Please adapt your code to use either `displot` (a figure-level function with similar flexibility) or `histplot` (an axes-level function for histograms).\n",
      "  warnings.warn(msg, FutureWarning)\n"
     ]
    },
    {
     "data": {
      "text/plain": [
       "<matplotlib.axes._subplots.AxesSubplot at 0x7fcb694c18d0>"
      ]
     },
     "execution_count": 46,
     "metadata": {},
     "output_type": "execute_result"
    },
    {
     "data": {
      "image/png": "[encoded data removed]",
      "text/plain": [
       "<Figure size 432x288 with 1 Axes>"
      ]
     },
     "metadata": {
      "needs_background": "light"
     },
     "output_type": "display_data"
    }
   ],
   "source": [
    "# 分布を確認 -> 偏りがあり、最小値で補完してもよさそう\n",
    "sns.distplot(df2['pdays'].dropna())"
   ]
  },
  {
   "cell_type": "code",
   "execution_count": null,
   "metadata": {
    "colab": {
     "base_uri": "https://localhost:8080/"
    },
    "id": "IZpg_0cJsVk1",
    "outputId": "d3ce6dc0-7915-4941-d1e3-64003d37515b"
   },
   "outputs": [
    {
     "data": {
      "text/plain": [
       "count    6380.000000\n",
       "mean       39.616458\n",
       "std        97.745220\n",
       "min        -1.000000\n",
       "25%        -1.000000\n",
       "50%        -1.000000\n",
       "75%        -1.000000\n",
       "max       838.000000\n",
       "Name: pdays, dtype: float64"
      ]
     },
     "execution_count": 47,
     "metadata": {},
     "output_type": "execute_result"
    }
   ],
   "source": [
    "# 最小値の確認\n",
    "df2['pdays'].describe()"
   ]
  },
  {
   "cell_type": "code",
   "execution_count": null,
   "metadata": {
    "id": "ET--1jSIsYFK"
   },
   "outputs": [],
   "source": [
    "# 最小値で補完\n",
    "df2 = df2.fillna({'pdays':df2['pdays'].min()})"
   ]
  },
  {
   "cell_type": "code",
   "execution_count": null,
   "metadata": {
    "colab": {
     "base_uri": "https://localhost:8080/"
    },
    "id": "EOcfB1KtsbXx",
    "outputId": "7fdbf0e8-6232-4ee7-a551-a764951e6fa4"
   },
   "outputs": [
    {
     "data": {
      "text/plain": [
       "age            0\n",
       "job            0\n",
       "marital        0\n",
       "education      0\n",
       "default        0\n",
       "balance        0\n",
       "housing        0\n",
       "loan         217\n",
       "pdays          0\n",
       "previous       0\n",
       "poutcome     250\n",
       "result         0\n",
       "dtype: int64"
      ]
     },
     "execution_count": 49,
     "metadata": {},
     "output_type": "execute_result"
    }
   ],
   "source": [
    "df2.isnull().sum()"
   ]
  },
  {
   "cell_type": "markdown",
   "metadata": {
    "id": "7MRrn8VnsdG9"
   },
   "source": [
    "#### Poutcome の欠損値補完"
   ]
  },
  {
   "cell_type": "markdown",
   "metadata": {
    "id": "6uUeHZCCsjWK"
   },
   "source": [
    "`poutcome` は前回キャンペーンの成約状況を表す変数です。  \n",
    "中身を確認し、アプローチを確認します。"
   ]
  },
  {
   "cell_type": "code",
   "execution_count": null,
   "metadata": {
    "colab": {
     "base_uri": "https://localhost:8080/"
    },
    "id": "MJdPFFmmsnqd",
    "outputId": "3728b877-6781-495a-ad93-11cb23070daa"
   },
   "outputs": [
    {
     "data": {
      "text/plain": [
       "unknown    4998\n",
       "failure     695\n",
       "other       253\n",
       "success     220\n",
       "Name: poutcome, dtype: int64"
      ]
     },
     "execution_count": 50,
     "metadata": {},
     "output_type": "execute_result"
    }
   ],
   "source": [
    "df2['poutcome'].value_counts()"
   ]
  },
  {
   "cell_type": "code",
   "execution_count": null,
   "metadata": {
    "colab": {
     "base_uri": "https://localhost:8080/",
     "height": 352
    },
    "id": "nIJo8Mc-spgL",
    "outputId": "13ad57d9-400a-40ed-87eb-5bf764afa4ec"
   },
   "outputs": [
    {
     "name": "stderr",
     "output_type": "stream",
     "text": [
      "/usr/local/lib/python3.7/dist-packages/seaborn/_decorators.py:43: FutureWarning: Pass the following variable as a keyword arg: x. From version 0.12, the only valid positional argument will be `data`, and passing other arguments without an explicit keyword will result in an error or misinterpretation.\n",
      "  FutureWarning\n"
     ]
    },
    {
     "data": {
      "text/plain": [
       "<matplotlib.axes._subplots.AxesSubplot at 0x7fcb69360d90>"
      ]
     },
     "execution_count": 51,
     "metadata": {},
     "output_type": "execute_result"
    },
    {
     "data": {
      "image/png": "[encoded data removed]",
      "text/plain": [
       "<Figure size 432x288 with 1 Axes>"
      ]
     },
     "metadata": {
      "needs_background": "light"
     },
     "output_type": "display_data"
    }
   ],
   "source": [
    "sns.countplot(df2['poutcome'])"
   ]
  },
  {
   "cell_type": "markdown",
   "metadata": {
    "id": "0WFHZ3oQsqgt"
   },
   "source": [
    "変数の中に unknown があり、かつ数も最も多いのでこちらで補完します。"
   ]
  },
  {
   "cell_type": "code",
   "execution_count": null,
   "metadata": {
    "id": "XIPEHpqpss3J"
   },
   "outputs": [],
   "source": [
    "df2 = df2.fillna({'poutcome':'unknown'})"
   ]
  },
  {
   "cell_type": "code",
   "execution_count": null,
   "metadata": {
    "colab": {
     "base_uri": "https://localhost:8080/"
    },
    "id": "6dagzraksuRB",
    "outputId": "554e6114-f25e-463c-dd57-a305afd9507f"
   },
   "outputs": [
    {
     "data": {
      "text/plain": [
       "age            0\n",
       "job            0\n",
       "marital        0\n",
       "education      0\n",
       "default        0\n",
       "balance        0\n",
       "housing        0\n",
       "loan         217\n",
       "pdays          0\n",
       "previous       0\n",
       "poutcome       0\n",
       "result         0\n",
       "dtype: int64"
      ]
     },
     "execution_count": 53,
     "metadata": {},
     "output_type": "execute_result"
    }
   ],
   "source": [
    "df2.isnull().sum()"
   ]
  },
  {
   "cell_type": "markdown",
   "metadata": {
    "id": "h3Rbl0mFsxkE"
   },
   "source": [
    "#### Loan の欠損値補完\n",
    "\n",
    "中身を確認し、アプローチを方法を考えます。"
   ]
  },
  {
   "cell_type": "code",
   "execution_count": null,
   "metadata": {
    "colab": {
     "base_uri": "https://localhost:8080/",
     "height": 352
    },
    "id": "JpgWuNXEs1dE",
    "outputId": "7bcfbebe-7590-4636-f87c-550e028abc44"
   },
   "outputs": [
    {
     "name": "stderr",
     "output_type": "stream",
     "text": [
      "/usr/local/lib/python3.7/dist-packages/seaborn/_decorators.py:43: FutureWarning: Pass the following variable as a keyword arg: x. From version 0.12, the only valid positional argument will be `data`, and passing other arguments without an explicit keyword will result in an error or misinterpretation.\n",
      "  FutureWarning\n"
     ]
    },
    {
     "data": {
      "text/plain": [
       "<matplotlib.axes._subplots.AxesSubplot at 0x7fcb69392f90>"
      ]
     },
     "execution_count": 54,
     "metadata": {},
     "output_type": "execute_result"
    },
    {
     "data": {
      "image/png": "[encoded data removed]",
      "text/plain": [
       "<Figure size 432x288 with 1 Axes>"
      ]
     },
     "metadata": {
      "needs_background": "light"
     },
     "output_type": "display_data"
    }
   ],
   "source": [
    "sns.countplot(df2['loan'])"
   ]
  },
  {
   "cell_type": "markdown",
   "metadata": {
    "id": "JVBARHB0s4-4"
   },
   "source": [
    "`loan` の中身は `yes` か `no` のどちらかの文字列が入っています。  \n",
    "比率としては圧倒的に `no` が多いようなので、 `no` で補完します。"
   ]
  },
  {
   "cell_type": "code",
   "execution_count": null,
   "metadata": {
    "colab": {
     "base_uri": "https://localhost:8080/"
    },
    "id": "suy71QdNs-mQ",
    "outputId": "8214136f-6ecd-49c2-bc2d-ef99f956b7dd"
   },
   "outputs": [
    {
     "data": {
      "text/plain": [
       "age          0\n",
       "job          0\n",
       "marital      0\n",
       "education    0\n",
       "default      0\n",
       "balance      0\n",
       "housing      0\n",
       "loan         0\n",
       "pdays        0\n",
       "previous     0\n",
       "poutcome     0\n",
       "result       0\n",
       "dtype: int64"
      ]
     },
     "execution_count": 55,
     "metadata": {},
     "output_type": "execute_result"
    }
   ],
   "source": [
    "df2 = df2.fillna({'loan':'no'})\n",
    "df2.isnull().sum()"
   ]
  },
  {
   "cell_type": "markdown",
   "metadata": {
    "id": "G1Sp-6EatBmA"
   },
   "source": [
    "欠損値の補完が完了しました。  \n",
    "ここで精度が出るか確認してみましょう。"
   ]
  },
  {
   "cell_type": "markdown",
   "metadata": {
    "id": "gpQqgRHntDcr"
   },
   "source": [
    "### 精度の検証（1）"
   ]
  },
  {
   "cell_type": "code",
   "execution_count": null,
   "metadata": {
    "colab": {
     "base_uri": "https://localhost:8080/"
    },
    "id": "x7WPVB3_tG54",
    "outputId": "c72a26c5-50e7-48e8-e29a-e5ea66e70d86"
   },
   "outputs": [
    {
     "data": {
      "text/plain": [
       "(6416, 34)"
      ]
     },
     "execution_count": 56,
     "metadata": {},
     "output_type": "execute_result"
    }
   ],
   "source": [
    "from sklearn.preprocessing import LabelEncoder\n",
    "\n",
    "le = LabelEncoder()\n",
    "df2['result'] = le.fit_transform(df2['result'])\n",
    "df2_dum = pd.get_dummies(df2)\n",
    "df2_dum.shape"
   ]
  },
  {
   "cell_type": "code",
   "execution_count": null,
   "metadata": {
    "id": "W__5IidStNuo"
   },
   "outputs": [],
   "source": [
    "t = df2_dum['result'].values\n",
    "x = df2_dum.drop(['result'], axis=1).values"
   ]
  },
  {
   "cell_type": "code",
   "execution_count": null,
   "metadata": {
    "id": "QVspIOsOtPf9"
   },
   "outputs": [],
   "source": [
    "from sklearn.model_selection import train_test_split\n",
    "x_train, x_val, t_train, t_val = train_test_split(x, t, test_size=0.3, random_state=1)"
   ]
  },
  {
   "cell_type": "code",
   "execution_count": null,
   "metadata": {
    "id": "6bgduRqKtWBP"
   },
   "outputs": [],
   "source": [
    "# モデルの宣言\n",
    "model = DecisionTreeClassifier(random_state=0)"
   ]
  },
  {
   "cell_type": "code",
   "execution_count": null,
   "metadata": {
    "colab": {
     "base_uri": "https://localhost:8080/"
    },
    "id": "3wTLUtrGtXuD",
    "outputId": "815e70bc-e36e-4f46-b5b9-bccf0d9cdc0c"
   },
   "outputs": [
    {
     "data": {
      "text/plain": [
       "DecisionTreeClassifier(random_state=0)"
      ]
     },
     "execution_count": 60,
     "metadata": {},
     "output_type": "execute_result"
    }
   ],
   "source": [
    "# モデルの学習\n",
    "model.fit(x_train, t_train)"
   ]
  },
  {
   "cell_type": "code",
   "execution_count": null,
   "metadata": {
    "colab": {
     "base_uri": "https://localhost:8080/"
    },
    "id": "KWMoIMC_tZDZ",
    "outputId": "3be82bc8-d57c-4d4f-9c14-4a8a4ec368ef"
   },
   "outputs": [
    {
     "name": "stdout",
     "output_type": "stream",
     "text": [
      "0.9991093297706524\n",
      "0.828051948051948\n"
     ]
    }
   ],
   "source": [
    "# モデルの検証\n",
    "print(model.score(x_train, t_train))\n",
    "print(model.score(x_val, t_val))"
   ]
  },
  {
   "cell_type": "markdown",
   "metadata": {
    "id": "jn-XGT7_taSa"
   },
   "source": [
    "わずかに精度が上がりました。  \n",
    "全体のサンプル数に対して、欠損値の数が多くなかった為影響が大きくなかったことが推測されます。  \n",
    "続いてはEncodingの方法について確認します。"
   ]
  },
  {
   "cell_type": "markdown",
   "metadata": {
    "id": "0H25YERitcw6"
   },
   "source": [
    "### カテゴリカル変数へのアプローチ"
   ]
  },
  {
   "cell_type": "markdown",
   "metadata": {
    "id": "dzKyFsYPthw-"
   },
   "source": [
    "#### Label Encoding"
   ]
  },
  {
   "cell_type": "markdown",
   "metadata": {
    "id": "yoZ1WTVVtjzc"
   },
   "source": [
    "まずは2値のものに関してはLabel Encodingを適用させます。"
   ]
  },
  {
   "cell_type": "code",
   "execution_count": null,
   "metadata": {
    "colab": {
     "base_uri": "https://localhost:8080/",
     "height": 112
    },
    "id": "5_HfoyAvtlZW",
    "outputId": "fbdbfe16-2cd4-47f9-d346-2807b8161adb"
   },
   "outputs": [
    {
     "data": {
      "text/html": [
       "\n",
       "  <div id=\"df-7ef89234-8350-47c1-8e82-6719cd6f65ff\">\n",
       "    <div class=\"colab-df-container\">\n",
       "      <div>\n",
       "<style scoped>\n",
       "    .dataframe tbody tr th:only-of-type {\n",
       "        vertical-align: middle;\n",
       "    }\n",
       "\n",
       "    .dataframe tbody tr th {\n",
       "        vertical-align: top;\n",
       "    }\n",
       "\n",
       "    .dataframe thead th {\n",
       "        text-align: right;\n",
       "    }\n",
       "</style>\n",
       "<table border=\"1\" class=\"dataframe\">\n",
       "  <thead>\n",
       "    <tr style=\"text-align: right;\">\n",
       "      <th></th>\n",
       "      <th>job</th>\n",
       "      <th>marital</th>\n",
       "      <th>education</th>\n",
       "      <th>default</th>\n",
       "      <th>housing</th>\n",
       "      <th>loan</th>\n",
       "      <th>poutcome</th>\n",
       "    </tr>\n",
       "  </thead>\n",
       "  <tbody>\n",
       "    <tr>\n",
       "      <th>0</th>\n",
       "      <td>entrepreneur</td>\n",
       "      <td>married</td>\n",
       "      <td>secondary</td>\n",
       "      <td>no</td>\n",
       "      <td>no</td>\n",
       "      <td>yes</td>\n",
       "      <td>unknown</td>\n",
       "    </tr>\n",
       "    <tr>\n",
       "      <th>1</th>\n",
       "      <td>technician</td>\n",
       "      <td>single</td>\n",
       "      <td>secondary</td>\n",
       "      <td>no</td>\n",
       "      <td>yes</td>\n",
       "      <td>no</td>\n",
       "      <td>unknown</td>\n",
       "    </tr>\n",
       "  </tbody>\n",
       "</table>\n",
       "</div>\n",
       "      <button class=\"colab-df-convert\" onclick=\"convertToInteractive('df-7ef89234-8350-47c1-8e82-6719cd6f65ff')\"\n",
       "              title=\"Convert this dataframe to an interactive table.\"\n",
       "              style=\"display:none;\">\n",
       "        \n",
       "  <svg xmlns=\"http://www.w3.org/2000/svg\" height=\"24px\"viewBox=\"0 0 24 24\"\n",
       "       width=\"24px\">\n",
       "    <path d=\"M0 0h24v24H0V0z\" fill=\"none\"/>\n",
       "    <path d=\"M18.56 5.44l.94 2.06.94-2.06 2.06-.94-2.06-.94-.94-2.06-.94 2.06-2.06.94zm-11 1L8.5 8.5l.94-2.06 2.06-.94-2.06-.94L8.5 2.5l-.94 2.06-2.06.94zm10 10l.94 2.06.94-2.06 2.06-.94-2.06-.94-.94-2.06-.94 2.06-2.06.94z\"/><path d=\"M17.41 7.96l-1.37-1.37c-.4-.4-.92-.59-1.43-.59-.52 0-1.04.2-1.43.59L10.3 9.45l-7.72 7.72c-.78.78-.78 2.05 0 2.83L4 21.41c.39.39.9.59 1.41.59.51 0 1.02-.2 1.41-.59l7.78-7.78 2.81-2.81c.8-.78.8-2.07 0-2.86zM5.41 20L4 18.59l7.72-7.72 1.47 1.35L5.41 20z\"/>\n",
       "  </svg>\n",
       "      </button>\n",
       "      \n",
       "  <style>\n",
       "    .colab-df-container {\n",
       "      display:flex;\n",
       "      flex-wrap:wrap;\n",
       "      gap: 12px;\n",
       "    }\n",
       "\n",
       "    .colab-df-convert {\n",
       "      background-color: #E8F0FE;\n",
       "      border: none;\n",
       "      border-radius: 50%;\n",
       "      cursor: pointer;\n",
       "      display: none;\n",
       "      fill: #1967D2;\n",
       "      height: 32px;\n",
       "      padding: 0 0 0 0;\n",
       "      width: 32px;\n",
       "    }\n",
       "\n",
       "    .colab-df-convert:hover {\n",
       "      background-color: #E2EBFA;\n",
       "      box-shadow: 0px 1px 2px rgba(60, 64, 67, 0.3), 0px 1px 3px 1px rgba(60, 64, 67, 0.15);\n",
       "      fill: #174EA6;\n",
       "    }\n",
       "\n",
       "    [theme=dark] .colab-df-convert {\n",
       "      background-color: #3B4455;\n",
       "      fill: #D2E3FC;\n",
       "    }\n",
       "\n",
       "    [theme=dark] .colab-df-convert:hover {\n",
       "      background-color: #434B5C;\n",
       "      box-shadow: 0px 1px 3px 1px rgba(0, 0, 0, 0.15);\n",
       "      filter: drop-shadow(0px 1px 2px rgba(0, 0, 0, 0.3));\n",
       "      fill: #FFFFFF;\n",
       "    }\n",
       "  </style>\n",
       "\n",
       "      <script>\n",
       "        const buttonEl =\n",
       "          document.querySelector('#df-7ef89234-8350-47c1-8e82-6719cd6f65ff button.colab-df-convert');\n",
       "        buttonEl.style.display =\n",
       "          google.colab.kernel.accessAllowed ? 'block' : 'none';\n",
       "\n",
       "        async function convertToInteractive(key) {\n",
       "          const element = document.querySelector('#df-7ef89234-8350-47c1-8e82-6719cd6f65ff');\n",
       "          const dataTable =\n",
       "            await google.colab.kernel.invokeFunction('convertToInteractive',\n",
       "                                                     [key], {});\n",
       "          if (!dataTable) return;\n",
       "\n",
       "          const docLinkHtml = 'Like what you see? Visit the ' +\n",
       "            '<a target=\"_blank\" href=https://colab.research.google.com/notebooks/data_table.ipynb>data table notebook</a>'\n",
       "            + ' to learn more about interactive tables.';\n",
       "          element.innerHTML = '';\n",
       "          dataTable['output_type'] = 'display_data';\n",
       "          await google.colab.output.renderOutput(dataTable, element);\n",
       "          const docLink = document.createElement('div');\n",
       "          docLink.innerHTML = docLinkHtml;\n",
       "          element.appendChild(docLink);\n",
       "        }\n",
       "      </script>\n",
       "    </div>\n",
       "  </div>\n",
       "  "
      ],
      "text/plain": [
       "            job  marital  education default housing loan poutcome\n",
       "0  entrepreneur  married  secondary      no      no  yes  unknown\n",
       "1    technician   single  secondary      no     yes   no  unknown"
      ]
     },
     "execution_count": 62,
     "metadata": {},
     "output_type": "execute_result"
    }
   ],
   "source": [
    "df3 = df2.copy()\n",
    "df_obj = df3.select_dtypes(include='object')\n",
    "df_obj.head(2)"
   ]
  },
  {
   "cell_type": "code",
   "execution_count": null,
   "metadata": {
    "colab": {
     "base_uri": "https://localhost:8080/"
    },
    "id": "ymV03ASAtmm6",
    "outputId": "66bd2ed7-d13a-4c17-e018-23246fff962d"
   },
   "outputs": [
    {
     "data": {
      "text/plain": [
       "job          12\n",
       "marital       3\n",
       "education     4\n",
       "default       2\n",
       "housing       2\n",
       "loan          2\n",
       "poutcome      4\n",
       "dtype: int64"
      ]
     },
     "execution_count": 63,
     "metadata": {},
     "output_type": "execute_result"
    }
   ],
   "source": [
    "# カテゴリカル変数のそれぞれのUnique数を確認\n",
    "str_uni = df_obj.nunique() # Uniqueの数を変数に格納\n",
    "str_uni"
   ]
  },
  {
   "cell_type": "code",
   "execution_count": null,
   "metadata": {
    "colab": {
     "base_uri": "https://localhost:8080/"
    },
    "id": "1BFGWmTVtoIM",
    "outputId": "ef1e378e-ee97-4197-95d4-ee979f085618"
   },
   "outputs": [
    {
     "data": {
      "text/plain": [
       "Index(['default', 'housing', 'loan'], dtype='object')"
      ]
     },
     "execution_count": 64,
     "metadata": {},
     "output_type": "execute_result"
    }
   ],
   "source": [
    "col_le = str_uni[str_uni == 2].index\n",
    "col_le"
   ]
  },
  {
   "cell_type": "code",
   "execution_count": null,
   "metadata": {
    "colab": {
     "base_uri": "https://localhost:8080/"
    },
    "id": "30EF2cKotqht",
    "outputId": "c142ae39-a23c-440f-aa99-846de4478a61"
   },
   "outputs": [
    {
     "data": {
      "text/plain": [
       "array(['no', 'yes'], dtype=object)"
      ]
     },
     "execution_count": 65,
     "metadata": {},
     "output_type": "execute_result"
    }
   ],
   "source": [
    "df3[col_le[0]].unique()"
   ]
  },
  {
   "cell_type": "markdown",
   "metadata": {
    "id": "N5ApdCAPtrzV"
   },
   "source": [
    "文字列が2値の列名が取得できたので、Label Encodingを適用します。"
   ]
  },
  {
   "cell_type": "code",
   "execution_count": null,
   "metadata": {
    "id": "4CHKpDSqtuSM"
   },
   "outputs": [],
   "source": [
    "for col in col_le:\n",
    "    le = LabelEncoder()\n",
    "    df3[col] = le.fit_transform(df3[col])"
   ]
  },
  {
   "cell_type": "code",
   "execution_count": null,
   "metadata": {
    "colab": {
     "base_uri": "https://localhost:8080/",
     "height": 363
    },
    "id": "rMn6kKgCt078",
    "outputId": "0d13d57c-b37f-4579-bff6-52d413e45304"
   },
   "outputs": [
    {
     "data": {
      "text/html": [
       "\n",
       "  <div id=\"df-5968c677-d38d-4ab7-a66b-4d7898e4cab9\">\n",
       "    <div class=\"colab-df-container\">\n",
       "      <div>\n",
       "<style scoped>\n",
       "    .dataframe tbody tr th:only-of-type {\n",
       "        vertical-align: middle;\n",
       "    }\n",
       "\n",
       "    .dataframe tbody tr th {\n",
       "        vertical-align: top;\n",
       "    }\n",
       "\n",
       "    .dataframe thead th {\n",
       "        text-align: right;\n",
       "    }\n",
       "</style>\n",
       "<table border=\"1\" class=\"dataframe\">\n",
       "  <thead>\n",
       "    <tr style=\"text-align: right;\">\n",
       "      <th></th>\n",
       "      <th>age</th>\n",
       "      <th>job</th>\n",
       "      <th>marital</th>\n",
       "      <th>education</th>\n",
       "      <th>default</th>\n",
       "      <th>balance</th>\n",
       "      <th>housing</th>\n",
       "      <th>loan</th>\n",
       "      <th>pdays</th>\n",
       "      <th>previous</th>\n",
       "      <th>poutcome</th>\n",
       "      <th>result</th>\n",
       "    </tr>\n",
       "  </thead>\n",
       "  <tbody>\n",
       "    <tr>\n",
       "      <th>0</th>\n",
       "      <td>50.0</td>\n",
       "      <td>entrepreneur</td>\n",
       "      <td>married</td>\n",
       "      <td>secondary</td>\n",
       "      <td>0</td>\n",
       "      <td>1857</td>\n",
       "      <td>0</td>\n",
       "      <td>1</td>\n",
       "      <td>-1.0</td>\n",
       "      <td>0</td>\n",
       "      <td>unknown</td>\n",
       "      <td>0</td>\n",
       "    </tr>\n",
       "    <tr>\n",
       "      <th>1</th>\n",
       "      <td>37.0</td>\n",
       "      <td>technician</td>\n",
       "      <td>single</td>\n",
       "      <td>secondary</td>\n",
       "      <td>0</td>\n",
       "      <td>363</td>\n",
       "      <td>1</td>\n",
       "      <td>0</td>\n",
       "      <td>-1.0</td>\n",
       "      <td>0</td>\n",
       "      <td>unknown</td>\n",
       "      <td>0</td>\n",
       "    </tr>\n",
       "    <tr>\n",
       "      <th>2</th>\n",
       "      <td>35.0</td>\n",
       "      <td>blue-collar</td>\n",
       "      <td>married</td>\n",
       "      <td>primary</td>\n",
       "      <td>0</td>\n",
       "      <td>422</td>\n",
       "      <td>1</td>\n",
       "      <td>0</td>\n",
       "      <td>-1.0</td>\n",
       "      <td>0</td>\n",
       "      <td>unknown</td>\n",
       "      <td>0</td>\n",
       "    </tr>\n",
       "    <tr>\n",
       "      <th>3</th>\n",
       "      <td>55.0</td>\n",
       "      <td>retired</td>\n",
       "      <td>married</td>\n",
       "      <td>secondary</td>\n",
       "      <td>0</td>\n",
       "      <td>119</td>\n",
       "      <td>0</td>\n",
       "      <td>1</td>\n",
       "      <td>-1.0</td>\n",
       "      <td>0</td>\n",
       "      <td>unknown</td>\n",
       "      <td>0</td>\n",
       "    </tr>\n",
       "    <tr>\n",
       "      <th>4</th>\n",
       "      <td>40.0</td>\n",
       "      <td>blue-collar</td>\n",
       "      <td>single</td>\n",
       "      <td>secondary</td>\n",
       "      <td>0</td>\n",
       "      <td>1066</td>\n",
       "      <td>1</td>\n",
       "      <td>0</td>\n",
       "      <td>-1.0</td>\n",
       "      <td>0</td>\n",
       "      <td>unknown</td>\n",
       "      <td>0</td>\n",
       "    </tr>\n",
       "    <tr>\n",
       "      <th>5</th>\n",
       "      <td>59.0</td>\n",
       "      <td>retired</td>\n",
       "      <td>married</td>\n",
       "      <td>secondary</td>\n",
       "      <td>0</td>\n",
       "      <td>1080</td>\n",
       "      <td>0</td>\n",
       "      <td>0</td>\n",
       "      <td>-1.0</td>\n",
       "      <td>0</td>\n",
       "      <td>unknown</td>\n",
       "      <td>0</td>\n",
       "    </tr>\n",
       "    <tr>\n",
       "      <th>6</th>\n",
       "      <td>40.0</td>\n",
       "      <td>technician</td>\n",
       "      <td>married</td>\n",
       "      <td>secondary</td>\n",
       "      <td>0</td>\n",
       "      <td>3056</td>\n",
       "      <td>0</td>\n",
       "      <td>0</td>\n",
       "      <td>-1.0</td>\n",
       "      <td>0</td>\n",
       "      <td>unknown</td>\n",
       "      <td>0</td>\n",
       "    </tr>\n",
       "    <tr>\n",
       "      <th>7</th>\n",
       "      <td>43.0</td>\n",
       "      <td>management</td>\n",
       "      <td>single</td>\n",
       "      <td>tertiary</td>\n",
       "      <td>0</td>\n",
       "      <td>-2</td>\n",
       "      <td>0</td>\n",
       "      <td>1</td>\n",
       "      <td>-1.0</td>\n",
       "      <td>0</td>\n",
       "      <td>unknown</td>\n",
       "      <td>0</td>\n",
       "    </tr>\n",
       "    <tr>\n",
       "      <th>8</th>\n",
       "      <td>59.0</td>\n",
       "      <td>unknown</td>\n",
       "      <td>married</td>\n",
       "      <td>primary</td>\n",
       "      <td>0</td>\n",
       "      <td>282</td>\n",
       "      <td>0</td>\n",
       "      <td>0</td>\n",
       "      <td>-1.0</td>\n",
       "      <td>0</td>\n",
       "      <td>unknown</td>\n",
       "      <td>0</td>\n",
       "    </tr>\n",
       "    <tr>\n",
       "      <th>9</th>\n",
       "      <td>25.0</td>\n",
       "      <td>entrepreneur</td>\n",
       "      <td>single</td>\n",
       "      <td>tertiary</td>\n",
       "      <td>1</td>\n",
       "      <td>6</td>\n",
       "      <td>1</td>\n",
       "      <td>1</td>\n",
       "      <td>-1.0</td>\n",
       "      <td>0</td>\n",
       "      <td>unknown</td>\n",
       "      <td>0</td>\n",
       "    </tr>\n",
       "  </tbody>\n",
       "</table>\n",
       "</div>\n",
       "      <button class=\"colab-df-convert\" onclick=\"convertToInteractive('df-5968c677-d38d-4ab7-a66b-4d7898e4cab9')\"\n",
       "              title=\"Convert this dataframe to an interactive table.\"\n",
       "              style=\"display:none;\">\n",
       "        \n",
       "  <svg xmlns=\"http://www.w3.org/2000/svg\" height=\"24px\"viewBox=\"0 0 24 24\"\n",
       "       width=\"24px\">\n",
       "    <path d=\"M0 0h24v24H0V0z\" fill=\"none\"/>\n",
       "    <path d=\"M18.56 5.44l.94 2.06.94-2.06 2.06-.94-2.06-.94-.94-2.06-.94 2.06-2.06.94zm-11 1L8.5 8.5l.94-2.06 2.06-.94-2.06-.94L8.5 2.5l-.94 2.06-2.06.94zm10 10l.94 2.06.94-2.06 2.06-.94-2.06-.94-.94-2.06-.94 2.06-2.06.94z\"/><path d=\"M17.41 7.96l-1.37-1.37c-.4-.4-.92-.59-1.43-.59-.52 0-1.04.2-1.43.59L10.3 9.45l-7.72 7.72c-.78.78-.78 2.05 0 2.83L4 21.41c.39.39.9.59 1.41.59.51 0 1.02-.2 1.41-.59l7.78-7.78 2.81-2.81c.8-.78.8-2.07 0-2.86zM5.41 20L4 18.59l7.72-7.72 1.47 1.35L5.41 20z\"/>\n",
       "  </svg>\n",
       "      </button>\n",
       "      \n",
       "  <style>\n",
       "    .colab-df-container {\n",
       "      display:flex;\n",
       "      flex-wrap:wrap;\n",
       "      gap: 12px;\n",
       "    }\n",
       "\n",
       "    .colab-df-convert {\n",
       "      background-color: #E8F0FE;\n",
       "      border: none;\n",
       "      border-radius: 50%;\n",
       "      cursor: pointer;\n",
       "      display: none;\n",
       "      fill: #1967D2;\n",
       "      height: 32px;\n",
       "      padding: 0 0 0 0;\n",
       "      width: 32px;\n",
       "    }\n",
       "\n",
       "    .colab-df-convert:hover {\n",
       "      background-color: #E2EBFA;\n",
       "      box-shadow: 0px 1px 2px rgba(60, 64, 67, 0.3), 0px 1px 3px 1px rgba(60, 64, 67, 0.15);\n",
       "      fill: #174EA6;\n",
       "    }\n",
       "\n",
       "    [theme=dark] .colab-df-convert {\n",
       "      background-color: #3B4455;\n",
       "      fill: #D2E3FC;\n",
       "    }\n",
       "\n",
       "    [theme=dark] .colab-df-convert:hover {\n",
       "      background-color: #434B5C;\n",
       "      box-shadow: 0px 1px 3px 1px rgba(0, 0, 0, 0.15);\n",
       "      filter: drop-shadow(0px 1px 2px rgba(0, 0, 0, 0.3));\n",
       "      fill: #FFFFFF;\n",
       "    }\n",
       "  </style>\n",
       "\n",
       "      <script>\n",
       "        const buttonEl =\n",
       "          document.querySelector('#df-5968c677-d38d-4ab7-a66b-4d7898e4cab9 button.colab-df-convert');\n",
       "        buttonEl.style.display =\n",
       "          google.colab.kernel.accessAllowed ? 'block' : 'none';\n",
       "\n",
       "        async function convertToInteractive(key) {\n",
       "          const element = document.querySelector('#df-5968c677-d38d-4ab7-a66b-4d7898e4cab9');\n",
       "          const dataTable =\n",
       "            await google.colab.kernel.invokeFunction('convertToInteractive',\n",
       "                                                     [key], {});\n",
       "          if (!dataTable) return;\n",
       "\n",
       "          const docLinkHtml = 'Like what you see? Visit the ' +\n",
       "            '<a target=\"_blank\" href=https://colab.research.google.com/notebooks/data_table.ipynb>data table notebook</a>'\n",
       "            + ' to learn more about interactive tables.';\n",
       "          element.innerHTML = '';\n",
       "          dataTable['output_type'] = 'display_data';\n",
       "          await google.colab.output.renderOutput(dataTable, element);\n",
       "          const docLink = document.createElement('div');\n",
       "          docLink.innerHTML = docLinkHtml;\n",
       "          element.appendChild(docLink);\n",
       "        }\n",
       "      </script>\n",
       "    </div>\n",
       "  </div>\n",
       "  "
      ],
      "text/plain": [
       "    age           job  marital  education  default  balance  housing  loan  \\\n",
       "0  50.0  entrepreneur  married  secondary        0     1857        0     1   \n",
       "1  37.0    technician   single  secondary        0      363        1     0   \n",
       "2  35.0   blue-collar  married    primary        0      422        1     0   \n",
       "3  55.0       retired  married  secondary        0      119        0     1   \n",
       "4  40.0   blue-collar   single  secondary        0     1066        1     0   \n",
       "5  59.0       retired  married  secondary        0     1080        0     0   \n",
       "6  40.0    technician  married  secondary        0     3056        0     0   \n",
       "7  43.0    management   single   tertiary        0       -2        0     1   \n",
       "8  59.0       unknown  married    primary        0      282        0     0   \n",
       "9  25.0  entrepreneur   single   tertiary        1        6        1     1   \n",
       "\n",
       "   pdays  previous poutcome  result  \n",
       "0   -1.0         0  unknown       0  \n",
       "1   -1.0         0  unknown       0  \n",
       "2   -1.0         0  unknown       0  \n",
       "3   -1.0         0  unknown       0  \n",
       "4   -1.0         0  unknown       0  \n",
       "5   -1.0         0  unknown       0  \n",
       "6   -1.0         0  unknown       0  \n",
       "7   -1.0         0  unknown       0  \n",
       "8   -1.0         0  unknown       0  \n",
       "9   -1.0         0  unknown       0  "
      ]
     },
     "execution_count": 67,
     "metadata": {},
     "output_type": "execute_result"
    }
   ],
   "source": [
    "df3.head(10)"
   ]
  },
  {
   "cell_type": "markdown",
   "metadata": {
    "id": "5OwvLkDlt167"
   },
   "source": [
    "### 精度の検証(2)"
   ]
  },
  {
   "cell_type": "code",
   "execution_count": null,
   "metadata": {
    "colab": {
     "base_uri": "https://localhost:8080/",
     "height": 143
    },
    "id": "3423lFIjt6jf",
    "outputId": "e955375a-9c13-4711-df7a-98c490cf3ec3"
   },
   "outputs": [
    {
     "data": {
      "text/html": [
       "\n",
       "  <div id=\"df-aa8f4cf9-b841-4798-a42b-7dbfa0f1d662\">\n",
       "    <div class=\"colab-df-container\">\n",
       "      <div>\n",
       "<style scoped>\n",
       "    .dataframe tbody tr th:only-of-type {\n",
       "        vertical-align: middle;\n",
       "    }\n",
       "\n",
       "    .dataframe tbody tr th {\n",
       "        vertical-align: top;\n",
       "    }\n",
       "\n",
       "    .dataframe thead th {\n",
       "        text-align: right;\n",
       "    }\n",
       "</style>\n",
       "<table border=\"1\" class=\"dataframe\">\n",
       "  <thead>\n",
       "    <tr style=\"text-align: right;\">\n",
       "      <th></th>\n",
       "      <th>age</th>\n",
       "      <th>job</th>\n",
       "      <th>marital</th>\n",
       "      <th>education</th>\n",
       "      <th>default</th>\n",
       "      <th>balance</th>\n",
       "      <th>housing</th>\n",
       "      <th>loan</th>\n",
       "      <th>pdays</th>\n",
       "      <th>previous</th>\n",
       "      <th>poutcome</th>\n",
       "      <th>result</th>\n",
       "    </tr>\n",
       "  </thead>\n",
       "  <tbody>\n",
       "    <tr>\n",
       "      <th>0</th>\n",
       "      <td>50.0</td>\n",
       "      <td>entrepreneur</td>\n",
       "      <td>married</td>\n",
       "      <td>secondary</td>\n",
       "      <td>0</td>\n",
       "      <td>1857</td>\n",
       "      <td>0</td>\n",
       "      <td>1</td>\n",
       "      <td>-1.0</td>\n",
       "      <td>0</td>\n",
       "      <td>unknown</td>\n",
       "      <td>0</td>\n",
       "    </tr>\n",
       "    <tr>\n",
       "      <th>1</th>\n",
       "      <td>37.0</td>\n",
       "      <td>technician</td>\n",
       "      <td>single</td>\n",
       "      <td>secondary</td>\n",
       "      <td>0</td>\n",
       "      <td>363</td>\n",
       "      <td>1</td>\n",
       "      <td>0</td>\n",
       "      <td>-1.0</td>\n",
       "      <td>0</td>\n",
       "      <td>unknown</td>\n",
       "      <td>0</td>\n",
       "    </tr>\n",
       "    <tr>\n",
       "      <th>2</th>\n",
       "      <td>35.0</td>\n",
       "      <td>blue-collar</td>\n",
       "      <td>married</td>\n",
       "      <td>primary</td>\n",
       "      <td>0</td>\n",
       "      <td>422</td>\n",
       "      <td>1</td>\n",
       "      <td>0</td>\n",
       "      <td>-1.0</td>\n",
       "      <td>0</td>\n",
       "      <td>unknown</td>\n",
       "      <td>0</td>\n",
       "    </tr>\n",
       "  </tbody>\n",
       "</table>\n",
       "</div>\n",
       "      <button class=\"colab-df-convert\" onclick=\"convertToInteractive('df-aa8f4cf9-b841-4798-a42b-7dbfa0f1d662')\"\n",
       "              title=\"Convert this dataframe to an interactive table.\"\n",
       "              style=\"display:none;\">\n",
       "        \n",
       "  <svg xmlns=\"http://www.w3.org/2000/svg\" height=\"24px\"viewBox=\"0 0 24 24\"\n",
       "       width=\"24px\">\n",
       "    <path d=\"M0 0h24v24H0V0z\" fill=\"none\"/>\n",
       "    <path d=\"M18.56 5.44l.94 2.06.94-2.06 2.06-.94-2.06-.94-.94-2.06-.94 2.06-2.06.94zm-11 1L8.5 8.5l.94-2.06 2.06-.94-2.06-.94L8.5 2.5l-.94 2.06-2.06.94zm10 10l.94 2.06.94-2.06 2.06-.94-2.06-.94-.94-2.06-.94 2.06-2.06.94z\"/><path d=\"M17.41 7.96l-1.37-1.37c-.4-.4-.92-.59-1.43-.59-.52 0-1.04.2-1.43.59L10.3 9.45l-7.72 7.72c-.78.78-.78 2.05 0 2.83L4 21.41c.39.39.9.59 1.41.59.51 0 1.02-.2 1.41-.59l7.78-7.78 2.81-2.81c.8-.78.8-2.07 0-2.86zM5.41 20L4 18.59l7.72-7.72 1.47 1.35L5.41 20z\"/>\n",
       "  </svg>\n",
       "      </button>\n",
       "      \n",
       "  <style>\n",
       "    .colab-df-container {\n",
       "      display:flex;\n",
       "      flex-wrap:wrap;\n",
       "      gap: 12px;\n",
       "    }\n",
       "\n",
       "    .colab-df-convert {\n",
       "      background-color: #E8F0FE;\n",
       "      border: none;\n",
       "      border-radius: 50%;\n",
       "      cursor: pointer;\n",
       "      display: none;\n",
       "      fill: #1967D2;\n",
       "      height: 32px;\n",
       "      padding: 0 0 0 0;\n",
       "      width: 32px;\n",
       "    }\n",
       "\n",
       "    .colab-df-convert:hover {\n",
       "      background-color: #E2EBFA;\n",
       "      box-shadow: 0px 1px 2px rgba(60, 64, 67, 0.3), 0px 1px 3px 1px rgba(60, 64, 67, 0.15);\n",
       "      fill: #174EA6;\n",
       "    }\n",
       "\n",
       "    [theme=dark] .colab-df-convert {\n",
       "      background-color: #3B4455;\n",
       "      fill: #D2E3FC;\n",
       "    }\n",
       "\n",
       "    [theme=dark] .colab-df-convert:hover {\n",
       "      background-color: #434B5C;\n",
       "      box-shadow: 0px 1px 3px 1px rgba(0, 0, 0, 0.15);\n",
       "      filter: drop-shadow(0px 1px 2px rgba(0, 0, 0, 0.3));\n",
       "      fill: #FFFFFF;\n",
       "    }\n",
       "  </style>\n",
       "\n",
       "      <script>\n",
       "        const buttonEl =\n",
       "          document.querySelector('#df-aa8f4cf9-b841-4798-a42b-7dbfa0f1d662 button.colab-df-convert');\n",
       "        buttonEl.style.display =\n",
       "          google.colab.kernel.accessAllowed ? 'block' : 'none';\n",
       "\n",
       "        async function convertToInteractive(key) {\n",
       "          const element = document.querySelector('#df-aa8f4cf9-b841-4798-a42b-7dbfa0f1d662');\n",
       "          const dataTable =\n",
       "            await google.colab.kernel.invokeFunction('convertToInteractive',\n",
       "                                                     [key], {});\n",
       "          if (!dataTable) return;\n",
       "\n",
       "          const docLinkHtml = 'Like what you see? Visit the ' +\n",
       "            '<a target=\"_blank\" href=https://colab.research.google.com/notebooks/data_table.ipynb>data table notebook</a>'\n",
       "            + ' to learn more about interactive tables.';\n",
       "          element.innerHTML = '';\n",
       "          dataTable['output_type'] = 'display_data';\n",
       "          await google.colab.output.renderOutput(dataTable, element);\n",
       "          const docLink = document.createElement('div');\n",
       "          docLink.innerHTML = docLinkHtml;\n",
       "          element.appendChild(docLink);\n",
       "        }\n",
       "      </script>\n",
       "    </div>\n",
       "  </div>\n",
       "  "
      ],
      "text/plain": [
       "    age           job  marital  education  default  balance  housing  loan  \\\n",
       "0  50.0  entrepreneur  married  secondary        0     1857        0     1   \n",
       "1  37.0    technician   single  secondary        0      363        1     0   \n",
       "2  35.0   blue-collar  married    primary        0      422        1     0   \n",
       "\n",
       "   pdays  previous poutcome  result  \n",
       "0   -1.0         0  unknown       0  \n",
       "1   -1.0         0  unknown       0  \n",
       "2   -1.0         0  unknown       0  "
      ]
     },
     "execution_count": 68,
     "metadata": {},
     "output_type": "execute_result"
    }
   ],
   "source": [
    "df3.head(3)"
   ]
  },
  {
   "cell_type": "code",
   "execution_count": null,
   "metadata": {
    "colab": {
     "base_uri": "https://localhost:8080/"
    },
    "id": "XZ2YAulyt9ww",
    "outputId": "28182e9d-db34-4b2a-88aa-1aa06df5592b"
   },
   "outputs": [
    {
     "data": {
      "text/plain": [
       "(6416, 31)"
      ]
     },
     "execution_count": 69,
     "metadata": {},
     "output_type": "execute_result"
    }
   ],
   "source": [
    "df3_dum = pd.get_dummies(df3)\n",
    "df3_dum.shape"
   ]
  },
  {
   "cell_type": "code",
   "execution_count": null,
   "metadata": {
    "id": "mABhQnY9uAQT"
   },
   "outputs": [],
   "source": [
    "t = df3_dum['result'].values\n",
    "x = df3_dum.drop(['result'], axis=1).values"
   ]
  },
  {
   "cell_type": "code",
   "execution_count": null,
   "metadata": {
    "id": "D6W41zjXuBiF"
   },
   "outputs": [],
   "source": [
    "from sklearn.model_selection import train_test_split\n",
    "x_train, x_val, t_train, t_val = train_test_split(x, t, test_size=0.3, random_state=1)"
   ]
  },
  {
   "cell_type": "code",
   "execution_count": null,
   "metadata": {
    "colab": {
     "base_uri": "https://localhost:8080/"
    },
    "id": "FRwRZrs4uEDa",
    "outputId": "04d9dab1-c92c-4eb4-c46f-c5588e81fa3f"
   },
   "outputs": [
    {
     "name": "stdout",
     "output_type": "stream",
     "text": [
      "0.9991093297706524\n",
      "0.8296103896103896\n"
     ]
    }
   ],
   "source": [
    "# モデルの宣言\n",
    "model = DecisionTreeClassifier(random_state=0)\n",
    "\n",
    "# モデルの学習\n",
    "model.fit(x_train, t_train)\n",
    "\n",
    "# モデルの検証\n",
    "print(model.score(x_train, t_train))\n",
    "print(model.score(x_val, t_val))"
   ]
  },
  {
   "cell_type": "markdown",
   "metadata": {
    "id": "n0MCG_S-uI4t"
   },
   "source": [
    "少し精度に変動がありましたが、大きくは変わりませんでした。  \n",
    "Encodingの方法はアルゴリズムによって、変更すると精度にも影響が出るため、検証する上で複数のEncodingを行うことをオススメします。  \n",
    "\n",
    "`df3` のデータを用いてハイパーパラメータの調整を行います。"
   ]
  },
  {
   "cell_type": "markdown",
   "metadata": {
    "id": "C8gP4lOtuMtX"
   },
   "source": [
    "## モデルへのアプローチ"
   ]
  },
  {
   "cell_type": "markdown",
   "metadata": {
    "id": "Frz4ZRnzuOoR"
   },
   "source": [
    "ハイパーパラメータのチューニングを行なっていきます。  \n",
    "今回はグリッドサーチを用います。"
   ]
  },
  {
   "cell_type": "code",
   "execution_count": null,
   "metadata": {
    "colab": {
     "base_uri": "https://localhost:8080/",
     "height": 254
    },
    "id": "apdUAjwxuQXN",
    "outputId": "5125f493-efb1-4f81-86d5-0291f653d903"
   },
   "outputs": [
    {
     "data": {
      "text/html": [
       "\n",
       "  <div id=\"df-d6df3211-9e1c-4a68-bcfb-c93220add486\">\n",
       "    <div class=\"colab-df-container\">\n",
       "      <div>\n",
       "<style scoped>\n",
       "    .dataframe tbody tr th:only-of-type {\n",
       "        vertical-align: middle;\n",
       "    }\n",
       "\n",
       "    .dataframe tbody tr th {\n",
       "        vertical-align: top;\n",
       "    }\n",
       "\n",
       "    .dataframe thead th {\n",
       "        text-align: right;\n",
       "    }\n",
       "</style>\n",
       "<table border=\"1\" class=\"dataframe\">\n",
       "  <thead>\n",
       "    <tr style=\"text-align: right;\">\n",
       "      <th></th>\n",
       "      <th>age</th>\n",
       "      <th>default</th>\n",
       "      <th>balance</th>\n",
       "      <th>housing</th>\n",
       "      <th>loan</th>\n",
       "      <th>pdays</th>\n",
       "      <th>previous</th>\n",
       "      <th>result</th>\n",
       "      <th>job_admin.</th>\n",
       "      <th>job_blue-collar</th>\n",
       "      <th>...</th>\n",
       "      <th>marital_married</th>\n",
       "      <th>marital_single</th>\n",
       "      <th>education_primary</th>\n",
       "      <th>education_secondary</th>\n",
       "      <th>education_tertiary</th>\n",
       "      <th>education_unknown</th>\n",
       "      <th>poutcome_failure</th>\n",
       "      <th>poutcome_other</th>\n",
       "      <th>poutcome_success</th>\n",
       "      <th>poutcome_unknown</th>\n",
       "    </tr>\n",
       "  </thead>\n",
       "  <tbody>\n",
       "    <tr>\n",
       "      <th>0</th>\n",
       "      <td>50.0</td>\n",
       "      <td>0</td>\n",
       "      <td>1857</td>\n",
       "      <td>0</td>\n",
       "      <td>1</td>\n",
       "      <td>-1.0</td>\n",
       "      <td>0</td>\n",
       "      <td>0</td>\n",
       "      <td>0</td>\n",
       "      <td>0</td>\n",
       "      <td>...</td>\n",
       "      <td>1</td>\n",
       "      <td>0</td>\n",
       "      <td>0</td>\n",
       "      <td>1</td>\n",
       "      <td>0</td>\n",
       "      <td>0</td>\n",
       "      <td>0</td>\n",
       "      <td>0</td>\n",
       "      <td>0</td>\n",
       "      <td>1</td>\n",
       "    </tr>\n",
       "    <tr>\n",
       "      <th>1</th>\n",
       "      <td>37.0</td>\n",
       "      <td>0</td>\n",
       "      <td>363</td>\n",
       "      <td>1</td>\n",
       "      <td>0</td>\n",
       "      <td>-1.0</td>\n",
       "      <td>0</td>\n",
       "      <td>0</td>\n",
       "      <td>0</td>\n",
       "      <td>0</td>\n",
       "      <td>...</td>\n",
       "      <td>0</td>\n",
       "      <td>1</td>\n",
       "      <td>0</td>\n",
       "      <td>1</td>\n",
       "      <td>0</td>\n",
       "      <td>0</td>\n",
       "      <td>0</td>\n",
       "      <td>0</td>\n",
       "      <td>0</td>\n",
       "      <td>1</td>\n",
       "    </tr>\n",
       "    <tr>\n",
       "      <th>2</th>\n",
       "      <td>35.0</td>\n",
       "      <td>0</td>\n",
       "      <td>422</td>\n",
       "      <td>1</td>\n",
       "      <td>0</td>\n",
       "      <td>-1.0</td>\n",
       "      <td>0</td>\n",
       "      <td>0</td>\n",
       "      <td>0</td>\n",
       "      <td>1</td>\n",
       "      <td>...</td>\n",
       "      <td>1</td>\n",
       "      <td>0</td>\n",
       "      <td>1</td>\n",
       "      <td>0</td>\n",
       "      <td>0</td>\n",
       "      <td>0</td>\n",
       "      <td>0</td>\n",
       "      <td>0</td>\n",
       "      <td>0</td>\n",
       "      <td>1</td>\n",
       "    </tr>\n",
       "  </tbody>\n",
       "</table>\n",
       "<p>3 rows × 31 columns</p>\n",
       "</div>\n",
       "      <button class=\"colab-df-convert\" onclick=\"convertToInteractive('df-d6df3211-9e1c-4a68-bcfb-c93220add486')\"\n",
       "              title=\"Convert this dataframe to an interactive table.\"\n",
       "              style=\"display:none;\">\n",
       "        \n",
       "  <svg xmlns=\"http://www.w3.org/2000/svg\" height=\"24px\"viewBox=\"0 0 24 24\"\n",
       "       width=\"24px\">\n",
       "    <path d=\"M0 0h24v24H0V0z\" fill=\"none\"/>\n",
       "    <path d=\"M18.56 5.44l.94 2.06.94-2.06 2.06-.94-2.06-.94-.94-2.06-.94 2.06-2.06.94zm-11 1L8.5 8.5l.94-2.06 2.06-.94-2.06-.94L8.5 2.5l-.94 2.06-2.06.94zm10 10l.94 2.06.94-2.06 2.06-.94-2.06-.94-.94-2.06-.94 2.06-2.06.94z\"/><path d=\"M17.41 7.96l-1.37-1.37c-.4-.4-.92-.59-1.43-.59-.52 0-1.04.2-1.43.59L10.3 9.45l-7.72 7.72c-.78.78-.78 2.05 0 2.83L4 21.41c.39.39.9.59 1.41.59.51 0 1.02-.2 1.41-.59l7.78-7.78 2.81-2.81c.8-.78.8-2.07 0-2.86zM5.41 20L4 18.59l7.72-7.72 1.47 1.35L5.41 20z\"/>\n",
       "  </svg>\n",
       "      </button>\n",
       "      \n",
       "  <style>\n",
       "    .colab-df-container {\n",
       "      display:flex;\n",
       "      flex-wrap:wrap;\n",
       "      gap: 12px;\n",
       "    }\n",
       "\n",
       "    .colab-df-convert {\n",
       "      background-color: #E8F0FE;\n",
       "      border: none;\n",
       "      border-radius: 50%;\n",
       "      cursor: pointer;\n",
       "      display: none;\n",
       "      fill: #1967D2;\n",
       "      height: 32px;\n",
       "      padding: 0 0 0 0;\n",
       "      width: 32px;\n",
       "    }\n",
       "\n",
       "    .colab-df-convert:hover {\n",
       "      background-color: #E2EBFA;\n",
       "      box-shadow: 0px 1px 2px rgba(60, 64, 67, 0.3), 0px 1px 3px 1px rgba(60, 64, 67, 0.15);\n",
       "      fill: #174EA6;\n",
       "    }\n",
       "\n",
       "    [theme=dark] .colab-df-convert {\n",
       "      background-color: #3B4455;\n",
       "      fill: #D2E3FC;\n",
       "    }\n",
       "\n",
       "    [theme=dark] .colab-df-convert:hover {\n",
       "      background-color: #434B5C;\n",
       "      box-shadow: 0px 1px 3px 1px rgba(0, 0, 0, 0.15);\n",
       "      filter: drop-shadow(0px 1px 2px rgba(0, 0, 0, 0.3));\n",
       "      fill: #FFFFFF;\n",
       "    }\n",
       "  </style>\n",
       "\n",
       "      <script>\n",
       "        const buttonEl =\n",
       "          document.querySelector('#df-d6df3211-9e1c-4a68-bcfb-c93220add486 button.colab-df-convert');\n",
       "        buttonEl.style.display =\n",
       "          google.colab.kernel.accessAllowed ? 'block' : 'none';\n",
       "\n",
       "        async function convertToInteractive(key) {\n",
       "          const element = document.querySelector('#df-d6df3211-9e1c-4a68-bcfb-c93220add486');\n",
       "          const dataTable =\n",
       "            await google.colab.kernel.invokeFunction('convertToInteractive',\n",
       "                                                     [key], {});\n",
       "          if (!dataTable) return;\n",
       "\n",
       "          const docLinkHtml = 'Like what you see? Visit the ' +\n",
       "            '<a target=\"_blank\" href=https://colab.research.google.com/notebooks/data_table.ipynb>data table notebook</a>'\n",
       "            + ' to learn more about interactive tables.';\n",
       "          element.innerHTML = '';\n",
       "          dataTable['output_type'] = 'display_data';\n",
       "          await google.colab.output.renderOutput(dataTable, element);\n",
       "          const docLink = document.createElement('div');\n",
       "          docLink.innerHTML = docLinkHtml;\n",
       "          element.appendChild(docLink);\n",
       "        }\n",
       "      </script>\n",
       "    </div>\n",
       "  </div>\n",
       "  "
      ],
      "text/plain": [
       "    age  default  balance  housing  loan  pdays  previous  result  job_admin.  \\\n",
       "0  50.0        0     1857        0     1   -1.0         0       0           0   \n",
       "1  37.0        0      363        1     0   -1.0         0       0           0   \n",
       "2  35.0        0      422        1     0   -1.0         0       0           0   \n",
       "\n",
       "   job_blue-collar  ...  marital_married  marital_single  education_primary  \\\n",
       "0                0  ...                1               0                  0   \n",
       "1                0  ...                0               1                  0   \n",
       "2                1  ...                1               0                  1   \n",
       "\n",
       "   education_secondary  education_tertiary  education_unknown  \\\n",
       "0                    1                   0                  0   \n",
       "1                    1                   0                  0   \n",
       "2                    0                   0                  0   \n",
       "\n",
       "   poutcome_failure  poutcome_other  poutcome_success  poutcome_unknown  \n",
       "0                 0               0                 0                 1  \n",
       "1                 0               0                 0                 1  \n",
       "2                 0               0                 0                 1  \n",
       "\n",
       "[3 rows x 31 columns]"
      ]
     },
     "execution_count": 73,
     "metadata": {},
     "output_type": "execute_result"
    }
   ],
   "source": [
    "df3_dum.head(3)"
   ]
  },
  {
   "cell_type": "code",
   "execution_count": null,
   "metadata": {
    "id": "5f3Z8KpQuTxK"
   },
   "outputs": [],
   "source": [
    "t = df3_dum['result'].values\n",
    "x = df3_dum.drop(['result'], axis=1).values"
   ]
  },
  {
   "cell_type": "markdown",
   "metadata": {
    "id": "xZNcgGYkuVb-"
   },
   "source": [
    "K-分割交差検証を用いて精度を計測するため、データはこのまま使用します。"
   ]
  },
  {
   "cell_type": "markdown",
   "metadata": {
    "id": "YncdJswVuZLX"
   },
   "source": [
    "### Grid Search の適用"
   ]
  },
  {
   "cell_type": "code",
   "execution_count": null,
   "metadata": {
    "colab": {
     "base_uri": "https://localhost:8080/"
    },
    "id": "s9H950drucTX",
    "outputId": "69942c55-6f86-4524-b1d7-4ef385597b66"
   },
   "outputs": [
    {
     "name": "stdout",
     "output_type": "stream",
     "text": [
      "max_depth:[ 2  3  4  6  7  9 10 12 13 15], min_samples_leaf:[ 2 11 20], cv:5\n"
     ]
    }
   ],
   "source": [
    "from sklearn.model_selection import GridSearchCV\n",
    "\n",
    "estimator = DecisionTreeClassifier(random_state=0)\n",
    "\n",
    "# チューニングを行うハイパーパラメータとその範囲の指定\n",
    "max_depth = np.linspace(2, 15, 10, dtype=int)\n",
    "min_samples_split = np.linspace(2, 20, 3, dtype=int)\n",
    "\n",
    "param_grid = [\n",
    "    {'max_depth': max_depth, 'min_samples_split': min_samples_split}\n",
    "]\n",
    "\n",
    "cv = 5\n",
    "\n",
    "print('max_depth:{}, min_samples_leaf:{}, cv:{}'.format(max_depth, min_samples_split, cv))"
   ]
  },
  {
   "cell_type": "code",
   "execution_count": null,
   "metadata": {
    "colab": {
     "base_uri": "https://localhost:8080/",
     "height": 648
    },
    "id": "edPFOHWoujFR",
    "outputId": "36f4648d-a4ce-4dc7-c462-7221915256bf"
   },
   "outputs": [
    {
     "data": {
      "text/html": [
       "\n",
       "  <div id=\"df-621660fe-aaf0-4053-930f-8d8581326557\">\n",
       "    <div class=\"colab-df-container\">\n",
       "      <div>\n",
       "<style scoped>\n",
       "    .dataframe tbody tr th:only-of-type {\n",
       "        vertical-align: middle;\n",
       "    }\n",
       "\n",
       "    .dataframe tbody tr th {\n",
       "        vertical-align: top;\n",
       "    }\n",
       "\n",
       "    .dataframe thead th {\n",
       "        text-align: right;\n",
       "    }\n",
       "</style>\n",
       "<table border=\"1\" class=\"dataframe\">\n",
       "  <thead>\n",
       "    <tr style=\"text-align: right;\">\n",
       "      <th></th>\n",
       "      <th>0</th>\n",
       "      <th>1</th>\n",
       "      <th>2</th>\n",
       "      <th>3</th>\n",
       "      <th>4</th>\n",
       "      <th>5</th>\n",
       "      <th>6</th>\n",
       "      <th>7</th>\n",
       "      <th>8</th>\n",
       "      <th>9</th>\n",
       "      <th>...</th>\n",
       "      <th>20</th>\n",
       "      <th>21</th>\n",
       "      <th>22</th>\n",
       "      <th>23</th>\n",
       "      <th>24</th>\n",
       "      <th>25</th>\n",
       "      <th>26</th>\n",
       "      <th>27</th>\n",
       "      <th>28</th>\n",
       "      <th>29</th>\n",
       "    </tr>\n",
       "  </thead>\n",
       "  <tbody>\n",
       "    <tr>\n",
       "      <th>mean_fit_time</th>\n",
       "      <td>0.010106</td>\n",
       "      <td>0.010713</td>\n",
       "      <td>0.020085</td>\n",
       "      <td>0.028801</td>\n",
       "      <td>0.045261</td>\n",
       "      <td>0.035878</td>\n",
       "      <td>0.015709</td>\n",
       "      <td>0.021598</td>\n",
       "      <td>0.028921</td>\n",
       "      <td>0.053411</td>\n",
       "      <td>...</td>\n",
       "      <td>0.076656</td>\n",
       "      <td>0.092164</td>\n",
       "      <td>0.057605</td>\n",
       "      <td>0.075254</td>\n",
       "      <td>0.070575</td>\n",
       "      <td>0.08549</td>\n",
       "      <td>0.081503</td>\n",
       "      <td>0.088049</td>\n",
       "      <td>0.097397</td>\n",
       "      <td>0.082312</td>\n",
       "    </tr>\n",
       "    <tr>\n",
       "      <th>std_fit_time</th>\n",
       "      <td>0.001362</td>\n",
       "      <td>0.003967</td>\n",
       "      <td>0.004629</td>\n",
       "      <td>0.004817</td>\n",
       "      <td>0.012098</td>\n",
       "      <td>0.007369</td>\n",
       "      <td>0.002889</td>\n",
       "      <td>0.012366</td>\n",
       "      <td>0.006736</td>\n",
       "      <td>0.007179</td>\n",
       "      <td>...</td>\n",
       "      <td>0.023618</td>\n",
       "      <td>0.012283</td>\n",
       "      <td>0.02178</td>\n",
       "      <td>0.012677</td>\n",
       "      <td>0.008834</td>\n",
       "      <td>0.023727</td>\n",
       "      <td>0.021405</td>\n",
       "      <td>0.011178</td>\n",
       "      <td>0.019122</td>\n",
       "      <td>0.015422</td>\n",
       "    </tr>\n",
       "    <tr>\n",
       "      <th>mean_score_time</th>\n",
       "      <td>0.006602</td>\n",
       "      <td>0.000751</td>\n",
       "      <td>0.001572</td>\n",
       "      <td>0.001519</td>\n",
       "      <td>0.004177</td>\n",
       "      <td>0.005508</td>\n",
       "      <td>0.000803</td>\n",
       "      <td>0.000834</td>\n",
       "      <td>0.002345</td>\n",
       "      <td>0.002348</td>\n",
       "      <td>...</td>\n",
       "      <td>0.002191</td>\n",
       "      <td>0.010206</td>\n",
       "      <td>0.004391</td>\n",
       "      <td>0.005832</td>\n",
       "      <td>0.004736</td>\n",
       "      <td>0.001897</td>\n",
       "      <td>0.003377</td>\n",
       "      <td>0.007311</td>\n",
       "      <td>0.003971</td>\n",
       "      <td>0.002248</td>\n",
       "    </tr>\n",
       "    <tr>\n",
       "      <th>std_score_time</th>\n",
       "      <td>0.011625</td>\n",
       "      <td>0.000036</td>\n",
       "      <td>0.001467</td>\n",
       "      <td>0.001341</td>\n",
       "      <td>0.00469</td>\n",
       "      <td>0.004911</td>\n",
       "      <td>0.000035</td>\n",
       "      <td>0.000072</td>\n",
       "      <td>0.002777</td>\n",
       "      <td>0.002697</td>\n",
       "      <td>...</td>\n",
       "      <td>0.002047</td>\n",
       "      <td>0.006694</td>\n",
       "      <td>0.004131</td>\n",
       "      <td>0.004935</td>\n",
       "      <td>0.003238</td>\n",
       "      <td>0.001378</td>\n",
       "      <td>0.004445</td>\n",
       "      <td>0.012061</td>\n",
       "      <td>0.004586</td>\n",
       "      <td>0.002053</td>\n",
       "    </tr>\n",
       "    <tr>\n",
       "      <th>param_max_depth</th>\n",
       "      <td>2</td>\n",
       "      <td>2</td>\n",
       "      <td>2</td>\n",
       "      <td>3</td>\n",
       "      <td>3</td>\n",
       "      <td>3</td>\n",
       "      <td>4</td>\n",
       "      <td>4</td>\n",
       "      <td>4</td>\n",
       "      <td>6</td>\n",
       "      <td>...</td>\n",
       "      <td>10</td>\n",
       "      <td>12</td>\n",
       "      <td>12</td>\n",
       "      <td>12</td>\n",
       "      <td>13</td>\n",
       "      <td>13</td>\n",
       "      <td>13</td>\n",
       "      <td>15</td>\n",
       "      <td>15</td>\n",
       "      <td>15</td>\n",
       "    </tr>\n",
       "    <tr>\n",
       "      <th>param_min_samples_split</th>\n",
       "      <td>2</td>\n",
       "      <td>11</td>\n",
       "      <td>20</td>\n",
       "      <td>2</td>\n",
       "      <td>11</td>\n",
       "      <td>20</td>\n",
       "      <td>2</td>\n",
       "      <td>11</td>\n",
       "      <td>20</td>\n",
       "      <td>2</td>\n",
       "      <td>...</td>\n",
       "      <td>20</td>\n",
       "      <td>2</td>\n",
       "      <td>11</td>\n",
       "      <td>20</td>\n",
       "      <td>2</td>\n",
       "      <td>11</td>\n",
       "      <td>20</td>\n",
       "      <td>2</td>\n",
       "      <td>11</td>\n",
       "      <td>20</td>\n",
       "    </tr>\n",
       "    <tr>\n",
       "      <th>params</th>\n",
       "      <td>{'max_depth': 2, 'min_samples_split': 2}</td>\n",
       "      <td>{'max_depth': 2, 'min_samples_split': 11}</td>\n",
       "      <td>{'max_depth': 2, 'min_samples_split': 20}</td>\n",
       "      <td>{'max_depth': 3, 'min_samples_split': 2}</td>\n",
       "      <td>{'max_depth': 3, 'min_samples_split': 11}</td>\n",
       "      <td>{'max_depth': 3, 'min_samples_split': 20}</td>\n",
       "      <td>{'max_depth': 4, 'min_samples_split': 2}</td>\n",
       "      <td>{'max_depth': 4, 'min_samples_split': 11}</td>\n",
       "      <td>{'max_depth': 4, 'min_samples_split': 20}</td>\n",
       "      <td>{'max_depth': 6, 'min_samples_split': 2}</td>\n",
       "      <td>...</td>\n",
       "      <td>{'max_depth': 10, 'min_samples_split': 20}</td>\n",
       "      <td>{'max_depth': 12, 'min_samples_split': 2}</td>\n",
       "      <td>{'max_depth': 12, 'min_samples_split': 11}</td>\n",
       "      <td>{'max_depth': 12, 'min_samples_split': 20}</td>\n",
       "      <td>{'max_depth': 13, 'min_samples_split': 2}</td>\n",
       "      <td>{'max_depth': 13, 'min_samples_split': 11}</td>\n",
       "      <td>{'max_depth': 13, 'min_samples_split': 20}</td>\n",
       "      <td>{'max_depth': 15, 'min_samples_split': 2}</td>\n",
       "      <td>{'max_depth': 15, 'min_samples_split': 11}</td>\n",
       "      <td>{'max_depth': 15, 'min_samples_split': 20}</td>\n",
       "    </tr>\n",
       "    <tr>\n",
       "      <th>split0_test_score</th>\n",
       "      <td>0.899533</td>\n",
       "      <td>0.899533</td>\n",
       "      <td>0.899533</td>\n",
       "      <td>0.899533</td>\n",
       "      <td>0.899533</td>\n",
       "      <td>0.899533</td>\n",
       "      <td>0.898754</td>\n",
       "      <td>0.898754</td>\n",
       "      <td>0.898754</td>\n",
       "      <td>0.898754</td>\n",
       "      <td>...</td>\n",
       "      <td>0.894081</td>\n",
       "      <td>0.884735</td>\n",
       "      <td>0.890187</td>\n",
       "      <td>0.89486</td>\n",
       "      <td>0.888629</td>\n",
       "      <td>0.888629</td>\n",
       "      <td>0.895639</td>\n",
       "      <td>0.878505</td>\n",
       "      <td>0.880841</td>\n",
       "      <td>0.890187</td>\n",
       "    </tr>\n",
       "    <tr>\n",
       "      <th>split1_test_score</th>\n",
       "      <td>0.899454</td>\n",
       "      <td>0.899454</td>\n",
       "      <td>0.899454</td>\n",
       "      <td>0.898675</td>\n",
       "      <td>0.898675</td>\n",
       "      <td>0.898675</td>\n",
       "      <td>0.898675</td>\n",
       "      <td>0.898675</td>\n",
       "      <td>0.898675</td>\n",
       "      <td>0.893219</td>\n",
       "      <td>...</td>\n",
       "      <td>0.893219</td>\n",
       "      <td>0.886204</td>\n",
       "      <td>0.89244</td>\n",
       "      <td>0.890881</td>\n",
       "      <td>0.883087</td>\n",
       "      <td>0.888542</td>\n",
       "      <td>0.89166</td>\n",
       "      <td>0.872954</td>\n",
       "      <td>0.885425</td>\n",
       "      <td>0.889322</td>\n",
       "    </tr>\n",
       "    <tr>\n",
       "      <th>split2_test_score</th>\n",
       "      <td>0.893998</td>\n",
       "      <td>0.893998</td>\n",
       "      <td>0.893998</td>\n",
       "      <td>0.894778</td>\n",
       "      <td>0.894778</td>\n",
       "      <td>0.894778</td>\n",
       "      <td>0.890881</td>\n",
       "      <td>0.890881</td>\n",
       "      <td>0.890881</td>\n",
       "      <td>0.886204</td>\n",
       "      <td>...</td>\n",
       "      <td>0.882307</td>\n",
       "      <td>0.877631</td>\n",
       "      <td>0.881528</td>\n",
       "      <td>0.883866</td>\n",
       "      <td>0.879189</td>\n",
       "      <td>0.880748</td>\n",
       "      <td>0.886204</td>\n",
       "      <td>0.870616</td>\n",
       "      <td>0.872954</td>\n",
       "      <td>0.879969</td>\n",
       "    </tr>\n",
       "    <tr>\n",
       "      <th>split3_test_score</th>\n",
       "      <td>0.894778</td>\n",
       "      <td>0.894778</td>\n",
       "      <td>0.894778</td>\n",
       "      <td>0.894778</td>\n",
       "      <td>0.894778</td>\n",
       "      <td>0.893219</td>\n",
       "      <td>0.894778</td>\n",
       "      <td>0.895557</td>\n",
       "      <td>0.893998</td>\n",
       "      <td>0.896337</td>\n",
       "      <td>...</td>\n",
       "      <td>0.890881</td>\n",
       "      <td>0.884645</td>\n",
       "      <td>0.890101</td>\n",
       "      <td>0.889322</td>\n",
       "      <td>0.886984</td>\n",
       "      <td>0.888542</td>\n",
       "      <td>0.89166</td>\n",
       "      <td>0.883087</td>\n",
       "      <td>0.887763</td>\n",
       "      <td>0.889322</td>\n",
       "    </tr>\n",
       "    <tr>\n",
       "      <th>split4_test_score</th>\n",
       "      <td>0.893998</td>\n",
       "      <td>0.893998</td>\n",
       "      <td>0.893998</td>\n",
       "      <td>0.894778</td>\n",
       "      <td>0.893998</td>\n",
       "      <td>0.893998</td>\n",
       "      <td>0.886204</td>\n",
       "      <td>0.886204</td>\n",
       "      <td>0.886204</td>\n",
       "      <td>0.885425</td>\n",
       "      <td>...</td>\n",
       "      <td>0.880748</td>\n",
       "      <td>0.871395</td>\n",
       "      <td>0.876072</td>\n",
       "      <td>0.87841</td>\n",
       "      <td>0.871395</td>\n",
       "      <td>0.872954</td>\n",
       "      <td>0.879969</td>\n",
       "      <td>0.859704</td>\n",
       "      <td>0.868277</td>\n",
       "      <td>0.872954</td>\n",
       "    </tr>\n",
       "    <tr>\n",
       "      <th>mean_test_score</th>\n",
       "      <td>0.896352</td>\n",
       "      <td>0.896352</td>\n",
       "      <td>0.896352</td>\n",
       "      <td>0.896508</td>\n",
       "      <td>0.896352</td>\n",
       "      <td>0.896041</td>\n",
       "      <td>0.893858</td>\n",
       "      <td>0.894014</td>\n",
       "      <td>0.893702</td>\n",
       "      <td>0.891988</td>\n",
       "      <td>...</td>\n",
       "      <td>0.888247</td>\n",
       "      <td>0.880922</td>\n",
       "      <td>0.886065</td>\n",
       "      <td>0.887468</td>\n",
       "      <td>0.881857</td>\n",
       "      <td>0.883883</td>\n",
       "      <td>0.889026</td>\n",
       "      <td>0.872973</td>\n",
       "      <td>0.879052</td>\n",
       "      <td>0.884351</td>\n",
       "    </tr>\n",
       "    <tr>\n",
       "      <th>std_test_score</th>\n",
       "      <td>0.002581</td>\n",
       "      <td>0.002581</td>\n",
       "      <td>0.002581</td>\n",
       "      <td>0.002137</td>\n",
       "      <td>0.002281</td>\n",
       "      <td>0.002564</td>\n",
       "      <td>0.004805</td>\n",
       "      <td>0.004845</td>\n",
       "      <td>0.004786</td>\n",
       "      <td>0.005343</td>\n",
       "      <td>...</td>\n",
       "      <td>0.005607</td>\n",
       "      <td>0.00562</td>\n",
       "      <td>0.006235</td>\n",
       "      <td>0.00574</td>\n",
       "      <td>0.006168</td>\n",
       "      <td>0.006248</td>\n",
       "      <td>0.005433</td>\n",
       "      <td>0.007931</td>\n",
       "      <td>0.007389</td>\n",
       "      <td>0.00682</td>\n",
       "    </tr>\n",
       "    <tr>\n",
       "      <th>rank_test_score</th>\n",
       "      <td>2</td>\n",
       "      <td>2</td>\n",
       "      <td>2</td>\n",
       "      <td>1</td>\n",
       "      <td>2</td>\n",
       "      <td>6</td>\n",
       "      <td>8</td>\n",
       "      <td>7</td>\n",
       "      <td>9</td>\n",
       "      <td>10</td>\n",
       "      <td>...</td>\n",
       "      <td>19</td>\n",
       "      <td>28</td>\n",
       "      <td>24</td>\n",
       "      <td>22</td>\n",
       "      <td>27</td>\n",
       "      <td>26</td>\n",
       "      <td>17</td>\n",
       "      <td>30</td>\n",
       "      <td>29</td>\n",
       "      <td>25</td>\n",
       "    </tr>\n",
       "  </tbody>\n",
       "</table>\n",
       "<p>15 rows × 30 columns</p>\n",
       "</div>\n",
       "      <button class=\"colab-df-convert\" onclick=\"convertToInteractive('df-621660fe-aaf0-4053-930f-8d8581326557')\"\n",
       "              title=\"Convert this dataframe to an interactive table.\"\n",
       "              style=\"display:none;\">\n",
       "        \n",
       "  <svg xmlns=\"http://www.w3.org/2000/svg\" height=\"24px\"viewBox=\"0 0 24 24\"\n",
       "       width=\"24px\">\n",
       "    <path d=\"M0 0h24v24H0V0z\" fill=\"none\"/>\n",
       "    <path d=\"M18.56 5.44l.94 2.06.94-2.06 2.06-.94-2.06-.94-.94-2.06-.94 2.06-2.06.94zm-11 1L8.5 8.5l.94-2.06 2.06-.94-2.06-.94L8.5 2.5l-.94 2.06-2.06.94zm10 10l.94 2.06.94-2.06 2.06-.94-2.06-.94-.94-2.06-.94 2.06-2.06.94z\"/><path d=\"M17.41 7.96l-1.37-1.37c-.4-.4-.92-.59-1.43-.59-.52 0-1.04.2-1.43.59L10.3 9.45l-7.72 7.72c-.78.78-.78 2.05 0 2.83L4 21.41c.39.39.9.59 1.41.59.51 0 1.02-.2 1.41-.59l7.78-7.78 2.81-2.81c.8-.78.8-2.07 0-2.86zM5.41 20L4 18.59l7.72-7.72 1.47 1.35L5.41 20z\"/>\n",
       "  </svg>\n",
       "      </button>\n",
       "      \n",
       "  <style>\n",
       "    .colab-df-container {\n",
       "      display:flex;\n",
       "      flex-wrap:wrap;\n",
       "      gap: 12px;\n",
       "    }\n",
       "\n",
       "    .colab-df-convert {\n",
       "      background-color: #E8F0FE;\n",
       "      border: none;\n",
       "      border-radius: 50%;\n",
       "      cursor: pointer;\n",
       "      display: none;\n",
       "      fill: #1967D2;\n",
       "      height: 32px;\n",
       "      padding: 0 0 0 0;\n",
       "      width: 32px;\n",
       "    }\n",
       "\n",
       "    .colab-df-convert:hover {\n",
       "      background-color: #E2EBFA;\n",
       "      box-shadow: 0px 1px 2px rgba(60, 64, 67, 0.3), 0px 1px 3px 1px rgba(60, 64, 67, 0.15);\n",
       "      fill: #174EA6;\n",
       "    }\n",
       "\n",
       "    [theme=dark] .colab-df-convert {\n",
       "      background-color: #3B4455;\n",
       "      fill: #D2E3FC;\n",
       "    }\n",
       "\n",
       "    [theme=dark] .colab-df-convert:hover {\n",
       "      background-color: #434B5C;\n",
       "      box-shadow: 0px 1px 3px 1px rgba(0, 0, 0, 0.15);\n",
       "      filter: drop-shadow(0px 1px 2px rgba(0, 0, 0, 0.3));\n",
       "      fill: #FFFFFF;\n",
       "    }\n",
       "  </style>\n",
       "\n",
       "      <script>\n",
       "        const buttonEl =\n",
       "          document.querySelector('#df-621660fe-aaf0-4053-930f-8d8581326557 button.colab-df-convert');\n",
       "        buttonEl.style.display =\n",
       "          google.colab.kernel.accessAllowed ? 'block' : 'none';\n",
       "\n",
       "        async function convertToInteractive(key) {\n",
       "          const element = document.querySelector('#df-621660fe-aaf0-4053-930f-8d8581326557');\n",
       "          const dataTable =\n",
       "            await google.colab.kernel.invokeFunction('convertToInteractive',\n",
       "                                                     [key], {});\n",
       "          if (!dataTable) return;\n",
       "\n",
       "          const docLinkHtml = 'Like what you see? Visit the ' +\n",
       "            '<a target=\"_blank\" href=https://colab.research.google.com/notebooks/data_table.ipynb>data table notebook</a>'\n",
       "            + ' to learn more about interactive tables.';\n",
       "          element.innerHTML = '';\n",
       "          dataTable['output_type'] = 'display_data';\n",
       "          await google.colab.output.renderOutput(dataTable, element);\n",
       "          const docLink = document.createElement('div');\n",
       "          docLink.innerHTML = docLinkHtml;\n",
       "          element.appendChild(docLink);\n",
       "        }\n",
       "      </script>\n",
       "    </div>\n",
       "  </div>\n",
       "  "
      ],
      "text/plain": [
       "                                                               0   \\\n",
       "mean_fit_time                                            0.010106   \n",
       "std_fit_time                                             0.001362   \n",
       "mean_score_time                                          0.006602   \n",
       "std_score_time                                           0.011625   \n",
       "param_max_depth                                                 2   \n",
       "param_min_samples_split                                         2   \n",
       "params                   {'max_depth': 2, 'min_samples_split': 2}   \n",
       "split0_test_score                                        0.899533   \n",
       "split1_test_score                                        0.899454   \n",
       "split2_test_score                                        0.893998   \n",
       "split3_test_score                                        0.894778   \n",
       "split4_test_score                                        0.893998   \n",
       "mean_test_score                                          0.896352   \n",
       "std_test_score                                           0.002581   \n",
       "rank_test_score                                                 2   \n",
       "\n",
       "                                                                1   \\\n",
       "mean_fit_time                                             0.010713   \n",
       "std_fit_time                                              0.003967   \n",
       "mean_score_time                                           0.000751   \n",
       "std_score_time                                            0.000036   \n",
       "param_max_depth                                                  2   \n",
       "param_min_samples_split                                         11   \n",
       "params                   {'max_depth': 2, 'min_samples_split': 11}   \n",
       "split0_test_score                                         0.899533   \n",
       "split1_test_score                                         0.899454   \n",
       "split2_test_score                                         0.893998   \n",
       "split3_test_score                                         0.894778   \n",
       "split4_test_score                                         0.893998   \n",
       "mean_test_score                                           0.896352   \n",
       "std_test_score                                            0.002581   \n",
       "rank_test_score                                                  2   \n",
       "\n",
       "                                                                2   \\\n",
       "mean_fit_time                                             0.020085   \n",
       "std_fit_time                                              0.004629   \n",
       "mean_score_time                                           0.001572   \n",
       "std_score_time                                            0.001467   \n",
       "param_max_depth                                                  2   \n",
       "param_min_samples_split                                         20   \n",
       "params                   {'max_depth': 2, 'min_samples_split': 20}   \n",
       "split0_test_score                                         0.899533   \n",
       "split1_test_score                                         0.899454   \n",
       "split2_test_score                                         0.893998   \n",
       "split3_test_score                                         0.894778   \n",
       "split4_test_score                                         0.893998   \n",
       "mean_test_score                                           0.896352   \n",
       "std_test_score                                            0.002581   \n",
       "rank_test_score                                                  2   \n",
       "\n",
       "                                                               3   \\\n",
       "mean_fit_time                                            0.028801   \n",
       "std_fit_time                                             0.004817   \n",
       "mean_score_time                                          0.001519   \n",
       "std_score_time                                           0.001341   \n",
       "param_max_depth                                                 3   \n",
       "param_min_samples_split                                         2   \n",
       "params                   {'max_depth': 3, 'min_samples_split': 2}   \n",
       "split0_test_score                                        0.899533   \n",
       "split1_test_score                                        0.898675   \n",
       "split2_test_score                                        0.894778   \n",
       "split3_test_score                                        0.894778   \n",
       "split4_test_score                                        0.894778   \n",
       "mean_test_score                                          0.896508   \n",
       "std_test_score                                           0.002137   \n",
       "rank_test_score                                                 1   \n",
       "\n",
       "                                                                4   \\\n",
       "mean_fit_time                                             0.045261   \n",
       "std_fit_time                                              0.012098   \n",
       "mean_score_time                                           0.004177   \n",
       "std_score_time                                             0.00469   \n",
       "param_max_depth                                                  3   \n",
       "param_min_samples_split                                         11   \n",
       "params                   {'max_depth': 3, 'min_samples_split': 11}   \n",
       "split0_test_score                                         0.899533   \n",
       "split1_test_score                                         0.898675   \n",
       "split2_test_score                                         0.894778   \n",
       "split3_test_score                                         0.894778   \n",
       "split4_test_score                                         0.893998   \n",
       "mean_test_score                                           0.896352   \n",
       "std_test_score                                            0.002281   \n",
       "rank_test_score                                                  2   \n",
       "\n",
       "                                                                5   \\\n",
       "mean_fit_time                                             0.035878   \n",
       "std_fit_time                                              0.007369   \n",
       "mean_score_time                                           0.005508   \n",
       "std_score_time                                            0.004911   \n",
       "param_max_depth                                                  3   \n",
       "param_min_samples_split                                         20   \n",
       "params                   {'max_depth': 3, 'min_samples_split': 20}   \n",
       "split0_test_score                                         0.899533   \n",
       "split1_test_score                                         0.898675   \n",
       "split2_test_score                                         0.894778   \n",
       "split3_test_score                                         0.893219   \n",
       "split4_test_score                                         0.893998   \n",
       "mean_test_score                                           0.896041   \n",
       "std_test_score                                            0.002564   \n",
       "rank_test_score                                                  6   \n",
       "\n",
       "                                                               6   \\\n",
       "mean_fit_time                                            0.015709   \n",
       "std_fit_time                                             0.002889   \n",
       "mean_score_time                                          0.000803   \n",
       "std_score_time                                           0.000035   \n",
       "param_max_depth                                                 4   \n",
       "param_min_samples_split                                         2   \n",
       "params                   {'max_depth': 4, 'min_samples_split': 2}   \n",
       "split0_test_score                                        0.898754   \n",
       "split1_test_score                                        0.898675   \n",
       "split2_test_score                                        0.890881   \n",
       "split3_test_score                                        0.894778   \n",
       "split4_test_score                                        0.886204   \n",
       "mean_test_score                                          0.893858   \n",
       "std_test_score                                           0.004805   \n",
       "rank_test_score                                                 8   \n",
       "\n",
       "                                                                7   \\\n",
       "mean_fit_time                                             0.021598   \n",
       "std_fit_time                                              0.012366   \n",
       "mean_score_time                                           0.000834   \n",
       "std_score_time                                            0.000072   \n",
       "param_max_depth                                                  4   \n",
       "param_min_samples_split                                         11   \n",
       "params                   {'max_depth': 4, 'min_samples_split': 11}   \n",
       "split0_test_score                                         0.898754   \n",
       "split1_test_score                                         0.898675   \n",
       "split2_test_score                                         0.890881   \n",
       "split3_test_score                                         0.895557   \n",
       "split4_test_score                                         0.886204   \n",
       "mean_test_score                                           0.894014   \n",
       "std_test_score                                            0.004845   \n",
       "rank_test_score                                                  7   \n",
       "\n",
       "                                                                8   \\\n",
       "mean_fit_time                                             0.028921   \n",
       "std_fit_time                                              0.006736   \n",
       "mean_score_time                                           0.002345   \n",
       "std_score_time                                            0.002777   \n",
       "param_max_depth                                                  4   \n",
       "param_min_samples_split                                         20   \n",
       "params                   {'max_depth': 4, 'min_samples_split': 20}   \n",
       "split0_test_score                                         0.898754   \n",
       "split1_test_score                                         0.898675   \n",
       "split2_test_score                                         0.890881   \n",
       "split3_test_score                                         0.893998   \n",
       "split4_test_score                                         0.886204   \n",
       "mean_test_score                                           0.893702   \n",
       "std_test_score                                            0.004786   \n",
       "rank_test_score                                                  9   \n",
       "\n",
       "                                                               9   ...  \\\n",
       "mean_fit_time                                            0.053411  ...   \n",
       "std_fit_time                                             0.007179  ...   \n",
       "mean_score_time                                          0.002348  ...   \n",
       "std_score_time                                           0.002697  ...   \n",
       "param_max_depth                                                 6  ...   \n",
       "param_min_samples_split                                         2  ...   \n",
       "params                   {'max_depth': 6, 'min_samples_split': 2}  ...   \n",
       "split0_test_score                                        0.898754  ...   \n",
       "split1_test_score                                        0.893219  ...   \n",
       "split2_test_score                                        0.886204  ...   \n",
       "split3_test_score                                        0.896337  ...   \n",
       "split4_test_score                                        0.885425  ...   \n",
       "mean_test_score                                          0.891988  ...   \n",
       "std_test_score                                           0.005343  ...   \n",
       "rank_test_score                                                10  ...   \n",
       "\n",
       "                                                                 20  \\\n",
       "mean_fit_time                                              0.076656   \n",
       "std_fit_time                                               0.023618   \n",
       "mean_score_time                                            0.002191   \n",
       "std_score_time                                             0.002047   \n",
       "param_max_depth                                                  10   \n",
       "param_min_samples_split                                          20   \n",
       "params                   {'max_depth': 10, 'min_samples_split': 20}   \n",
       "split0_test_score                                          0.894081   \n",
       "split1_test_score                                          0.893219   \n",
       "split2_test_score                                          0.882307   \n",
       "split3_test_score                                          0.890881   \n",
       "split4_test_score                                          0.880748   \n",
       "mean_test_score                                            0.888247   \n",
       "std_test_score                                             0.005607   \n",
       "rank_test_score                                                  19   \n",
       "\n",
       "                                                                21  \\\n",
       "mean_fit_time                                             0.092164   \n",
       "std_fit_time                                              0.012283   \n",
       "mean_score_time                                           0.010206   \n",
       "std_score_time                                            0.006694   \n",
       "param_max_depth                                                 12   \n",
       "param_min_samples_split                                          2   \n",
       "params                   {'max_depth': 12, 'min_samples_split': 2}   \n",
       "split0_test_score                                         0.884735   \n",
       "split1_test_score                                         0.886204   \n",
       "split2_test_score                                         0.877631   \n",
       "split3_test_score                                         0.884645   \n",
       "split4_test_score                                         0.871395   \n",
       "mean_test_score                                           0.880922   \n",
       "std_test_score                                             0.00562   \n",
       "rank_test_score                                                 28   \n",
       "\n",
       "                                                                 22  \\\n",
       "mean_fit_time                                              0.057605   \n",
       "std_fit_time                                                0.02178   \n",
       "mean_score_time                                            0.004391   \n",
       "std_score_time                                             0.004131   \n",
       "param_max_depth                                                  12   \n",
       "param_min_samples_split                                          11   \n",
       "params                   {'max_depth': 12, 'min_samples_split': 11}   \n",
       "split0_test_score                                          0.890187   \n",
       "split1_test_score                                           0.89244   \n",
       "split2_test_score                                          0.881528   \n",
       "split3_test_score                                          0.890101   \n",
       "split4_test_score                                          0.876072   \n",
       "mean_test_score                                            0.886065   \n",
       "std_test_score                                             0.006235   \n",
       "rank_test_score                                                  24   \n",
       "\n",
       "                                                                 23  \\\n",
       "mean_fit_time                                              0.075254   \n",
       "std_fit_time                                               0.012677   \n",
       "mean_score_time                                            0.005832   \n",
       "std_score_time                                             0.004935   \n",
       "param_max_depth                                                  12   \n",
       "param_min_samples_split                                          20   \n",
       "params                   {'max_depth': 12, 'min_samples_split': 20}   \n",
       "split0_test_score                                           0.89486   \n",
       "split1_test_score                                          0.890881   \n",
       "split2_test_score                                          0.883866   \n",
       "split3_test_score                                          0.889322   \n",
       "split4_test_score                                           0.87841   \n",
       "mean_test_score                                            0.887468   \n",
       "std_test_score                                              0.00574   \n",
       "rank_test_score                                                  22   \n",
       "\n",
       "                                                                24  \\\n",
       "mean_fit_time                                             0.070575   \n",
       "std_fit_time                                              0.008834   \n",
       "mean_score_time                                           0.004736   \n",
       "std_score_time                                            0.003238   \n",
       "param_max_depth                                                 13   \n",
       "param_min_samples_split                                          2   \n",
       "params                   {'max_depth': 13, 'min_samples_split': 2}   \n",
       "split0_test_score                                         0.888629   \n",
       "split1_test_score                                         0.883087   \n",
       "split2_test_score                                         0.879189   \n",
       "split3_test_score                                         0.886984   \n",
       "split4_test_score                                         0.871395   \n",
       "mean_test_score                                           0.881857   \n",
       "std_test_score                                            0.006168   \n",
       "rank_test_score                                                 27   \n",
       "\n",
       "                                                                 25  \\\n",
       "mean_fit_time                                               0.08549   \n",
       "std_fit_time                                               0.023727   \n",
       "mean_score_time                                            0.001897   \n",
       "std_score_time                                             0.001378   \n",
       "param_max_depth                                                  13   \n",
       "param_min_samples_split                                          11   \n",
       "params                   {'max_depth': 13, 'min_samples_split': 11}   \n",
       "split0_test_score                                          0.888629   \n",
       "split1_test_score                                          0.888542   \n",
       "split2_test_score                                          0.880748   \n",
       "split3_test_score                                          0.888542   \n",
       "split4_test_score                                          0.872954   \n",
       "mean_test_score                                            0.883883   \n",
       "std_test_score                                             0.006248   \n",
       "rank_test_score                                                  26   \n",
       "\n",
       "                                                                 26  \\\n",
       "mean_fit_time                                              0.081503   \n",
       "std_fit_time                                               0.021405   \n",
       "mean_score_time                                            0.003377   \n",
       "std_score_time                                             0.004445   \n",
       "param_max_depth                                                  13   \n",
       "param_min_samples_split                                          20   \n",
       "params                   {'max_depth': 13, 'min_samples_split': 20}   \n",
       "split0_test_score                                          0.895639   \n",
       "split1_test_score                                           0.89166   \n",
       "split2_test_score                                          0.886204   \n",
       "split3_test_score                                           0.89166   \n",
       "split4_test_score                                          0.879969   \n",
       "mean_test_score                                            0.889026   \n",
       "std_test_score                                             0.005433   \n",
       "rank_test_score                                                  17   \n",
       "\n",
       "                                                                27  \\\n",
       "mean_fit_time                                             0.088049   \n",
       "std_fit_time                                              0.011178   \n",
       "mean_score_time                                           0.007311   \n",
       "std_score_time                                            0.012061   \n",
       "param_max_depth                                                 15   \n",
       "param_min_samples_split                                          2   \n",
       "params                   {'max_depth': 15, 'min_samples_split': 2}   \n",
       "split0_test_score                                         0.878505   \n",
       "split1_test_score                                         0.872954   \n",
       "split2_test_score                                         0.870616   \n",
       "split3_test_score                                         0.883087   \n",
       "split4_test_score                                         0.859704   \n",
       "mean_test_score                                           0.872973   \n",
       "std_test_score                                            0.007931   \n",
       "rank_test_score                                                 30   \n",
       "\n",
       "                                                                 28  \\\n",
       "mean_fit_time                                              0.097397   \n",
       "std_fit_time                                               0.019122   \n",
       "mean_score_time                                            0.003971   \n",
       "std_score_time                                             0.004586   \n",
       "param_max_depth                                                  15   \n",
       "param_min_samples_split                                          11   \n",
       "params                   {'max_depth': 15, 'min_samples_split': 11}   \n",
       "split0_test_score                                          0.880841   \n",
       "split1_test_score                                          0.885425   \n",
       "split2_test_score                                          0.872954   \n",
       "split3_test_score                                          0.887763   \n",
       "split4_test_score                                          0.868277   \n",
       "mean_test_score                                            0.879052   \n",
       "std_test_score                                             0.007389   \n",
       "rank_test_score                                                  29   \n",
       "\n",
       "                                                                 29  \n",
       "mean_fit_time                                              0.082312  \n",
       "std_fit_time                                               0.015422  \n",
       "mean_score_time                                            0.002248  \n",
       "std_score_time                                             0.002053  \n",
       "param_max_depth                                                  15  \n",
       "param_min_samples_split                                          20  \n",
       "params                   {'max_depth': 15, 'min_samples_split': 20}  \n",
       "split0_test_score                                          0.890187  \n",
       "split1_test_score                                          0.889322  \n",
       "split2_test_score                                          0.879969  \n",
       "split3_test_score                                          0.889322  \n",
       "split4_test_score                                          0.872954  \n",
       "mean_test_score                                            0.884351  \n",
       "std_test_score                                              0.00682  \n",
       "rank_test_score                                                  25  \n",
       "\n",
       "[15 rows x 30 columns]"
      ]
     },
     "execution_count": 76,
     "metadata": {},
     "output_type": "execute_result"
    }
   ],
   "source": [
    "# モデルの宣言\n",
    "tuned_model = GridSearchCV(estimator=estimator, param_grid=param_grid, cv=cv, return_train_score=False)\n",
    "\n",
    "# モデルの学習\n",
    "tuned_model.fit(x, t)\n",
    "\n",
    "# 精度の確認\n",
    "pd.DataFrame(tuned_model.cv_results_).T"
   ]
  },
  {
   "cell_type": "code",
   "execution_count": null,
   "metadata": {
    "colab": {
     "base_uri": "https://localhost:8080/"
    },
    "id": "XcgRDaFVulGZ",
    "outputId": "12e8f711-b0e4-4a2e-b504-7652b3d5f073"
   },
   "outputs": [
    {
     "name": "stdout",
     "output_type": "stream",
     "text": [
      "{'max_depth': 3, 'min_samples_split': 2} 0.8965082567871738\n"
     ]
    }
   ],
   "source": [
    "# 最適なモデルの確認\n",
    "print(tuned_model.best_params_, tuned_model.best_score_)"
   ]
  },
  {
   "cell_type": "markdown",
   "metadata": {
    "id": "EjGsFknSusDg"
   },
   "source": [
    "先ほどとデータの分割方法が異なるため、厳密には同じ前提ではないですが、精度に向上が見られました。  \n",
    "範囲を大きく確認したので、得られた結果を元にさらにグリッドサーチを適応します。  \n",
    "1度目の結果を max_depth=2 、 min_samples_split=2 が最も良い結果でした。このあたりをもう一度確認して見ます。"
   ]
  },
  {
   "cell_type": "code",
   "execution_count": null,
   "metadata": {
    "colab": {
     "base_uri": "https://localhost:8080/"
    },
    "id": "MrmEM4YtuvSS",
    "outputId": "ee2a1459-e8bc-4405-c25a-b5f7e8edf8d7"
   },
   "outputs": [
    {
     "name": "stdout",
     "output_type": "stream",
     "text": [
      "max_depth:[ 2  6 10], min_samples_leaf:[2 3 5], cv:5\n"
     ]
    }
   ],
   "source": [
    "# モデルの定義\n",
    "estimator = DecisionTreeClassifier(random_state=0)\n",
    "\n",
    "# チューニングを行うハイパーパラメータとその範囲の指定\n",
    "max_depth = np.linspace(2, 10, 3, dtype=int)\n",
    "min_samples_split = np.linspace(2, 5, 3, dtype=int)\n",
    "\n",
    "param_grid = [\n",
    "    {'max_depth': max_depth,\n",
    "    'min_samples_split': min_samples_split\n",
    "    }\n",
    "]\n",
    "\n",
    "cv = 5\n",
    "\n",
    "print('max_depth:{}, min_samples_leaf:{}, cv:{}'.format(max_depth, min_samples_split, cv))"
   ]
  },
  {
   "cell_type": "code",
   "execution_count": null,
   "metadata": {
    "colab": {
     "base_uri": "https://localhost:8080/",
     "height": 581
    },
    "id": "N8Hpx-S8u_FG",
    "outputId": "5fdb720e-2602-4b73-cfa5-ed473ad8f832"
   },
   "outputs": [
    {
     "data": {
      "text/html": [
       "\n",
       "  <div id=\"df-b9d7f2c0-fa33-4bc4-bca3-c0eeb14cf0a4\">\n",
       "    <div class=\"colab-df-container\">\n",
       "      <div>\n",
       "<style scoped>\n",
       "    .dataframe tbody tr th:only-of-type {\n",
       "        vertical-align: middle;\n",
       "    }\n",
       "\n",
       "    .dataframe tbody tr th {\n",
       "        vertical-align: top;\n",
       "    }\n",
       "\n",
       "    .dataframe thead th {\n",
       "        text-align: right;\n",
       "    }\n",
       "</style>\n",
       "<table border=\"1\" class=\"dataframe\">\n",
       "  <thead>\n",
       "    <tr style=\"text-align: right;\">\n",
       "      <th></th>\n",
       "      <th>0</th>\n",
       "      <th>1</th>\n",
       "      <th>2</th>\n",
       "      <th>3</th>\n",
       "      <th>4</th>\n",
       "      <th>5</th>\n",
       "      <th>6</th>\n",
       "      <th>7</th>\n",
       "      <th>8</th>\n",
       "    </tr>\n",
       "  </thead>\n",
       "  <tbody>\n",
       "    <tr>\n",
       "      <th>mean_fit_time</th>\n",
       "      <td>0.006421</td>\n",
       "      <td>0.00818</td>\n",
       "      <td>0.005482</td>\n",
       "      <td>0.019164</td>\n",
       "      <td>0.014957</td>\n",
       "      <td>0.023851</td>\n",
       "      <td>0.047985</td>\n",
       "      <td>0.039717</td>\n",
       "      <td>0.040567</td>\n",
       "    </tr>\n",
       "    <tr>\n",
       "      <th>std_fit_time</th>\n",
       "      <td>0.001803</td>\n",
       "      <td>0.003101</td>\n",
       "      <td>0.000172</td>\n",
       "      <td>0.005768</td>\n",
       "      <td>0.004468</td>\n",
       "      <td>0.009693</td>\n",
       "      <td>0.009068</td>\n",
       "      <td>0.009199</td>\n",
       "      <td>0.009996</td>\n",
       "    </tr>\n",
       "    <tr>\n",
       "      <th>mean_score_time</th>\n",
       "      <td>0.002111</td>\n",
       "      <td>0.000681</td>\n",
       "      <td>0.000731</td>\n",
       "      <td>0.001202</td>\n",
       "      <td>0.000754</td>\n",
       "      <td>0.001951</td>\n",
       "      <td>0.000936</td>\n",
       "      <td>0.000946</td>\n",
       "      <td>0.003553</td>\n",
       "    </tr>\n",
       "    <tr>\n",
       "      <th>std_score_time</th>\n",
       "      <td>0.002727</td>\n",
       "      <td>0.000023</td>\n",
       "      <td>0.000085</td>\n",
       "      <td>0.000816</td>\n",
       "      <td>0.000117</td>\n",
       "      <td>0.002327</td>\n",
       "      <td>0.00005</td>\n",
       "      <td>0.000069</td>\n",
       "      <td>0.003255</td>\n",
       "    </tr>\n",
       "    <tr>\n",
       "      <th>param_max_depth</th>\n",
       "      <td>2</td>\n",
       "      <td>2</td>\n",
       "      <td>2</td>\n",
       "      <td>6</td>\n",
       "      <td>6</td>\n",
       "      <td>6</td>\n",
       "      <td>10</td>\n",
       "      <td>10</td>\n",
       "      <td>10</td>\n",
       "    </tr>\n",
       "    <tr>\n",
       "      <th>param_min_samples_split</th>\n",
       "      <td>2</td>\n",
       "      <td>3</td>\n",
       "      <td>5</td>\n",
       "      <td>2</td>\n",
       "      <td>3</td>\n",
       "      <td>5</td>\n",
       "      <td>2</td>\n",
       "      <td>3</td>\n",
       "      <td>5</td>\n",
       "    </tr>\n",
       "    <tr>\n",
       "      <th>params</th>\n",
       "      <td>{'max_depth': 2, 'min_samples_split': 2}</td>\n",
       "      <td>{'max_depth': 2, 'min_samples_split': 3}</td>\n",
       "      <td>{'max_depth': 2, 'min_samples_split': 5}</td>\n",
       "      <td>{'max_depth': 6, 'min_samples_split': 2}</td>\n",
       "      <td>{'max_depth': 6, 'min_samples_split': 3}</td>\n",
       "      <td>{'max_depth': 6, 'min_samples_split': 5}</td>\n",
       "      <td>{'max_depth': 10, 'min_samples_split': 2}</td>\n",
       "      <td>{'max_depth': 10, 'min_samples_split': 3}</td>\n",
       "      <td>{'max_depth': 10, 'min_samples_split': 5}</td>\n",
       "    </tr>\n",
       "    <tr>\n",
       "      <th>split0_test_score</th>\n",
       "      <td>0.884316</td>\n",
       "      <td>0.884316</td>\n",
       "      <td>0.884316</td>\n",
       "      <td>0.887653</td>\n",
       "      <td>0.888765</td>\n",
       "      <td>0.887653</td>\n",
       "      <td>0.889878</td>\n",
       "      <td>0.888765</td>\n",
       "      <td>0.887653</td>\n",
       "    </tr>\n",
       "    <tr>\n",
       "      <th>split1_test_score</th>\n",
       "      <td>0.894209</td>\n",
       "      <td>0.894209</td>\n",
       "      <td>0.894209</td>\n",
       "      <td>0.89755</td>\n",
       "      <td>0.89755</td>\n",
       "      <td>0.896437</td>\n",
       "      <td>0.885301</td>\n",
       "      <td>0.885301</td>\n",
       "      <td>0.887528</td>\n",
       "    </tr>\n",
       "    <tr>\n",
       "      <th>split2_test_score</th>\n",
       "      <td>0.905345</td>\n",
       "      <td>0.905345</td>\n",
       "      <td>0.905345</td>\n",
       "      <td>0.905345</td>\n",
       "      <td>0.905345</td>\n",
       "      <td>0.906459</td>\n",
       "      <td>0.894209</td>\n",
       "      <td>0.893096</td>\n",
       "      <td>0.893096</td>\n",
       "    </tr>\n",
       "    <tr>\n",
       "      <th>split3_test_score</th>\n",
       "      <td>0.899777</td>\n",
       "      <td>0.899777</td>\n",
       "      <td>0.899777</td>\n",
       "      <td>0.896437</td>\n",
       "      <td>0.896437</td>\n",
       "      <td>0.896437</td>\n",
       "      <td>0.888641</td>\n",
       "      <td>0.891982</td>\n",
       "      <td>0.889755</td>\n",
       "    </tr>\n",
       "    <tr>\n",
       "      <th>split4_test_score</th>\n",
       "      <td>0.886414</td>\n",
       "      <td>0.886414</td>\n",
       "      <td>0.886414</td>\n",
       "      <td>0.896437</td>\n",
       "      <td>0.896437</td>\n",
       "      <td>0.893096</td>\n",
       "      <td>0.894209</td>\n",
       "      <td>0.891982</td>\n",
       "      <td>0.888641</td>\n",
       "    </tr>\n",
       "    <tr>\n",
       "      <th>mean_test_score</th>\n",
       "      <td>0.894012</td>\n",
       "      <td>0.894012</td>\n",
       "      <td>0.894012</td>\n",
       "      <td>0.896684</td>\n",
       "      <td>0.896907</td>\n",
       "      <td>0.896016</td>\n",
       "      <td>0.890448</td>\n",
       "      <td>0.890225</td>\n",
       "      <td>0.889335</td>\n",
       "    </tr>\n",
       "    <tr>\n",
       "      <th>std_test_score</th>\n",
       "      <td>0.007918</td>\n",
       "      <td>0.007918</td>\n",
       "      <td>0.007918</td>\n",
       "      <td>0.005612</td>\n",
       "      <td>0.00526</td>\n",
       "      <td>0.00613</td>\n",
       "      <td>0.003417</td>\n",
       "      <td>0.002856</td>\n",
       "      <td>0.002044</td>\n",
       "    </tr>\n",
       "    <tr>\n",
       "      <th>rank_test_score</th>\n",
       "      <td>4</td>\n",
       "      <td>4</td>\n",
       "      <td>4</td>\n",
       "      <td>2</td>\n",
       "      <td>1</td>\n",
       "      <td>3</td>\n",
       "      <td>7</td>\n",
       "      <td>8</td>\n",
       "      <td>9</td>\n",
       "    </tr>\n",
       "  </tbody>\n",
       "</table>\n",
       "</div>\n",
       "      <button class=\"colab-df-convert\" onclick=\"convertToInteractive('df-b9d7f2c0-fa33-4bc4-bca3-c0eeb14cf0a4')\"\n",
       "              title=\"Convert this dataframe to an interactive table.\"\n",
       "              style=\"display:none;\">\n",
       "        \n",
       "  <svg xmlns=\"http://www.w3.org/2000/svg\" height=\"24px\"viewBox=\"0 0 24 24\"\n",
       "       width=\"24px\">\n",
       "    <path d=\"M0 0h24v24H0V0z\" fill=\"none\"/>\n",
       "    <path d=\"M18.56 5.44l.94 2.06.94-2.06 2.06-.94-2.06-.94-.94-2.06-.94 2.06-2.06.94zm-11 1L8.5 8.5l.94-2.06 2.06-.94-2.06-.94L8.5 2.5l-.94 2.06-2.06.94zm10 10l.94 2.06.94-2.06 2.06-.94-2.06-.94-.94-2.06-.94 2.06-2.06.94z\"/><path d=\"M17.41 7.96l-1.37-1.37c-.4-.4-.92-.59-1.43-.59-.52 0-1.04.2-1.43.59L10.3 9.45l-7.72 7.72c-.78.78-.78 2.05 0 2.83L4 21.41c.39.39.9.59 1.41.59.51 0 1.02-.2 1.41-.59l7.78-7.78 2.81-2.81c.8-.78.8-2.07 0-2.86zM5.41 20L4 18.59l7.72-7.72 1.47 1.35L5.41 20z\"/>\n",
       "  </svg>\n",
       "      </button>\n",
       "      \n",
       "  <style>\n",
       "    .colab-df-container {\n",
       "      display:flex;\n",
       "      flex-wrap:wrap;\n",
       "      gap: 12px;\n",
       "    }\n",
       "\n",
       "    .colab-df-convert {\n",
       "      background-color: #E8F0FE;\n",
       "      border: none;\n",
       "      border-radius: 50%;\n",
       "      cursor: pointer;\n",
       "      display: none;\n",
       "      fill: #1967D2;\n",
       "      height: 32px;\n",
       "      padding: 0 0 0 0;\n",
       "      width: 32px;\n",
       "    }\n",
       "\n",
       "    .colab-df-convert:hover {\n",
       "      background-color: #E2EBFA;\n",
       "      box-shadow: 0px 1px 2px rgba(60, 64, 67, 0.3), 0px 1px 3px 1px rgba(60, 64, 67, 0.15);\n",
       "      fill: #174EA6;\n",
       "    }\n",
       "\n",
       "    [theme=dark] .colab-df-convert {\n",
       "      background-color: #3B4455;\n",
       "      fill: #D2E3FC;\n",
       "    }\n",
       "\n",
       "    [theme=dark] .colab-df-convert:hover {\n",
       "      background-color: #434B5C;\n",
       "      box-shadow: 0px 1px 3px 1px rgba(0, 0, 0, 0.15);\n",
       "      filter: drop-shadow(0px 1px 2px rgba(0, 0, 0, 0.3));\n",
       "      fill: #FFFFFF;\n",
       "    }\n",
       "  </style>\n",
       "\n",
       "      <script>\n",
       "        const buttonEl =\n",
       "          document.querySelector('#df-b9d7f2c0-fa33-4bc4-bca3-c0eeb14cf0a4 button.colab-df-convert');\n",
       "        buttonEl.style.display =\n",
       "          google.colab.kernel.accessAllowed ? 'block' : 'none';\n",
       "\n",
       "        async function convertToInteractive(key) {\n",
       "          const element = document.querySelector('#df-b9d7f2c0-fa33-4bc4-bca3-c0eeb14cf0a4');\n",
       "          const dataTable =\n",
       "            await google.colab.kernel.invokeFunction('convertToInteractive',\n",
       "                                                     [key], {});\n",
       "          if (!dataTable) return;\n",
       "\n",
       "          const docLinkHtml = 'Like what you see? Visit the ' +\n",
       "            '<a target=\"_blank\" href=https://colab.research.google.com/notebooks/data_table.ipynb>data table notebook</a>'\n",
       "            + ' to learn more about interactive tables.';\n",
       "          element.innerHTML = '';\n",
       "          dataTable['output_type'] = 'display_data';\n",
       "          await google.colab.output.renderOutput(dataTable, element);\n",
       "          const docLink = document.createElement('div');\n",
       "          docLink.innerHTML = docLinkHtml;\n",
       "          element.appendChild(docLink);\n",
       "        }\n",
       "      </script>\n",
       "    </div>\n",
       "  </div>\n",
       "  "
      ],
      "text/plain": [
       "                                                                0  \\\n",
       "mean_fit_time                                            0.006421   \n",
       "std_fit_time                                             0.001803   \n",
       "mean_score_time                                          0.002111   \n",
       "std_score_time                                           0.002727   \n",
       "param_max_depth                                                 2   \n",
       "param_min_samples_split                                         2   \n",
       "params                   {'max_depth': 2, 'min_samples_split': 2}   \n",
       "split0_test_score                                        0.884316   \n",
       "split1_test_score                                        0.894209   \n",
       "split2_test_score                                        0.905345   \n",
       "split3_test_score                                        0.899777   \n",
       "split4_test_score                                        0.886414   \n",
       "mean_test_score                                          0.894012   \n",
       "std_test_score                                           0.007918   \n",
       "rank_test_score                                                 4   \n",
       "\n",
       "                                                                1  \\\n",
       "mean_fit_time                                             0.00818   \n",
       "std_fit_time                                             0.003101   \n",
       "mean_score_time                                          0.000681   \n",
       "std_score_time                                           0.000023   \n",
       "param_max_depth                                                 2   \n",
       "param_min_samples_split                                         3   \n",
       "params                   {'max_depth': 2, 'min_samples_split': 3}   \n",
       "split0_test_score                                        0.884316   \n",
       "split1_test_score                                        0.894209   \n",
       "split2_test_score                                        0.905345   \n",
       "split3_test_score                                        0.899777   \n",
       "split4_test_score                                        0.886414   \n",
       "mean_test_score                                          0.894012   \n",
       "std_test_score                                           0.007918   \n",
       "rank_test_score                                                 4   \n",
       "\n",
       "                                                                2  \\\n",
       "mean_fit_time                                            0.005482   \n",
       "std_fit_time                                             0.000172   \n",
       "mean_score_time                                          0.000731   \n",
       "std_score_time                                           0.000085   \n",
       "param_max_depth                                                 2   \n",
       "param_min_samples_split                                         5   \n",
       "params                   {'max_depth': 2, 'min_samples_split': 5}   \n",
       "split0_test_score                                        0.884316   \n",
       "split1_test_score                                        0.894209   \n",
       "split2_test_score                                        0.905345   \n",
       "split3_test_score                                        0.899777   \n",
       "split4_test_score                                        0.886414   \n",
       "mean_test_score                                          0.894012   \n",
       "std_test_score                                           0.007918   \n",
       "rank_test_score                                                 4   \n",
       "\n",
       "                                                                3  \\\n",
       "mean_fit_time                                            0.019164   \n",
       "std_fit_time                                             0.005768   \n",
       "mean_score_time                                          0.001202   \n",
       "std_score_time                                           0.000816   \n",
       "param_max_depth                                                 6   \n",
       "param_min_samples_split                                         2   \n",
       "params                   {'max_depth': 6, 'min_samples_split': 2}   \n",
       "split0_test_score                                        0.887653   \n",
       "split1_test_score                                         0.89755   \n",
       "split2_test_score                                        0.905345   \n",
       "split3_test_score                                        0.896437   \n",
       "split4_test_score                                        0.896437   \n",
       "mean_test_score                                          0.896684   \n",
       "std_test_score                                           0.005612   \n",
       "rank_test_score                                                 2   \n",
       "\n",
       "                                                                4  \\\n",
       "mean_fit_time                                            0.014957   \n",
       "std_fit_time                                             0.004468   \n",
       "mean_score_time                                          0.000754   \n",
       "std_score_time                                           0.000117   \n",
       "param_max_depth                                                 6   \n",
       "param_min_samples_split                                         3   \n",
       "params                   {'max_depth': 6, 'min_samples_split': 3}   \n",
       "split0_test_score                                        0.888765   \n",
       "split1_test_score                                         0.89755   \n",
       "split2_test_score                                        0.905345   \n",
       "split3_test_score                                        0.896437   \n",
       "split4_test_score                                        0.896437   \n",
       "mean_test_score                                          0.896907   \n",
       "std_test_score                                            0.00526   \n",
       "rank_test_score                                                 1   \n",
       "\n",
       "                                                                5  \\\n",
       "mean_fit_time                                            0.023851   \n",
       "std_fit_time                                             0.009693   \n",
       "mean_score_time                                          0.001951   \n",
       "std_score_time                                           0.002327   \n",
       "param_max_depth                                                 6   \n",
       "param_min_samples_split                                         5   \n",
       "params                   {'max_depth': 6, 'min_samples_split': 5}   \n",
       "split0_test_score                                        0.887653   \n",
       "split1_test_score                                        0.896437   \n",
       "split2_test_score                                        0.906459   \n",
       "split3_test_score                                        0.896437   \n",
       "split4_test_score                                        0.893096   \n",
       "mean_test_score                                          0.896016   \n",
       "std_test_score                                            0.00613   \n",
       "rank_test_score                                                 3   \n",
       "\n",
       "                                                                 6  \\\n",
       "mean_fit_time                                             0.047985   \n",
       "std_fit_time                                              0.009068   \n",
       "mean_score_time                                           0.000936   \n",
       "std_score_time                                             0.00005   \n",
       "param_max_depth                                                 10   \n",
       "param_min_samples_split                                          2   \n",
       "params                   {'max_depth': 10, 'min_samples_split': 2}   \n",
       "split0_test_score                                         0.889878   \n",
       "split1_test_score                                         0.885301   \n",
       "split2_test_score                                         0.894209   \n",
       "split3_test_score                                         0.888641   \n",
       "split4_test_score                                         0.894209   \n",
       "mean_test_score                                           0.890448   \n",
       "std_test_score                                            0.003417   \n",
       "rank_test_score                                                  7   \n",
       "\n",
       "                                                                 7  \\\n",
       "mean_fit_time                                             0.039717   \n",
       "std_fit_time                                              0.009199   \n",
       "mean_score_time                                           0.000946   \n",
       "std_score_time                                            0.000069   \n",
       "param_max_depth                                                 10   \n",
       "param_min_samples_split                                          3   \n",
       "params                   {'max_depth': 10, 'min_samples_split': 3}   \n",
       "split0_test_score                                         0.888765   \n",
       "split1_test_score                                         0.885301   \n",
       "split2_test_score                                         0.893096   \n",
       "split3_test_score                                         0.891982   \n",
       "split4_test_score                                         0.891982   \n",
       "mean_test_score                                           0.890225   \n",
       "std_test_score                                            0.002856   \n",
       "rank_test_score                                                  8   \n",
       "\n",
       "                                                                 8  \n",
       "mean_fit_time                                             0.040567  \n",
       "std_fit_time                                              0.009996  \n",
       "mean_score_time                                           0.003553  \n",
       "std_score_time                                            0.003255  \n",
       "param_max_depth                                                 10  \n",
       "param_min_samples_split                                          5  \n",
       "params                   {'max_depth': 10, 'min_samples_split': 5}  \n",
       "split0_test_score                                         0.887653  \n",
       "split1_test_score                                         0.887528  \n",
       "split2_test_score                                         0.893096  \n",
       "split3_test_score                                         0.889755  \n",
       "split4_test_score                                         0.888641  \n",
       "mean_test_score                                           0.889335  \n",
       "std_test_score                                            0.002044  \n",
       "rank_test_score                                                  9  "
      ]
     },
     "execution_count": 79,
     "metadata": {},
     "output_type": "execute_result"
    }
   ],
   "source": [
    "# モデルの宣言\n",
    "tuned_model = GridSearchCV(estimator=estimator, param_grid=param_grid, cv=cv, return_train_score=False)\n",
    "\n",
    "# モデルの学習\n",
    "tuned_model.fit(x_train, t_train)\n",
    "\n",
    "# 精度の確認\n",
    "pd.DataFrame(tuned_model.cv_results_).T"
   ]
  },
  {
   "cell_type": "code",
   "execution_count": null,
   "metadata": {
    "colab": {
     "base_uri": "https://localhost:8080/"
    },
    "id": "O404_qRNvE11",
    "outputId": "e825da8d-24f4-41a0-84c6-69f91e2faea7"
   },
   "outputs": [
    {
     "name": "stdout",
     "output_type": "stream",
     "text": [
      "{'max_depth': 6, 'min_samples_split': 3} 0.896906733787356\n"
     ]
    }
   ],
   "source": [
    "# 最適なモデルの確認\n",
    "print(tuned_model.best_params_, tuned_model.best_score_)"
   ]
  },
  {
   "cell_type": "markdown",
   "metadata": {
    "id": "df-_tKPyvG22"
   },
   "source": [
    "少しだけ精度が向上しました。 Feature Importance を確認してどの入力変数が聞いているのか見てみます。"
   ]
  },
  {
   "cell_type": "code",
   "execution_count": null,
   "metadata": {
    "colab": {
     "base_uri": "https://localhost:8080/",
     "height": 392
    },
    "id": "a4687xNqvKY2",
    "outputId": "11c50845-c704-4639-b798-5da48315438a"
   },
   "outputs": [
    {
     "data": {
      "text/plain": [
       "<BarContainer object of 30 artists>"
      ]
     },
     "execution_count": 81,
     "metadata": {},
     "output_type": "execute_result"
    },
    {
     "data": {
      "image/png": "[encoded data removed]",
      "text/plain": [
       "<Figure size 1080x432 with 1 Axes>"
      ]
     },
     "metadata": {
      "needs_background": "light"
     },
     "output_type": "display_data"
    }
   ],
   "source": [
    "feature_importance = tuned_model.best_estimator_.feature_importances_\n",
    "\n",
    "labels = df3_dum.drop('result', axis=1).columns.tolist()\n",
    "\n",
    "plt.figure(figsize=(15, 6))\n",
    "plt.barh(labels, feature_importance)"
   ]
  },
  {
   "cell_type": "markdown",
   "metadata": {
    "id": "DDxt2ezhvNt4"
   },
   "source": [
    "いくつかの特徴量が強い効果がある事が確認できます。  \n",
    "この結果から特徴量エンジニアリングを行い、新たな特徴量の作成など行う事ができそうです。"
   ]
  },
  {
   "cell_type": "markdown",
   "metadata": {
    "id": "wQ4hvFI1vYlU"
   },
   "source": [
    "## 手法へのアプローチ"
   ]
  },
  {
   "cell_type": "markdown",
   "metadata": {
    "id": "VFcZ1AzXvayU"
   },
   "source": [
    "先ほどまでは決定木のみで精度がどのようになるのか確認してきました。\n",
    "他の手法でもどのように変化が出るのか確認してみます。\n",
    "試行する手法は下記の 2 つを使用します。\n",
    "\n",
    "- サポートベクターマシン（SVM）\n",
    "- XGBoost"
   ]
  },
  {
   "cell_type": "markdown",
   "metadata": {
    "id": "gP91y8JAvf50"
   },
   "source": [
    "### サポートベクターマシン"
   ]
  },
  {
   "cell_type": "markdown",
   "metadata": {
    "id": "W6gOe_1xviiA"
   },
   "source": [
    "データを標準化して、学習を行います。"
   ]
  },
  {
   "cell_type": "code",
   "execution_count": null,
   "metadata": {
    "id": "urmIIhpjvj8Z"
   },
   "outputs": [],
   "source": [
    "# モデルの定義\n",
    "from sklearn.preprocessing import StandardScaler\n",
    "scaler = StandardScaler()\n",
    "\n",
    "# 標準化の適用\n",
    "x_transform = scaler.fit_transform(x)"
   ]
  },
  {
   "cell_type": "markdown",
   "metadata": {
    "id": "jNyEr7INvnhw"
   },
   "source": [
    "グリッドサーチは行わず、K-分割交差検証を使用して学習を行います。"
   ]
  },
  {
   "cell_type": "code",
   "execution_count": null,
   "metadata": {
    "colab": {
     "base_uri": "https://localhost:8080/"
    },
    "id": "hA4QWi9mvo17",
    "outputId": "040c8aee-89d1-4ea7-d66d-320b4d64a1d9"
   },
   "outputs": [
    {
     "data": {
      "text/plain": [
       "0.8971316739631364"
      ]
     },
     "execution_count": 83,
     "metadata": {},
     "output_type": "execute_result"
    }
   ],
   "source": [
    "# モデルの定義\n",
    "from sklearn.svm import SVC\n",
    "model = SVC(random_state=0)\n",
    "\n",
    "# モデルの学習&検証\n",
    "from sklearn.model_selection import cross_val_score\n",
    "cross_val_score(model, x_transform, t, cv=5).mean()"
   ]
  },
  {
   "cell_type": "markdown",
   "metadata": {
    "id": "VnSf40h7vs_h"
   },
   "source": [
    "先ほどの決定木よりいい精度が出ました。  \n",
    "チューニングを行う前に XGBoost の結果も確認しておきます。"
   ]
  },
  {
   "cell_type": "markdown",
   "metadata": {
    "id": "-dHt_F0AvwdW"
   },
   "source": [
    "### XGBoost"
   ]
  },
  {
   "cell_type": "code",
   "execution_count": null,
   "metadata": {
    "colab": {
     "base_uri": "https://localhost:8080/"
    },
    "id": "Gb0PDGSnvzdR",
    "outputId": "4fba51e5-f094-4cbb-c087-fb55933f87e0"
   },
   "outputs": [
    {
     "data": {
      "text/plain": [
       "0.8946377624483116"
      ]
     },
     "execution_count": 84,
     "metadata": {},
     "output_type": "execute_result"
    }
   ],
   "source": [
    "# モデルの宣言\n",
    "from xgboost import XGBClassifier\n",
    "model = XGBClassifier(random_state=0)\n",
    "\n",
    "# モデルの学習&検証\n",
    "cross_val_score(model, x_transform, t, cv=5).mean()"
   ]
  },
  {
   "cell_type": "markdown",
   "metadata": {
    "id": "y8-vyt7vv2dp"
   },
   "source": [
    "こちらもいい精度が出ている事が確認できました。  \n",
    "まだチューニングを行なっていないので、まだ精度向上の余地がありそうです。  "
   ]
  },
  {
   "cell_type": "markdown",
   "metadata": {
    "id": "-C_V177Wv55y"
   },
   "source": [
    "### ハイパーパラメータのチューニング：XGBoost"
   ]
  },
  {
   "cell_type": "code",
   "execution_count": null,
   "metadata": {
    "colab": {
     "base_uri": "https://localhost:8080/"
    },
    "id": "CNp71xdjv-fx",
    "outputId": "afcb913c-28a2-4fe4-e492-b9f62b96a1c5"
   },
   "outputs": [
    {
     "name": "stdout",
     "output_type": "stream",
     "text": [
      "max_depth:[ 2  8 15], n_estimators:[ 80 140 200], cv:5\n"
     ]
    }
   ],
   "source": [
    "estimator = XGBClassifier(random_state=0)\n",
    "\n",
    "# チューニングを行うハイパーパラメータとその範囲の指定\n",
    "# linspace(start, stop, num) で start から stop　の間の num（要素数）分の間隔を計算\n",
    "max_depth = np.linspace(2, 15, 3, dtype=int)\n",
    "n_estimators = np.linspace(80, 200, 3, dtype=int)\n",
    "param_grid = [\n",
    "    {'max_depth' : max_depth,  'n_estimators' : n_estimators}\n",
    "]\n",
    "cv = 5\n",
    "print('max_depth:{}, n_estimators:{}, cv:{}'.format(max_depth, n_estimators, cv))"
   ]
  },
  {
   "cell_type": "code",
   "execution_count": null,
   "metadata": {
    "colab": {
     "base_uri": "https://localhost:8080/"
    },
    "id": "Pc2r86eKwFmX",
    "outputId": "83006255-181e-4bbd-f19a-f648f52f99e7"
   },
   "outputs": [
    {
     "name": "stdout",
     "output_type": "stream",
     "text": [
      "{'max_depth': 8, 'n_estimators': 80} 0.8947940113101354\n"
     ]
    }
   ],
   "source": [
    "# モデルの定義\n",
    "tuned_model = GridSearchCV(estimator=estimator, param_grid=param_grid, cv=cv, return_train_score=False, n_jobs=-1)\n",
    "\n",
    "# モデルの学習\n",
    "tuned_model.fit(x_transform, t)\n",
    "\n",
    "# 最適なモデルの確認\n",
    "print(tuned_model.best_params_, tuned_model.best_score_)"
   ]
  },
  {
   "cell_type": "markdown",
   "metadata": {
    "id": "sk3MUK5jwMco"
   },
   "source": [
    "### ハイパーパラメータチューニング：SVM"
   ]
  },
  {
   "cell_type": "markdown",
   "metadata": {
    "id": "qF_RGWC0wh-N"
   },
   "source": [
    "ハイパーパラメータの探索する範囲が広いので、ベイズ最適化を使用します。  \n",
    "試行する回数はある一定数必要となるので、学習には時間がかかります。"
   ]
  },
  {
   "cell_type": "code",
   "execution_count": null,
   "metadata": {
    "colab": {
     "base_uri": "https://localhost:8080/"
    },
    "id": "ZyI2iWWcwjk9",
    "outputId": "a5c2fb41-7f79-47a3-fe01-b6306247c08c"
   },
   "outputs": [
    {
     "name": "stdout",
     "output_type": "stream",
     "text": [
      "Requirement already satisfied: optuna in /usr/local/lib/python3.7/dist-packages (2.10.0)\n",
      "Requirement already satisfied: PyYAML in /usr/local/lib/python3.7/dist-packages (from optuna) (3.13)\n",
      "Requirement already satisfied: colorlog in /usr/local/lib/python3.7/dist-packages (from optuna) (6.6.0)\n",
      "Requirement already satisfied: tqdm in /usr/local/lib/python3.7/dist-packages (from optuna) (4.63.0)\n",
      "Requirement already satisfied: sqlalchemy>=1.1.0 in /usr/local/lib/python3.7/dist-packages (from optuna) (1.4.32)\n",
      "Requirement already satisfied: alembic in /usr/local/lib/python3.7/dist-packages (from optuna) (1.7.7)\n",
      "Requirement already satisfied: cmaes>=0.8.2 in /usr/local/lib/python3.7/dist-packages (from optuna) (0.8.2)\n",
      "Requirement already satisfied: packaging>=20.0 in /usr/local/lib/python3.7/dist-packages (from optuna) (21.3)\n",
      "Requirement already satisfied: scipy!=1.4.0 in /usr/local/lib/python3.7/dist-packages (from optuna) (1.4.1)\n",
      "Requirement already satisfied: cliff in /usr/local/lib/python3.7/dist-packages (from optuna) (3.10.1)\n",
      "Requirement already satisfied: numpy in /usr/local/lib/python3.7/dist-packages (from optuna) (1.21.5)\n",
      "Requirement already satisfied: pyparsing!=3.0.5,>=2.0.2 in /usr/local/lib/python3.7/dist-packages (from packaging>=20.0->optuna) (3.0.7)\n",
      "Requirement already satisfied: importlib-metadata in /usr/local/lib/python3.7/dist-packages (from sqlalchemy>=1.1.0->optuna) (4.11.3)\n",
      "Requirement already satisfied: greenlet!=0.4.17 in /usr/local/lib/python3.7/dist-packages (from sqlalchemy>=1.1.0->optuna) (1.1.2)\n",
      "Requirement already satisfied: importlib-resources in /usr/local/lib/python3.7/dist-packages (from alembic->optuna) (5.4.0)\n",
      "Requirement already satisfied: Mako in /usr/local/lib/python3.7/dist-packages (from alembic->optuna) (1.2.0)\n",
      "Requirement already satisfied: autopage>=0.4.0 in /usr/local/lib/python3.7/dist-packages (from cliff->optuna) (0.5.0)\n",
      "Requirement already satisfied: cmd2>=1.0.0 in /usr/local/lib/python3.7/dist-packages (from cliff->optuna) (2.4.0)\n",
      "Requirement already satisfied: PrettyTable>=0.7.2 in /usr/local/lib/python3.7/dist-packages (from cliff->optuna) (3.2.0)\n",
      "Requirement already satisfied: stevedore>=2.0.1 in /usr/local/lib/python3.7/dist-packages (from cliff->optuna) (3.5.0)\n",
      "Requirement already satisfied: pbr!=2.1.0,>=2.0.0 in /usr/local/lib/python3.7/dist-packages (from cliff->optuna) (5.8.1)\n",
      "Requirement already satisfied: wcwidth>=0.1.7 in /usr/local/lib/python3.7/dist-packages (from cmd2>=1.0.0->cliff->optuna) (0.2.5)\n",
      "Requirement already satisfied: pyperclip>=1.6 in /usr/local/lib/python3.7/dist-packages (from cmd2>=1.0.0->cliff->optuna) (1.8.2)\n",
      "Requirement already satisfied: attrs>=16.3.0 in /usr/local/lib/python3.7/dist-packages (from cmd2>=1.0.0->cliff->optuna) (21.4.0)\n",
      "Requirement already satisfied: typing-extensions in /usr/local/lib/python3.7/dist-packages (from cmd2>=1.0.0->cliff->optuna) (3.10.0.2)\n",
      "Requirement already satisfied: zipp>=0.5 in /usr/local/lib/python3.7/dist-packages (from importlib-metadata->sqlalchemy>=1.1.0->optuna) (3.7.0)\n",
      "Requirement already satisfied: MarkupSafe>=0.9.2 in /usr/local/lib/python3.7/dist-packages (from Mako->alembic->optuna) (2.0.1)\n"
     ]
    }
   ],
   "source": [
    "!pip install optuna"
   ]
  },
  {
   "cell_type": "code",
   "execution_count": null,
   "metadata": {
    "id": "D5j9K-Wewlri"
   },
   "outputs": [],
   "source": [
    "import optuna\n",
    "from sklearn.model_selection import cross_val_score\n",
    "from sklearn.svm import SVC\n",
    "\n",
    "def objective(trial, x, t, cv):\n",
    "  C = trial.suggest_uniform('C', 0.1, 100)\n",
    "  gamma = trial.suggest_uniform('gamma', 1, 200)\n",
    "  estimator = SVC(\n",
    "      C = C,\n",
    "      gamma = gamma\n",
    "  )\n",
    "  accuracy = cross_val_score(estimator, x, t, cv=cv).mean()\n",
    "  return 1 - accuracy"
   ]
  },
  {
   "cell_type": "markdown",
   "metadata": {
    "id": "3HO8jNiPwpLJ"
   },
   "source": [
    "今回は実数値の間で探索範囲を設定するため `suggest_uniform` を使用してしています。"
   ]
  },
  {
   "cell_type": "code",
   "execution_count": null,
   "metadata": {
    "id": "i70ZCNj7wsLX"
   },
   "outputs": [],
   "source": [
    "cv = 5\n",
    "n_trials = 30"
   ]
  },
  {
   "cell_type": "code",
   "execution_count": null,
   "metadata": {
    "colab": {
     "base_uri": "https://localhost:8080/"
    },
    "id": "-8l1EQ-lwufH",
    "outputId": "99cd02aa-74fa-4ef1-bafa-56fd2fc039cf"
   },
   "outputs": [
    {
     "name": "stderr",
     "output_type": "stream",
     "text": [
      "\u001b[32m[I 2022-04-13 06:53:24,118]\u001b[0m A new study created in memory with name: no-name-c8e4d259-8b51-4860-97fe-ee64c6d3313c\u001b[0m\n",
      "\u001b[32m[I 2022-04-13 06:54:08,923]\u001b[0m Trial 0 finished with value: 0.12889741964777846 and parameters: {'C': 54.92646904233975, 'gamma': 143.3226839081115}. Best is trial 0 with value: 0.12889741964777846.\u001b[0m\n",
      "\u001b[32m[I 2022-04-13 06:54:26,021]\u001b[0m Trial 1 finished with value: 0.1304561446959157 and parameters: {'C': 60.31606126955723, 'gamma': 109.43175341638248}. Best is trial 0 with value: 0.12889741964777846.\u001b[0m\n",
      "\u001b[32m[I 2022-04-13 06:54:43,103]\u001b[0m Trial 2 finished with value: 0.12905318288765388 and parameters: {'C': 42.423114453956586, 'gamma': 129.53292850026457}. Best is trial 0 with value: 0.12889741964777846.\u001b[0m\n",
      "\u001b[32m[I 2022-04-13 06:54:56,161]\u001b[0m Trial 3 finished with value: 0.1279621117756038 and parameters: {'C': 43.814962405142985, 'gamma': 178.46282715563387}. Best is trial 3 with value: 0.1279621117756038.\u001b[0m\n",
      "\u001b[32m[I 2022-04-13 06:55:13,096]\u001b[0m Trial 4 finished with value: 0.1365349174321283 and parameters: {'C': 96.36990977405283, 'gamma': 77.30486224632976}. Best is trial 3 with value: 0.1279621117756038.\u001b[0m\n",
      "\u001b[32m[I 2022-04-13 06:55:26,365]\u001b[0m Trial 5 finished with value: 0.13139145256809037 and parameters: {'C': 79.1933313044582, 'gamma': 106.250089030828}. Best is trial 3 with value: 0.1279621117756038.\u001b[0m\n",
      "\u001b[32m[I 2022-04-13 06:55:39,708]\u001b[0m Trial 6 finished with value: 0.1279621117756038 and parameters: {'C': 56.84765165328384, 'gamma': 185.19373102023954}. Best is trial 3 with value: 0.1279621117756038.\u001b[0m\n",
      "\u001b[32m[I 2022-04-13 06:56:01,265]\u001b[0m Trial 7 finished with value: 0.13622181268104594 and parameters: {'C': 7.196502213968905, 'gamma': 18.338730640606602}. Best is trial 3 with value: 0.1279621117756038.\u001b[0m\n",
      "\u001b[32m[I 2022-04-13 06:56:16,907]\u001b[0m Trial 8 finished with value: 0.12484514730127749 and parameters: {'C': 2.1198179042885394, 'gamma': 166.69134926403967}. Best is trial 8 with value: 0.12484514730127749.\u001b[0m\n",
      "\u001b[32m[I 2022-04-13 06:56:30,770]\u001b[0m Trial 9 finished with value: 0.12842976571169107 and parameters: {'C': 77.83785941989007, 'gamma': 174.132417501117}. Best is trial 8 with value: 0.12484514730127749.\u001b[0m\n",
      "\u001b[32m[I 2022-04-13 06:56:43,936]\u001b[0m Trial 10 finished with value: 0.12874153500241603 and parameters: {'C': 97.86397238905312, 'gamma': 160.032554279128}. Best is trial 8 with value: 0.12484514730127749.\u001b[0m\n",
      "\u001b[32m[I 2022-04-13 06:57:02,333]\u001b[0m Trial 11 finished with value: 0.12811799642096633 and parameters: {'C': 46.2017882890679, 'gamma': 156.32530608100464}. Best is trial 8 with value: 0.12484514730127749.\u001b[0m\n",
      "\u001b[32m[I 2022-04-13 06:57:15,808]\u001b[0m Trial 12 finished with value: 0.12749457924500374 and parameters: {'C': 11.915615144306429, 'gamma': 128.34428324417723}. Best is trial 8 with value: 0.12484514730127749.\u001b[0m\n",
      "\u001b[32m[I 2022-04-13 06:57:31,968]\u001b[0m Trial 13 finished with value: 0.12655939277831596 and parameters: {'C': 14.420993412163735, 'gamma': 188.9891144928672}. Best is trial 8 with value: 0.12484514730127749.\u001b[0m\n",
      "\u001b[32m[I 2022-04-13 06:57:45,308]\u001b[0m Trial 14 finished with value: 0.13497619238399083 and parameters: {'C': 52.232647342832166, 'gamma': 83.51772605811419}. Best is trial 8 with value: 0.12484514730127749.\u001b[0m\n",
      "\u001b[32m[I 2022-04-13 06:58:01,861]\u001b[0m Trial 15 finished with value: 0.1279622331810909 and parameters: {'C': 26.529105649252237, 'gamma': 155.0725041974091}. Best is trial 8 with value: 0.12484514730127749.\u001b[0m\n",
      "\u001b[32m[I 2022-04-13 06:58:15,887]\u001b[0m Trial 16 finished with value: 0.13014437540519075 and parameters: {'C': 45.669418188433205, 'gamma': 114.11835582486106}. Best is trial 8 with value: 0.12484514730127749.\u001b[0m\n",
      "\u001b[32m[I 2022-04-13 06:58:32,352]\u001b[0m Trial 17 finished with value: 0.12422148731434057 and parameters: {'C': 1.9771010635918789, 'gamma': 123.90946391809953}. Best is trial 17 with value: 0.12422148731434057.\u001b[0m\n",
      "\u001b[32m[I 2022-04-13 06:58:45,515]\u001b[0m Trial 18 finished with value: 0.12952083682374105 and parameters: {'C': 61.2483626999699, 'gamma': 123.76986537807663}. Best is trial 17 with value: 0.12422148731434057.\u001b[0m\n",
      "\u001b[32m[I 2022-04-13 06:59:00,318]\u001b[0m Trial 19 finished with value: 0.1292090675330163 and parameters: {'C': 94.38043304361095, 'gamma': 136.6822395215932}. Best is trial 17 with value: 0.12422148731434057.\u001b[0m\n",
      "\u001b[32m[I 2022-04-13 06:59:16,137]\u001b[0m Trial 20 finished with value: 0.13326170409597826 and parameters: {'C': 36.01483926732123, 'gamma': 87.96935880606895}. Best is trial 17 with value: 0.12422148731434057.\u001b[0m\n",
      "\u001b[32m[I 2022-04-13 06:59:39,049]\u001b[0m Trial 21 finished with value: 0.14791182562287086 and parameters: {'C': 69.79335647313376, 'gamma': 12.984868854224697}. Best is trial 17 with value: 0.12422148731434057.\u001b[0m\n",
      "\u001b[32m[I 2022-04-13 06:59:52,224]\u001b[0m Trial 22 finished with value: 0.1292090675330163 and parameters: {'C': 66.7099948730222, 'gamma': 134.4569360540137}. Best is trial 17 with value: 0.12422148731434057.\u001b[0m\n",
      "\u001b[32m[I 2022-04-13 07:00:11,768]\u001b[0m Trial 23 finished with value: 0.1413660059780062 and parameters: {'C': 21.11721785127671, 'gamma': 26.65633323331581}. Best is trial 17 with value: 0.12422148731434057.\u001b[0m\n",
      "\u001b[32m[I 2022-04-13 07:00:25,884]\u001b[0m Trial 24 finished with value: 0.1352880830802029 and parameters: {'C': 31.61129225732597, 'gamma': 73.3784434175819}. Best is trial 17 with value: 0.12422148731434057.\u001b[0m\n",
      "\u001b[32m[I 2022-04-13 07:00:42,611]\u001b[0m Trial 25 finished with value: 0.13388512127194097 and parameters: {'C': 57.06265736474618, 'gamma': 88.28170117900174}. Best is trial 17 with value: 0.12422148731434057.\u001b[0m\n",
      "\u001b[32m[I 2022-04-13 07:01:00,666]\u001b[0m Trial 26 finished with value: 0.1476001777376329 and parameters: {'C': 98.83854642211669, 'gamma': 21.306917338857588}. Best is trial 17 with value: 0.12422148731434057.\u001b[0m\n",
      "\u001b[32m[I 2022-04-13 07:01:19,321]\u001b[0m Trial 27 finished with value: 0.13980800936279114 and parameters: {'C': 20.966787933873988, 'gamma': 33.10059405911426}. Best is trial 17 with value: 0.12422148731434057.\u001b[0m\n",
      "\u001b[32m[I 2022-04-13 07:01:34,621]\u001b[0m Trial 28 finished with value: 0.13996389400815357 and parameters: {'C': 65.3455217139933, 'gamma': 51.40502890541664}. Best is trial 17 with value: 0.12422148731434057.\u001b[0m\n",
      "\u001b[32m[I 2022-04-13 07:01:52,408]\u001b[0m Trial 29 finished with value: 0.1394962400720663 and parameters: {'C': 46.684446208345, 'gamma': 49.640692808318946}. Best is trial 17 with value: 0.12422148731434057.\u001b[0m\n"
     ]
    },
    {
     "name": "stdout",
     "output_type": "stream",
     "text": [
      "FrozenTrial(number=17, values=[0.12422148731434057], datetime_start=datetime.datetime(2022, 4, 13, 6, 58, 15, 889780), datetime_complete=datetime.datetime(2022, 4, 13, 6, 58, 32, 352252), params={'C': 1.9771010635918789, 'gamma': 123.90946391809953}, distributions={'C': UniformDistribution(high=100.0, low=0.1), 'gamma': UniformDistribution(high=200.0, low=1.0)}, user_attrs={}, system_attrs={}, intermediate_values={}, trial_id=17, state=TrialState.COMPLETE, value=None)\n"
     ]
    }
   ],
   "source": [
    "study = optuna.create_study(sampler=optuna.samplers.RandomSampler(0))\n",
    "study.optimize(lambda trial: objective(trial, x_transform, t, cv), n_trials=n_trials)\n",
    "print(study.best_trial)"
   ]
  },
  {
   "cell_type": "markdown",
   "metadata": {
    "id": "Eqpj9cfNwwQ0"
   },
   "source": [
    "Cは値が小さくなるほど、精度向上に関連がありそうです。  \n",
    "gammaに関してはどのあたりの値がいいのかはまだわからないです。  \n",
    "Cの値でグリッドサーチを実行し、チューニングしてみます。"
   ]
  },
  {
   "cell_type": "code",
   "execution_count": null,
   "metadata": {
    "colab": {
     "base_uri": "https://localhost:8080/"
    },
    "id": "XserpGKmw1JQ",
    "outputId": "8cabad51-dfb0-4f0f-c9d5-d6bf5c128a9c"
   },
   "outputs": [
    {
     "name": "stdout",
     "output_type": "stream",
     "text": [
      "C:[0.1 0.2 0.3 0.4 0.5 0.6 0.7 0.8 0.9 1. ], cv:5\n"
     ]
    }
   ],
   "source": [
    "# チューニングするモデルの宣言\n",
    "estimator = SVC(random_state=0)\n",
    "\n",
    "# チューニングを行うハイパーパラメータとその範囲の指定\n",
    "C = np.linspace(0.1, 1, 10, dtype=float)\n",
    "param_grid = [\n",
    "    {'C' : C}\n",
    "]\n",
    "cv = 5\n",
    "print('C:{}, cv:{}'.format(C, cv))"
   ]
  },
  {
   "cell_type": "code",
   "execution_count": null,
   "metadata": {
    "colab": {
     "base_uri": "https://localhost:8080/"
    },
    "id": "HzH3bZTvxAev",
    "outputId": "f1370cfb-19de-44e1-b028-23c0547e435b"
   },
   "outputs": [
    {
     "name": "stdout",
     "output_type": "stream",
     "text": [
      "{'C': 0.5} 0.8980669818353111\n"
     ]
    }
   ],
   "source": [
    "# モデルの定義\n",
    "tuned_model = GridSearchCV(estimator=estimator, param_grid=param_grid, cv=cv, return_train_score=False, n_jobs=-1)\n",
    "\n",
    "# モデルの学習\n",
    "tuned_model.fit(x_transform, t)\n",
    "\n",
    "# 最適なモデルの確認\n",
    "print(tuned_model.best_params_, tuned_model.best_score_)"
   ]
  },
  {
   "cell_type": "code",
   "execution_count": null,
   "metadata": {
    "colab": {
     "base_uri": "https://localhost:8080/"
    },
    "id": "PUF_AVsaxFfr",
    "outputId": "812ffd9c-e3d6-4cd8-823a-34b8483de2dc"
   },
   "outputs": [
    {
     "data": {
      "text/plain": [
       "SVC(C=0.5, random_state=0)"
      ]
     },
     "execution_count": 93,
     "metadata": {},
     "output_type": "execute_result"
    }
   ],
   "source": [
    "# 最適なモデルの引き継ぎ\n",
    "best_model = tuned_model.best_estimator_\n",
    "best_model"
   ]
  },
  {
   "cell_type": "markdown",
   "metadata": {
    "id": "0CVcYu-mxF4_"
   },
   "source": [
    "少しですが、精度向上ができました。  \n",
    "このようにチューニングを繰り返すことによって、精度向上を行う事ができます。  \n",
    "しかし、あくまでモデルの作成意義は新たなデータに対して、正しく推論できる事です。  \n",
    "\n",
    "モデルのチューニングも重要ですが、過学習が起きていないかも注意しましょう。"
   ]
  },
  {
   "cell_type": "markdown",
   "metadata": {
    "id": "i1AvirDqxJfE"
   },
   "source": [
    "## テストデータで評価"
   ]
  },
  {
   "cell_type": "markdown",
   "metadata": {
    "id": "BVy6SL8wxM9S"
   },
   "source": [
    "テストデータに対して、どれくらいの精度になっていることを確認しましょう。"
   ]
  },
  {
   "cell_type": "code",
   "execution_count": null,
   "metadata": {
    "colab": {
     "base_uri": "https://localhost:8080/",
     "height": 112
    },
    "id": "4n2Z-SAgxPu0",
    "outputId": "5799507d-4b5b-4215-b17f-9d029fba3cdd"
   },
   "outputs": [
    {
     "data": {
      "text/html": [
       "\n",
       "  <div id=\"df-b782816b-2ece-41b3-aec6-5dab88584520\">\n",
       "    <div class=\"colab-df-container\">\n",
       "      <div>\n",
       "<style scoped>\n",
       "    .dataframe tbody tr th:only-of-type {\n",
       "        vertical-align: middle;\n",
       "    }\n",
       "\n",
       "    .dataframe tbody tr th {\n",
       "        vertical-align: top;\n",
       "    }\n",
       "\n",
       "    .dataframe thead th {\n",
       "        text-align: right;\n",
       "    }\n",
       "</style>\n",
       "<table border=\"1\" class=\"dataframe\">\n",
       "  <thead>\n",
       "    <tr style=\"text-align: right;\">\n",
       "      <th></th>\n",
       "      <th>age</th>\n",
       "      <th>job</th>\n",
       "      <th>marital</th>\n",
       "      <th>education</th>\n",
       "      <th>default</th>\n",
       "      <th>balance</th>\n",
       "      <th>housing</th>\n",
       "      <th>loan</th>\n",
       "      <th>pdays</th>\n",
       "      <th>previous</th>\n",
       "      <th>poutcome</th>\n",
       "      <th>result</th>\n",
       "    </tr>\n",
       "  </thead>\n",
       "  <tbody>\n",
       "    <tr>\n",
       "      <th>0</th>\n",
       "      <td>55.0</td>\n",
       "      <td>self-employed</td>\n",
       "      <td>married</td>\n",
       "      <td>tertiary</td>\n",
       "      <td>no</td>\n",
       "      <td>1810</td>\n",
       "      <td>yes</td>\n",
       "      <td>no</td>\n",
       "      <td>-1.0</td>\n",
       "      <td>0</td>\n",
       "      <td>unknown</td>\n",
       "      <td>fail</td>\n",
       "    </tr>\n",
       "    <tr>\n",
       "      <th>1</th>\n",
       "      <td>54.0</td>\n",
       "      <td>management</td>\n",
       "      <td>married</td>\n",
       "      <td>tertiary</td>\n",
       "      <td>no</td>\n",
       "      <td>364</td>\n",
       "      <td>yes</td>\n",
       "      <td>no</td>\n",
       "      <td>-1.0</td>\n",
       "      <td>0</td>\n",
       "      <td>unknown</td>\n",
       "      <td>fail</td>\n",
       "    </tr>\n",
       "  </tbody>\n",
       "</table>\n",
       "</div>\n",
       "      <button class=\"colab-df-convert\" onclick=\"convertToInteractive('df-b782816b-2ece-41b3-aec6-5dab88584520')\"\n",
       "              title=\"Convert this dataframe to an interactive table.\"\n",
       "              style=\"display:none;\">\n",
       "        \n",
       "  <svg xmlns=\"http://www.w3.org/2000/svg\" height=\"24px\"viewBox=\"0 0 24 24\"\n",
       "       width=\"24px\">\n",
       "    <path d=\"M0 0h24v24H0V0z\" fill=\"none\"/>\n",
       "    <path d=\"M18.56 5.44l.94 2.06.94-2.06 2.06-.94-2.06-.94-.94-2.06-.94 2.06-2.06.94zm-11 1L8.5 8.5l.94-2.06 2.06-.94-2.06-.94L8.5 2.5l-.94 2.06-2.06.94zm10 10l.94 2.06.94-2.06 2.06-.94-2.06-.94-.94-2.06-.94 2.06-2.06.94z\"/><path d=\"M17.41 7.96l-1.37-1.37c-.4-.4-.92-.59-1.43-.59-.52 0-1.04.2-1.43.59L10.3 9.45l-7.72 7.72c-.78.78-.78 2.05 0 2.83L4 21.41c.39.39.9.59 1.41.59.51 0 1.02-.2 1.41-.59l7.78-7.78 2.81-2.81c.8-.78.8-2.07 0-2.86zM5.41 20L4 18.59l7.72-7.72 1.47 1.35L5.41 20z\"/>\n",
       "  </svg>\n",
       "      </button>\n",
       "      \n",
       "  <style>\n",
       "    .colab-df-container {\n",
       "      display:flex;\n",
       "      flex-wrap:wrap;\n",
       "      gap: 12px;\n",
       "    }\n",
       "\n",
       "    .colab-df-convert {\n",
       "      background-color: #E8F0FE;\n",
       "      border: none;\n",
       "      border-radius: 50%;\n",
       "      cursor: pointer;\n",
       "      display: none;\n",
       "      fill: #1967D2;\n",
       "      height: 32px;\n",
       "      padding: 0 0 0 0;\n",
       "      width: 32px;\n",
       "    }\n",
       "\n",
       "    .colab-df-convert:hover {\n",
       "      background-color: #E2EBFA;\n",
       "      box-shadow: 0px 1px 2px rgba(60, 64, 67, 0.3), 0px 1px 3px 1px rgba(60, 64, 67, 0.15);\n",
       "      fill: #174EA6;\n",
       "    }\n",
       "\n",
       "    [theme=dark] .colab-df-convert {\n",
       "      background-color: #3B4455;\n",
       "      fill: #D2E3FC;\n",
       "    }\n",
       "\n",
       "    [theme=dark] .colab-df-convert:hover {\n",
       "      background-color: #434B5C;\n",
       "      box-shadow: 0px 1px 3px 1px rgba(0, 0, 0, 0.15);\n",
       "      filter: drop-shadow(0px 1px 2px rgba(0, 0, 0, 0.3));\n",
       "      fill: #FFFFFF;\n",
       "    }\n",
       "  </style>\n",
       "\n",
       "      <script>\n",
       "        const buttonEl =\n",
       "          document.querySelector('#df-b782816b-2ece-41b3-aec6-5dab88584520 button.colab-df-convert');\n",
       "        buttonEl.style.display =\n",
       "          google.colab.kernel.accessAllowed ? 'block' : 'none';\n",
       "\n",
       "        async function convertToInteractive(key) {\n",
       "          const element = document.querySelector('#df-b782816b-2ece-41b3-aec6-5dab88584520');\n",
       "          const dataTable =\n",
       "            await google.colab.kernel.invokeFunction('convertToInteractive',\n",
       "                                                     [key], {});\n",
       "          if (!dataTable) return;\n",
       "\n",
       "          const docLinkHtml = 'Like what you see? Visit the ' +\n",
       "            '<a target=\"_blank\" href=https://colab.research.google.com/notebooks/data_table.ipynb>data table notebook</a>'\n",
       "            + ' to learn more about interactive tables.';\n",
       "          element.innerHTML = '';\n",
       "          dataTable['output_type'] = 'display_data';\n",
       "          await google.colab.output.renderOutput(dataTable, element);\n",
       "          const docLink = document.createElement('div');\n",
       "          docLink.innerHTML = docLinkHtml;\n",
       "          element.appendChild(docLink);\n",
       "        }\n",
       "      </script>\n",
       "    </div>\n",
       "  </div>\n",
       "  "
      ],
      "text/plain": [
       "    age            job  marital education default  balance housing loan  \\\n",
       "0  55.0  self-employed  married  tertiary      no     1810     yes   no   \n",
       "1  54.0     management  married  tertiary      no      364     yes   no   \n",
       "\n",
       "   pdays  previous poutcome result  \n",
       "0   -1.0         0  unknown   fail  \n",
       "1   -1.0         0  unknown   fail  "
      ]
     },
     "execution_count": 94,
     "metadata": {},
     "output_type": "execute_result"
    }
   ],
   "source": [
    "df_test = pd.read_csv('/content/bank_test (1).csv')\n",
    "df_test.head(2)"
   ]
  },
  {
   "cell_type": "code",
   "execution_count": null,
   "metadata": {
    "colab": {
     "base_uri": "https://localhost:8080/"
    },
    "id": "7v3ovtjfxwst",
    "outputId": "5b141d2c-5a8c-418f-e2be-eeab52e1fe3e"
   },
   "outputs": [
    {
     "data": {
      "text/plain": [
       "age           35\n",
       "job            8\n",
       "marital       45\n",
       "education      0\n",
       "default       62\n",
       "balance        0\n",
       "housing      114\n",
       "loan          24\n",
       "pdays         79\n",
       "previous       0\n",
       "poutcome     152\n",
       "result         0\n",
       "dtype: int64"
      ]
     },
     "execution_count": 95,
     "metadata": {},
     "output_type": "execute_result"
    }
   ],
   "source": [
    "df_test.isnull().sum()"
   ]
  },
  {
   "cell_type": "markdown",
   "metadata": {
    "id": "A7ngnIZ1x1lr"
   },
   "source": [
    "推論を行う際には訓練データに適用した前処理と同じ前処理を適用する必要があります。  \n",
    "学習時から下記のように関数にまとめておくと、いいでしょう。  \n",
    "データフレームを関数に渡すと、xとtが取得できる関数を作成しました。"
   ]
  },
  {
   "cell_type": "code",
   "execution_count": null,
   "metadata": {
    "id": "hCqSUrlMx4kg"
   },
   "outputs": [],
   "source": [
    "def prepare_data(df):\n",
    "\n",
    "    #  Jobの欠損値補完\n",
    "    df = df.fillna({'job':'unknown'})\n",
    "\n",
    "    # Ageの欠損値補完\n",
    "    df = df.fillna({'age':df['age'].mean()})\n",
    "\n",
    "    #  Maritalの欠損値補完\n",
    "    marital_null = df[df['marital'].isnull()][['job', 'marital']]\n",
    "    df.loc[(df['marital'].isnull()) & (df['job'] == 'student'), 'marital'] = 'single'\n",
    "    df.loc[(df['marital'].isnull()) & (df['job'] == 'blue-collar'), 'marital'] = 'married'\n",
    "\n",
    "    # Defaultの欠損値補完\n",
    "    df['default'] = df['default'].fillna(df['default'].mode()[0])\n",
    "\n",
    "    # Hosingの欠損値補完\n",
    "    df.loc[(df['housing'].isnull()) & ((df['job'] == 'student') | (df['job'] == 'retired')), 'housing'] = 'no'\n",
    "    df = df.fillna({'housing':'yes'})\n",
    "\n",
    "    # Pdaysの欠損値補完\n",
    "    df = df.fillna({'pdays':df['pdays'].min()})\n",
    "\n",
    "    # Poutcomeの欠損値補完\n",
    "    df = df.fillna({'poutcome':'unknown'})\n",
    "\n",
    "    #  Loanの欠損値補完\n",
    "    df = df.fillna({'loan':'no'})\n",
    "\n",
    "    # Label Encoding\n",
    "    str_uni = df.select_dtypes(include='object').nunique()\n",
    "    col_le = str_uni[str_uni == 2].index\n",
    "    for col in col_le:\n",
    "        le = LabelEncoder()\n",
    "        df[col] = le.fit_transform(df[col])\n",
    "\n",
    "    # One-Hot Encoding\n",
    "    df = pd.get_dummies(df)\n",
    "\n",
    "    # x, tの切り分け\n",
    "    t = df['result'].values\n",
    "    x = df.drop(['result'], axis=1).values\n",
    "\n",
    "    # 標準化\n",
    "    x = scaler.transform(x)\n",
    "\n",
    "    return x, t"
   ]
  },
  {
   "cell_type": "code",
   "execution_count": null,
   "metadata": {
    "colab": {
     "base_uri": "https://localhost:8080/"
    },
    "id": "uK7_ZXXfyG9d",
    "outputId": "d382dfd8-8696-4add-cd25-f6eecc9c36aa"
   },
   "outputs": [
    {
     "data": {
      "text/plain": [
       "((15000, 30), (15000,))"
      ]
     },
     "execution_count": 97,
     "metadata": {},
     "output_type": "execute_result"
    }
   ],
   "source": [
    "# 関数の実行\n",
    "x_test, t_test = prepare_data(df_test)\n",
    "\n",
    "x_test.shape, t_test.shape"
   ]
  },
  {
   "cell_type": "code",
   "execution_count": null,
   "metadata": {
    "colab": {
     "base_uri": "https://localhost:8080/"
    },
    "id": "UeNF7Q2pyKuP",
    "outputId": "19a8b65b-ccc9-4895-8d73-c01d8f8d016b"
   },
   "outputs": [
    {
     "data": {
      "text/plain": [
       "False"
      ]
     },
     "execution_count": 98,
     "metadata": {},
     "output_type": "execute_result"
    }
   ],
   "source": [
    "# 欠損値の確認\n",
    "np.any(np.isnan(x_test))"
   ]
  },
  {
   "cell_type": "code",
   "execution_count": null,
   "metadata": {
    "colab": {
     "base_uri": "https://localhost:8080/"
    },
    "id": "NM2478KWyMdr",
    "outputId": "dcf2cd47-9759-4af4-9296-cf281723ccc8"
   },
   "outputs": [
    {
     "data": {
      "text/plain": [
       "array([0, 1])"
      ]
     },
     "execution_count": 99,
     "metadata": {},
     "output_type": "execute_result"
    }
   ],
   "source": [
    "# ラベルが0と1であることを確認\n",
    "np.unique(t_test)"
   ]
  },
  {
   "cell_type": "markdown",
   "metadata": {
    "id": "Qn2M1IB5yOdk"
   },
   "source": [
    "### Accuracy の確認"
   ]
  },
  {
   "cell_type": "code",
   "execution_count": null,
   "metadata": {
    "colab": {
     "base_uri": "https://localhost:8080/"
    },
    "id": "waPhISrsySpe",
    "outputId": "e230bce4-d747-4b0a-83c0-d2791d26568f"
   },
   "outputs": [
    {
     "data": {
      "text/plain": [
       "0.8918"
      ]
     },
     "execution_count": 100,
     "metadata": {},
     "output_type": "execute_result"
    }
   ],
   "source": [
    "best_model.score(x_test, t_test)"
   ]
  },
  {
   "cell_type": "markdown",
   "metadata": {
    "id": "cReV0HOWyUWH"
   },
   "source": [
    "精度を確認する事ができました。  "
   ]
  },
  {
   "cell_type": "markdown",
   "metadata": {
    "id": "ggfyd96OzgjS"
   },
   "source": [
    "\n",
    "まだこの問題に対して、精度をあげる方法としては、特徴量エンジニアリングなどの前処理、その他の手法の試行など様々な方法が考えられます。  \n",
    "この講義が終わった後も、色々試行錯誤して見てください。  \n",
    "\n",
    "これで演習課題は終了です。お疲れ様でした。"
   ]
  }
 ],
 "metadata": {
  "colab": {
   "collapsed_sections": [],
   "provenance": []
  },
  "kernelspec": {
   "display_name": "Python 3.9.7 64-bit",
   "language": "python",
   "name": "python3"
  },
  "language_info": {
   "codemirror_mode": {
    "name": "ipython",
    "version": 3
   },
   "file_extension": ".py",
   "mimetype": "text/x-python",
   "name": "python",
   "nbconvert_exporter": "python",
   "pygments_lexer": "ipython3",
   "version": "3.9.7"
  },
  "vscode": {
   "interpreter": {
    "hash": "b0fa6594d8f4cbf19f97940f81e996739fb7646882a419484c72d19e05852a7e"
   }
  }
 },
 "nbformat": 4,
 "nbformat_minor": 4
}
