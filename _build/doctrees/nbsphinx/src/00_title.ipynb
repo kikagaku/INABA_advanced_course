{
 "cells": [
  {
   "cell_type": "markdown",
   "metadata": {},
   "source": [
    "# -- Python 速習とテーブルデータの操作 --"
   ]
  }
 ],
 "metadata": {
  "kernelspec": {
   "display_name": "Python 3",
   "language": "python",
   "name": "python3"
  },
  "language_info": {
   "codemirror_mode": {
    "name": "ipython",
    "version": 3
   },
   "file_extension": ".py",
   "mimetype": "text/x-python",
   "name": "python",
   "nbconvert_exporter": "python",
   "pygments_lexer": "ipython3",
   "version": "3.9.13"
  },
  "vscode": {
   "interpreter": {
    "hash": "85ded53a4632d0fbc5d54bf94fd715a65f624e21c04f36303c0306fb5fc4443f"
   }
  }
 },
 "nbformat": 4,
 "nbformat_minor": 4
}
