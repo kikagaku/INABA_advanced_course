{
 "cells": [
  {
   "cell_type": "markdown",
   "metadata": {
    "id": "hTa1J8eM9D8h"
   },
   "source": [
    "# Google Colaboratory 実習\n"
   ]
  },
  {
   "cell_type": "markdown",
   "metadata": {
    "id": "Z3SkyZ0-9D8m"
   },
   "source": [
    "## Google Colaboratory の基本 \n",
    "本講義で使用するコードを実行するにあたって Google Colaboratory というサービスの利用を推奨します。  \n",
    "\n",
    "Google Colaboratory（以下 Colab ）は、クラウド上で [Jupyter Notebook](https://jupyter.org/) 環境を提供する Google のウェブサービスです。Jupyter Notebook はブラウザ上で主に以下のようなことが可能なオープンソースのウェブアプリケーションであり、データ分析の現場や研究、教育などで広く用いられています。  \n",
    "\n",
    "- プログラムの実行と、その結果の確認\n",
    "- Markdown と呼ばれる文章を記述するためのマークアップ言語を使った、メモや解説などの記述の追加\n",
    "\n",
    "Colab では無料で GPU も使用することができますが、そのランタイムは最大 12 時間で消えてしまうため、長時間を要する処理などは別途環境を用意する必要があります。しかし学びはじめのうちは、数分から数時間程度で終わる処理がほとんどであるため、気にする必要はありませんが、本格的に使っていく場合は有料のクラウドサービスを利用するなどして、環境を整えるようにしましょう。有料版を検討される場合はキカガク技術ブログの記事（[Google Colab 有料版の料金と内容は？](https://blog.kikagaku.co.jp/google-colab-newplan)）を参考にして下さい。  \n",
    "\n",
    "\n",
    "\n",
    "以降では、環境構築と基本的な使い方を説明します。"
   ]
  },
  {
   "cell_type": "markdown",
   "metadata": {
    "id": "Hrimp6fl9D8m"
   },
   "source": [
    "## 環境構築"
   ]
  },
  {
   "cell_type": "markdown",
   "metadata": {
    "id": "uzfZ-avp9D8m"
   },
   "source": [
    "\n",
    "\n",
    "ここではまず、**Google Colaboratory** の利用方法を説明します。必要な事前準備は下記 ２ 点です。\n",
    "\n",
    "- Google アカウント（お持ちでない場合は[こちら](https://accounts.google.com/signup/v2/webcreateaccount?flowName=GlifWebSignIn&flowEntry=SignUp)から作成）\n",
    "- [Chrome](https://www.google.com/chrome/) もしくは [Firefox](https://www.mozilla.org/ja/firefox/new/) のインストール\n",
    "\n",
    "ブラウザはどちらでも大丈夫ですが、Chrome を推奨します。"
   ]
  },
  {
   "cell_type": "markdown",
   "metadata": {
    "id": "QQqf7dMj9D8n"
   },
   "source": [
    "#### Colab を開く\n",
    "\n",
    "まずは以下の URL にアクセスして、ブラウザで Google を開き、自分のアカウントにログインしてください。  \n",
    "\n",
    "https://www.google.com/  \n",
    "\n",
    "ログインが完了したら、下記に沿って、Google Drive のページに移動します。Google Drive とはファイルなどを保存することのできるオンラインストレージサービスになります。\n",
    "\n",
    "![08](img/08.png)\n",
    "\n",
    "Google Drive の右上にある「新規」ボタンをクリックし、下記の手順に沿って、Google Colaboratory を使用できるようにアプリの追加を行います。\n",
    "\n",
    "![09](img/09.png)\n",
    "\n",
    "![10](img/10.png)\n",
    "\n",
    "![11_1](img/11_1.png)\n",
    "\n",
    "これで Google Drive から Colab を使用することができるようになりました。  \n",
    "Google Drive 内に作業フォルダを作業して、資料をアップロードしましょう。フォルダの作成やファイルのアップロードを行うためには画面上で右クリックすると、選択肢が表示されます。\n",
    "\n",
    "![12](img/12.png)\n",
    "\n",
    "![13](img/13.png)\n",
    "\n",
    "アップロードしたファイルをクリックし、ファイルを開きます。下記の画面が表示されればプログラミングを開始することができます。\n",
    "\n",
    "![14](img/14.png)\n",
    "\n",
    "プログラミングを開始するためには右上にある「接続」ボタンをクリックし、ノートブックをサーバーに接続します。  \n",
    "\n",
    "もし、新規のノートブックを開く際には、下記の手順に沿ってファイルを作成します。\n",
    "\n",
    "![15](img/15.png)"
   ]
  },
  {
   "cell_type": "markdown",
   "metadata": {
    "id": "PgisNn1c9D8n"
   },
   "source": [
    "## Colab の基本的な使い方\n",
    "\n",
    "Colab 上の Jupyter Notebook を以降、単に**ノートブック**と呼びます。  \n",
    "\n"
   ]
  },
  {
   "cell_type": "markdown",
   "metadata": {
    "id": "PhPjzlLZ9D8n"
   },
   "source": [
    "### コードセルとテキストセル\n",
    "\n",
    "ノートブックは、複数の**セル**と呼ばれるブロックを持つことができます。 新しいノートブックを作った直後では、何も書かれていないセルが一つだけ存在している状態になっています。 セルの内側のどこかをクリックすると、そのセルを選択することができます。  \n",
    "\n",
    "セルには、**コードセル**と**テキストセル**の 2 種類があります。コードセルは Python のコードを書き込み、実行するためのセルであり、テキストセルは、Markdown 形式で文章を書くためのセルです。  \n",
    "\n",
    "それぞれのセルタイプについてもう少し詳しく説明をします。\n",
    "\n"
   ]
  },
  {
   "cell_type": "markdown",
   "metadata": {
    "id": "3xbIh3HpVzlW"
   },
   "source": [
    "#### コードセル  \n",
    "コードセルは、Python のコードを書き込み、実行することができるセルです。 実行するには、コードセルを選択した状態で、`Ctrl + Enter` または `Shift + Enter` を押します。 試しに、下のセルを選択して、`Shift + Enter` を押してみてください。"
   ]
  },
  {
   "cell_type": "code",
   "execution_count": null,
   "metadata": {
    "id": "mGonCIfY9D8n",
    "outputId": "0925e65c-4ac5-4bc0-b3ef-e1547b46f428"
   },
   "outputs": [
    {
     "name": "stdout",
     "output_type": "stream",
     "text": [
      "Hello world!\n"
     ]
    }
   ],
   "source": [
    "print('Hello world!')"
   ]
  },
  {
   "cell_type": "markdown",
   "metadata": {
    "id": "5kguFd1E9D8o"
   },
   "source": [
    "すぐ下に、Hello world! という文字列が表示されました。上のセルに書き込まれているのは Python のコードで、与えられた文字列を表示する関数である `print()` に、`'Hello world!'` という文字列を渡しています。これを実行したため、その結果が下に表示されています。  \n"
   ]
  },
  {
   "cell_type": "markdown",
   "metadata": {
    "id": "VAOeADur9D8o"
   },
   "source": [
    "#### テキストセル  \n",
    "\n",
    "テキストセルでは、Markdown 形式で記述された文章を扱います。試しに、このセルをダブルクリックしてみてください。テキストセルが編集モードになり、Markdown 形式で文章を装飾するための、先程までは表示されていなかった記号が見えるようになります。  \n",
    "\n",
    "その状態で `Shift + Enter` を押してみましょう。元の文章の表示に戻ります。"
   ]
  },
  {
   "cell_type": "markdown",
   "metadata": {
    "id": "AL481RDJ19iS"
   },
   "source": [
    "### ファイルの読み込みとダウンロード"
   ]
  },
  {
   "cell_type": "markdown",
   "metadata": {
    "id": "rZo5McHO2THx"
   },
   "source": [
    "#### ファイルをアップロードする方法\n",
    "\n",
    "ノートブック上にファイルをアップロードする方法は非常に簡単です。  \n",
    "以下の csv ファイルをダウンロードし、ノートブック上へアップロードしてみましょう。  \n",
    "\n",
    "・  [matrix_01.csv](data/matrix_01.csv)\n",
    "\n",
    "\n",
    "**ノートブック上に直接アップロード**  \n",
    "\n",
    "資料では、画像ファイルのアップロードを行いますが、CSV やテキストなどのファイルも基本的に同じ方法でアップロードできます。  \n",
    "\n",
    "1. 左サイドバーに表示されているファイルマークをクリックします。  \n",
    "![05_1](img/05_1.png)  \n",
    "\n",
    "2. 表示されたサイドバーに、ファイルをドラッグ & ドロップしましょう。  \n",
    "（画像ファイルで行っていますが、csv ファイルも同じ方法でアップロードできます。）  \n",
    "![05_2](img/05_2.gif)  \n",
    "\n",
    "3. アップロードが完了すると下図のようにファイル名が表示されます。  \n",
    "![05_3](img/05_3.png)  \n",
    "\n",
    "4. 中身を確認したい時は、ファイルをクリックしましょう。右サイドバーでファイルの中身が確認できます。  \n",
    "![05_4](img/05_4.png)  \n",
    "\n",
    "**【参考】Google Drive にマウントする方法**  \n",
    "\n",
    "1. 左サイドバーに表示されているファイルマークをクリックします。  \n",
    "![05_5](img05_5.png)  \n",
    "\n",
    "2. Google Drive のマークをクリックします。  \n",
    "![05_6](img/05_6.png)  \n",
    "\n",
    "3. Google Drive へのアクセスを許可します。  \n",
    "![05_7](img/05_7.png)  \n",
    "\n",
    "4. 「コードを実行して下さい。」というメッセージが出たらコードを実行して下さい。  \n",
    "（表示されない場合はそのまま次のステップへ進んで下さい。）   \n",
    "\n",
    "5. サイドバー内に Drive が表示されていれば接続ができており、ドライブ内のファイルが確認できます。  \n",
    "![05_9](img/05_9.png)  "
   ]
  },
  {
   "cell_type": "markdown",
   "metadata": {
    "id": "ZCmLUk752TKZ"
   },
   "source": [
    "#### アップロードしたファイルを読み込む\n",
    "\n",
    "アップロードできたファイルをノートブック上で読み込んでみましょう。  \n",
    "\n",
    "**csv ファイルの読み込み**  \n",
    "\n",
    "ノートブック上で以下のコードを実行すると df という変数名で csv データの読み込みを行うことができます。  \n"
   ]
  },
  {
   "cell_type": "code",
   "execution_count": null,
   "metadata": {
    "id": "tl9jdPFhpfCO"
   },
   "outputs": [],
   "source": [
    "import pandas as pd\n",
    "df = pd.read_csv('matrix_01.csv')"
   ]
  },
  {
   "cell_type": "markdown",
   "metadata": {
    "id": "5sKUH9Z0p9tR"
   },
   "source": [
    "`pd.read_csv('ファイルパス')` で読み込むことができます。  \n",
    "ファイルパスの取得方法は本講義資料 Tips の「ファイルパスを取得する方法」を参考にして下さい。  \n",
    "Excel ファイルを読み込みたい場合は `pd.read_excel('ファイルパス')` を使用します。読み込みを行う際の詳細な設定については以下の参考資料に記入しています。  \n",
    "【参考：[Python でExcel を読み込む方法](https://blog.kikagaku.co.jp/python-excel)】\n",
    "\n",
    "では、読み込んだデータを表示させてみましょう。  \n",
    "`df.head()` で先頭 5 行を表示させることができます。"
   ]
  },
  {
   "cell_type": "code",
   "execution_count": null,
   "metadata": {
    "id": "oTc48fqYp4b-"
   },
   "outputs": [],
   "source": [
    "df.head()"
   ]
  },
  {
   "cell_type": "markdown",
   "metadata": {
    "id": "1cfA1CIjqqVm"
   },
   "source": [
    "データがノートブック上で読み込めていることを確認できました。  \n",
    "読み込んだデータは距離行列のデータとなっています。詳しい見方はルート最適化を行う際に解説しますが、各地点ごとの距離を表しているデータです。 \n",
    "\n"
   ]
  },
  {
   "cell_type": "markdown",
   "metadata": {
    "id": "_IpKBKBjQDff"
   },
   "source": [
    "#### データを書き出してダウンロードする方法\n",
    "ノートブックで扱ったデータを csv ファイルとして書き出して、サイドバーからダウンロードすることができます。  \n",
    "\n",
    "**データの書き出し**  \n",
    "\n",
    "まずは、データの書き出しを行います。  \n",
    "`df.to_csv('ファイル名.csv')` でデータを csv ファイルとして書き出すことができます。  \n",
    "Excel ファイルとして書き出したい場合は `df.to_excel('ファイル名.excel')` を実行します。"
   ]
  },
  {
   "cell_type": "code",
   "execution_count": null,
   "metadata": {
    "id": "_ujncACjuT8f"
   },
   "outputs": [],
   "source": [
    "df.to_csv('test.csv', index=None)"
   ]
  },
  {
   "cell_type": "markdown",
   "metadata": {
    "id": "qtZg6pWDDE5c"
   },
   "source": [
    "test.csv という名前のファイルがサイドバーに表示されていれば書き出すことができています。"
   ]
  },
  {
   "cell_type": "markdown",
   "metadata": {
    "id": "thRnFpzSuULP"
   },
   "source": [
    "**書き出したデータのダウンロード**  \n",
    "\n",
    "書き出したデータをダウンロードする手順を解説します。  \n",
    "\n",
    "1. サイドバー上のファイル名にカーソルを当てます。  \n",
    "すると、3 つのドットが縦に並んだアイコンが表示されるので、そちらをクリックしましょう。  \n",
    "![06_1](img/06_1.png)  \n",
    "\n",
    "2. 「ダウンロード」をクリックすると、ファイルをダウンロードできます。  \n",
    "![06_2](img/06_2.png)  \n",
    "\n",
    "**コードまとめ**  \n",
    "\n",
    "ファイルの読み込みから書き出しのコードです。  \n",
    "\n",
    "| 説明                 | コード     |\n",
    "| -------------------- | ------------ |\n",
    "| csv ファイル読み込み | `pd.read_csv('ファイルパス')` |\n",
    "| Excel ファイル読み込み | `pd.read_excel('ファイルパス')` |\n",
    "| csv ファイル書き出し | `変数名.to_csv('ファイル名.csv', index=None)` |\n",
    "| Excel ファイル書き出し | `変数名.to_excel('ファイル名.xlsx')` |"
   ]
  },
  {
   "cell_type": "markdown",
   "metadata": {
    "id": "3M2i54L1X0e5"
   },
   "source": [
    "### ノートブックを共同編集する方法\n",
    "\n",
    "作成したノートブックを共有または、共同編集することもできます。  \n",
    "\n",
    "1. 共有をクリックします。  \n",
    "![07_1](img/07_1.png)  \n",
    "\n",
    "2. 一般的なアクセスを「リンクを知っている全員」に変更します。  \n",
    "\n",
    "3. 役割を「編集者」に変更します。  \n",
    "（閲覧者を選択すると閲覧だけの権限で共有することができます。）  \n",
    "\n",
    "4. リンクをコピーをクリックしてコピーされたリンクを共有するだけでリンクを知っている人が共同編集することが可能になります。  \n",
    "![07_2](img/07_2.png)\n",
    "\n",
    "本講義では使用しませんが、以下画像の赤枠内に相手を追加することで指定した相手とだけ共同編集を可能にすることもできます。  \n",
    "![07_3](img/07_3.png)\n",
    "\n"
   ]
  },
  {
   "cell_type": "markdown",
   "metadata": {
    "id": "ZjhcV-t-Vm52"
   },
   "source": [
    "### プチ演習\n",
    "\n",
    "先程使用した `matrix_01.csv` ファイルを手順の内容を行い提出をして下さい。  \n",
    "\n",
    "**手順**  \n",
    "1. `matrix_01.csv` ファイルを `df` として読み込む  \n",
    "\n",
    "2. データを各地点の距離から時間に変更し `df_time` という変数名で定義する  \n",
    "  ```\n",
    "  # 時速 40 km で各地点間を移動した場合の時間へ変更\n",
    "  df_time = df / 40\n",
    "  ```\n",
    "\n",
    "3. `df_time` に格納したデータを `matrix_氏名.csv` として書き出す  \n",
    "\n",
    "4. 以下の内容を指定した Teams の指定されたスレッド内に提出する  \n",
    "　・書き出された `matrix_氏名.csv` ファイル  \n",
    "　・コーディングを行ったノートブックの URL（編集権限を「リンクを知っている全員」に変更して下さい）  \n"
   ]
  },
  {
   "cell_type": "markdown",
   "metadata": {
    "id": "_DnAo7HS9D8o"
   },
   "source": [
    "### GPU を使用する\n",
    "\n",
    "Colab では GPU を無料で使用することができます。初期設定では GPU を使用しない設定となっているため、GPU を使用する場合は設定を変更する必要があります。  GPU を使用する場合は、以下の手順で設定の変更を行って下さい。  \n",
    "\n",
    "1. 画面上部のタブの中の 「Runtime」 (または「ランタイム」) をクリックし、「Change runtime type」 (または「ランタイムのタイプを変更」)を選択します。  \n",
    "![15_5](img/15_5.png)  \n",
    "\n",
    "2. 下記の画像の様に 「Hardware accelerator」 (または「ハードウェアアクセラレータ」)を GPU に変更します。  \n",
    "![15_6](img/15_6.png)  \n",
    "\n",
    "これで Colab 上で GPU を使用できるようになりました。"
   ]
  },
  {
   "cell_type": "markdown",
   "metadata": {
    "id": "8ydSs9RueraR"
   },
   "source": [
    "## Tips"
   ]
  },
  {
   "cell_type": "markdown",
   "metadata": {
    "id": "u1YqjPKweo_3"
   },
   "source": [
    "### メモを残す方法\n",
    "\n",
    "テキストセルとコードセルのどちらもメモを残すことができます。  \n",
    "コードセルのメモの残し方と、テキストセルの記入方法を紹介します。  "
   ]
  },
  {
   "cell_type": "markdown",
   "metadata": {
    "id": "l5mDlnxqf-ZB"
   },
   "source": [
    "#### コードセル\n",
    "\n",
    "コメントアウトとは、コード中で実行時に無視したい行やコメントを選択した状態で行う操作です。 Python では、`#` の後に続く文字列は全てコメントとして無視され、実行時に評価されることはありません。  \n",
    "\n",
    "コードに対してメモを残したい時など、コードセル内にコメントを残したい場合に使用します。"
   ]
  },
  {
   "cell_type": "code",
   "execution_count": null,
   "metadata": {
    "id": "PcidI6jNVGOM"
   },
   "outputs": [],
   "source": [
    "# コメント"
   ]
  },
  {
   "cell_type": "markdown",
   "metadata": {
    "id": "jLma8oiYgZeL"
   },
   "source": [
    "#### テキストセル\n",
    "\n",
    "テキストセル内にもコメントを残すことができます。  \n",
    "コードセルとテキストセルの内容でもお伝えしましたが、テキストセルは Markdown 形式で記述された文章を扱います。マークダウンの詳しい書き方は[マークダウンガイド](https://www.markdownguide.org/cheat-sheet/)をご確認ください。  \n",
    "ここでは、 ノートブックが読みやすくなる見出しと箇条書きを紹介します。 \n",
    "\n",
    "![09_1](img/09_1.png)  \n",
    "\n",
    "実行すると以下のように見出しを追加したらい箇条書きを表示できます。\n",
    "\n",
    "![09_2](img/09_2.gif)"
   ]
  },
  {
   "cell_type": "markdown",
   "metadata": {
    "id": "_XSo4poA9D8o"
   },
   "source": [
    "### Colab の便利なショートカット\n",
    "\n",
    "最後に作業効率を向上するために**ショートカットコマンド**を紹介します。Colab を使用中に、セルのタイプの変更やセルの複製・追加などの操作をする場合は、メニューから該当する項目を選ぶ方法以外に、キーボードショートカットを利用する方法もあります。\n",
    "\n",
    "下記によく使うショートカットキーをまとめておきます。  \n",
    "\n",
    "| 説明                 | コマンド     |\n",
    "| -------------------- | ------------ |\n",
    "| セルの実行           | Shift + Enter |\n",
    "| コメントアウト           | Ctrl + / |\n",
    "| コードの補完機能           | Ctrl + Space |\n",
    "| Markdownモードへ変更 | Ctrl + M → M |\n",
    "| Codeモードへ変更     | Ctrl + M → Y |\n",
    "| セルを上に追加       | Ctrl + M → A |\n",
    "| セルを下に追加       | Ctrl + M → B |\n",
    "| セルのコピー         | Ctrl + M → C |\n",
    "| セルの貼り付け       | Ctrl + M → V |\n",
    "| セルの消去           | Ctrl + M → D |\n",
    "\n",
    "Ctrl + M → となっているコマンドは**二段階**になっており、まず `Ctrl + M` を押してから、それぞれの機能によって異なるコマンドを入力する形になっています。 \n",
    "\n",
    "紹介した他にも様々なショートカットキーがあります。ショートカットキーを使うことで作業効率も上がりますので興味がある方は参考の記事をご覧ください。  \n",
    "【参考：[作業が捗るショートカットキーを厳選して紹介！](https://blog.kikagaku.co.jp/google-colaboratory-shortcut)】"
   ]
  },
  {
   "cell_type": "markdown",
   "metadata": {
    "id": "3ammKBQX8sxW"
   },
   "source": [
    "### ファイルパスを取得する方法\n",
    "\n",
    "ファイルパスの取得方法を紹介します。直接打ち込むことも可能ですが、タイプミスが起きやすいためこの後紹介する取得方法を推奨します。  \n",
    "\n",
    "1. サイドバーを開きます。  \n",
    "![05_5](img/05_5.png)  \n",
    "\n",
    "2. パスを取得したいファイルにカーソルをあわせ「︙」をクリックして下さい。  \n",
    "\n",
    "3. 「パスをコピー」をクリックするとファイルのパスを取得することができます。  \n",
    "![06_10](img/06_10.png)  \n",
    "\n"
   ]
  }
 ],
 "metadata": {
  "colab": {
   "collapsed_sections": [],
   "name": "colab.ipynb",
   "provenance": []
  },
  "kernelspec": {
   "display_name": "Python 3",
   "language": "python",
   "name": "python3"
  },
  "language_info": {
   "codemirror_mode": {
    "name": "ipython",
    "version": 3
   },
   "file_extension": ".py",
   "mimetype": "text/x-python",
   "name": "python",
   "nbconvert_exporter": "python",
   "pygments_lexer": "ipython3",
   "version": "3.9.13"
  },
  "vscode": {
   "interpreter": {
    "hash": "31f2aee4e71d21fbe5cf8b01ff0e069b9275f58929596ceb00d14d90e3e16cd6"
   }
  }
 },
 "nbformat": 4,
 "nbformat_minor": 4
}
