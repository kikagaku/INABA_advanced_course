{
 "cells": [
  {
   "cell_type": "markdown",
   "id": "c9e2d5d0-3662-4001-bd08-8011fc6d65ff",
   "metadata": {
    "id": "c9e2d5d0-3662-4001-bd08-8011fc6d65ff"
   },
   "source": [
    "# モデルの精度を保証する実装  "
   ]
  },
  {
   "cell_type": "markdown",
   "id": "uob7Zhx-_dl2",
   "metadata": {
    "id": "uob7Zhx-_dl2"
   },
   "source": [
    "本章では、機械学習モデルの構築のテクニックとして、Cross Validatioｎ（交差検証）と LightGBM の本格的な実装について触れます。LightGBM はテーブルデータを主に扱う際の手法として、予測精度では高い精度が出やすいと言われており、多くのコンペティションなどでも採用されるアルゴリズムです。  \n",
    "\n",
    "本章では、その精度を向上させるためのテクニックと、精度を保証するために必要な Cross Validatioｎ の実装方法について触れます。  \n",
    "\n",
    "**本章の目的**  \n",
    "\n",
    "* Cross Validation の実装方法を理解する  \n",
    "* LightGBM の実践的な実装方法を理解する  \n",
    "\n",
    "**本章で使用するデータセット**   \n",
    "\n",
    "* [Adult Gensus Income](data/adult2.csv)"
   ]
  },
  {
   "cell_type": "markdown",
   "id": "6Bicy-3N_cv0",
   "metadata": {
    "id": "6Bicy-3N_cv0"
   },
   "source": [
    "## Cross Validation とは"
   ]
  },
  {
   "cell_type": "markdown",
   "id": "a5ee597e-51e2-4bef-99a0-4d29318a40e1",
   "metadata": {
    "id": "a5ee597e-51e2-4bef-99a0-4d29318a40e1"
   },
   "source": [
    "\n",
    "\n",
    "Cross Validation とは学習用のデータセットを複数に分割してそれぞれの分割で学習・検証のデータセットを作り、モデルの性能を見積もる枠組みのことです。\n",
    "\n",
    "一番有名なものは KFold と呼ばれるものです。これはランダムに学習データを分割します。\n",
    "その他にターゲットの分布が同じになるように分割する Stratified と呼ばれる方法もあります。\n",
    "\n",
    "あとは「各分割で特定のグループが重ならないようにする」Group K Fold もよく使われます。\n",
    "\n",
    "その他にも時系列で区切る time split という方法もあります。どれを使えばよいかは test データがどのように構成されているか依存なので、データを見て決定します。"
   ]
  },
  {
   "cell_type": "markdown",
   "id": "U_7iliuLAQ5O",
   "metadata": {
    "id": "U_7iliuLAQ5O"
   },
   "source": [
    "## LightGBM による CrossValidation を用いた学習"
   ]
  },
  {
   "cell_type": "markdown",
   "id": "6467f814-4070-4c75-93a3-bf35d85bf4d9",
   "metadata": {
    "id": "6467f814-4070-4c75-93a3-bf35d85bf4d9"
   },
   "source": [
    "\n",
    "\n",
    "今回は使う機械学習モデルとして lightGBM を使います。lightGBM は以下のような良い性質があります。\n",
    "\n",
    "* 欠損値が存在している場合にも、欠損を埋めることなく自然に取り扱うことができる\n",
    "* 特徴重要度をさっと出すことができる\n",
    "* GBDT と呼ばれるアルゴリズムの一種で今回のタスクのようなテーブルデータで性能が高いことが知られている\n",
    "* CPU 環境でも高速に学習・推論が行える\n",
    "\n",
    "他にも理由はありますが以下のような記事も参考になります。    \n",
    "\n",
    "▼ [「初手LightGBM」をする7つの理由](https://upura.hatenablog.com/entry/2019/10/29/184617)"
   ]
  },
  {
   "cell_type": "code",
   "execution_count": 2,
   "id": "StuC12QsDPPd",
   "metadata": {
    "executionInfo": {
     "elapsed": 3712,
     "status": "ok",
     "timestamp": 1665491901338,
     "user": {
      "displayName": "堀川佑太",
      "userId": "16618798410430071825"
     },
     "user_tz": -540
    },
    "id": "StuC12QsDPPd"
   },
   "outputs": [],
   "source": [
    "!pip install -q lightgbm"
   ]
  },
  {
   "cell_type": "code",
   "execution_count": 6,
   "id": "KZWY5QAcDq8Q",
   "metadata": {
    "executionInfo": {
     "elapsed": 3,
     "status": "ok",
     "timestamp": 1665493967084,
     "user": {
      "displayName": "堀川佑太",
      "userId": "16618798410430071825"
     },
     "user_tz": -540
    },
    "id": "KZWY5QAcDq8Q"
   },
   "outputs": [],
   "source": [
    "import lightgbm as lgbm\n",
    "from sklearn.metrics import accuracy_score, f1_score, precision_score, recall_score"
   ]
  },
  {
   "cell_type": "code",
   "execution_count": 57,
   "id": "7f491948-18ee-4d81-8bbf-badba4adabf5",
   "metadata": {
    "executionInfo": {
     "elapsed": 402,
     "status": "ok",
     "timestamp": 1665496549243,
     "user": {
      "displayName": "堀川佑太",
      "userId": "16618798410430071825"
     },
     "user_tz": -540
    },
    "id": "7f491948-18ee-4d81-8bbf-badba4adabf5"
   },
   "outputs": [],
   "source": [
    "def fit_lgbm(X, t, cv, params: dict=None, verbose: int=50):\n",
    "\n",
    "    # パラメータがないときは、空の dict で置き換える\n",
    "    if params is None:\n",
    "        params = {}\n",
    "\n",
    "    models = []\n",
    "    # training data の target と同じだけのゼロ配列を用意\n",
    "    oof_pred = np.zeros_like(t, dtype=np.float)\n",
    "\n",
    "    # この部分が交差検証のところです。データセットを cv instance によって分割します\n",
    "    # training data を trian/val に分割\n",
    "    for i, (idx_train, idx_val) in enumerate(cv): \n",
    "        x_train, t_train = X.values[idx_train], t.values[idx_train]\n",
    "        x_val, t_val = X.values[idx_val], t.values[idx_val]\n",
    "\n",
    "        clf = lgbm.LGBMClassifier(**params)\n",
    "\n",
    "        clf.fit(x_train, t_train, eval_set=[(x_val, t_val)], early_stopping_rounds=100, verbose=verbose)\n",
    "\n",
    "        pred_i = clf.predict(x_val)\n",
    "        oof_pred[idx_val] = pred_i\n",
    "        models.append(clf)\n",
    "        print(f'Fold {i}')\n",
    "        print(f'Accuracy: {accuracy_score(t_val, pred_i) ** .5:.4f}')\n",
    "        print(f'Precision: {precision_score(t_val, pred_i) ** .5:.4f}')\n",
    "        print(f'Recall: {recall_score(t_val, pred_i) ** .5:.4f}')\n",
    "        print(f'F1 Score: {f1_score(t_val, pred_i) ** .5:.4f}')\n",
    "\n",
    "    score = f1_score(t, oof_pred) ** .5\n",
    "    print('-' * 50)\n",
    "    print('FINISHED | Whole F1 Score: {:.4f}'.format(score))\n",
    "    return oof_pred, models"
   ]
  },
  {
   "cell_type": "markdown",
   "id": "e15e4463-1dd8-42bd-b17e-fd042680e5c3",
   "metadata": {
    "id": "e15e4463-1dd8-42bd-b17e-fd042680e5c3"
   },
   "source": [
    "### parameter について\n",
    "\n",
    "LightGBM などの GBDT のパラメータは、内部的にどういう意味を持つのかを知っておくことで、課題設定ごとにどのようにパラメータを調整スべきかを感覚的に掴むことができます。  \n",
    "\n",
    "* [Parameters Tuning](https://lightgbm.readthedocs.io/en/latest/Parameters-Tuning.html)\n",
    "* [勾配ブースティングで大事なパラメータの気持ち](https://nykergoto.hatenablog.jp/entry/2019/03/29/%E5%8B%BE%E9%85%8D%E3%83%96%E3%83%BC%E3%82%B9%E3%83%86%E3%82%A3%E3%83%B3%E3%82%B0%E3%81%A7%E5%A4%A7%E4%BA%8B%E3%81%AA%E3%83%91%E3%83%A9%E3%83%A1%E3%83%BC%E3%82%BF%E3%81%AE%E6%B0%97%E6%8C%81%E3%81%A1)"
   ]
  },
  {
   "cell_type": "code",
   "execution_count": 58,
   "id": "32d56eb8-9884-48c9-94fe-3ccdf6e26a1e",
   "metadata": {
    "executionInfo": {
     "elapsed": 1,
     "status": "ok",
     "timestamp": 1665496551412,
     "user": {
      "displayName": "堀川佑太",
      "userId": "16618798410430071825"
     },
     "user_tz": -540
    },
    "id": "32d56eb8-9884-48c9-94fe-3ccdf6e26a1e"
   },
   "outputs": [],
   "source": [
    "params = {\n",
    "    # 目的関数. 最小となるようなパラメータを探します. \n",
    "    'objective': 'binary', \n",
    "\n",
    "     # 学習率. 小さいほどなめらかな決定境界が作られて性能向上に繋がる場合が多いです、がそれだけ木を作るため学習に時間がかかります\n",
    "    'learning_rate': .1,\n",
    "\n",
    "    # L2 Reguralization\n",
    "    'reg_lambda': 1.,\n",
    "    # L1 \n",
    "    'reg_alpha': .1,\n",
    "\n",
    "    # 木の深さ. 深い木を許容するほどより複雑な交互作用を考慮するようになります\n",
    "    'max_depth': 5, \n",
    "\n",
    "    # 木の最大数. early_stopping という枠組みで木の数は制御されるようにしていますのでとても大きい値を指定しておきます.\n",
    "    'n_estimators': 10000, \n",
    "\n",
    "    # 木を作る際に考慮する特徴量の割合. 1以下を指定すると特徴をランダムに欠落させます。小さくすることで, まんべんなく特徴を使うという効果があります.\n",
    "    'colsample_bytree': .5, \n",
    "\n",
    "    # 最小分割でのデータ数. 小さいとより細かい粒度の分割方法を許容します.\n",
    "    'min_child_samples': 10,\n",
    "\n",
    "    # bagging の頻度と割合\n",
    "    'subsample_freq': 3,\n",
    "    'subsample': .9,\n",
    "\n",
    "    # 特徴重要度計算のロジック\n",
    "    'importance_type': 'gain', \n",
    "    'random_state': 0,\n",
    "}"
   ]
  },
  {
   "cell_type": "markdown",
   "id": "31148aad-8fef-4606-bf83-7475a540f69b",
   "metadata": {
    "id": "31148aad-8fef-4606-bf83-7475a540f69b"
   },
   "source": [
    "## データの準備  "
   ]
  },
  {
   "cell_type": "code",
   "execution_count": 59,
   "id": "bu7JlDhiMGcg",
   "metadata": {
    "executionInfo": {
     "elapsed": 1,
     "status": "ok",
     "timestamp": 1665496552984,
     "user": {
      "displayName": "堀川佑太",
      "userId": "16618798410430071825"
     },
     "user_tz": -540
    },
    "id": "bu7JlDhiMGcg"
   },
   "outputs": [],
   "source": [
    "import pandas as pd\n",
    "import numpy as np\n",
    "import matplotlib.pyplot as plt\n",
    "import seaborn as sns"
   ]
  },
  {
   "cell_type": "code",
   "execution_count": 60,
   "id": "I63GP9PWL7tZ",
   "metadata": {
    "colab": {
     "base_uri": "https://localhost:8080/",
     "height": 223
    },
    "executionInfo": {
     "elapsed": 7,
     "status": "ok",
     "timestamp": 1665496553488,
     "user": {
      "displayName": "堀川佑太",
      "userId": "16618798410430071825"
     },
     "user_tz": -540
    },
    "id": "I63GP9PWL7tZ",
    "outputId": "6f0448eb-a5e2-4858-ee01-5663f088460e"
   },
   "outputs": [
    {
     "data": {
      "text/html": [
       "\n",
       "  <div id=\"df-663cc9d2-bc79-443d-9792-8c30ec1db4ad\">\n",
       "    <div class=\"colab-df-container\">\n",
       "      <div>\n",
       "<style scoped>\n",
       "    .dataframe tbody tr th:only-of-type {\n",
       "        vertical-align: middle;\n",
       "    }\n",
       "\n",
       "    .dataframe tbody tr th {\n",
       "        vertical-align: top;\n",
       "    }\n",
       "\n",
       "    .dataframe thead th {\n",
       "        text-align: right;\n",
       "    }\n",
       "</style>\n",
       "<table border=\"1\" class=\"dataframe\">\n",
       "  <thead>\n",
       "    <tr style=\"text-align: right;\">\n",
       "      <th></th>\n",
       "      <th>age</th>\n",
       "      <th>education.num</th>\n",
       "      <th>capital.gain</th>\n",
       "      <th>capital.loss</th>\n",
       "      <th>hours.per.week</th>\n",
       "      <th>workclass_Federal-gov</th>\n",
       "      <th>workclass_Local-gov</th>\n",
       "      <th>workclass_Never-worked</th>\n",
       "      <th>workclass_Private</th>\n",
       "      <th>workclass_Self-emp-inc</th>\n",
       "      <th>...</th>\n",
       "      <th>race_Black</th>\n",
       "      <th>race_Other</th>\n",
       "      <th>race_White</th>\n",
       "      <th>sex_Female</th>\n",
       "      <th>sex_Male</th>\n",
       "      <th>marital-group_Married</th>\n",
       "      <th>marital-group_NotMarried</th>\n",
       "      <th>marital-group_Separated</th>\n",
       "      <th>marital-group_Widowed</th>\n",
       "      <th>target</th>\n",
       "    </tr>\n",
       "  </thead>\n",
       "  <tbody>\n",
       "    <tr>\n",
       "      <th>0</th>\n",
       "      <td>90</td>\n",
       "      <td>9</td>\n",
       "      <td>0</td>\n",
       "      <td>4356</td>\n",
       "      <td>40</td>\n",
       "      <td>0</td>\n",
       "      <td>0</td>\n",
       "      <td>0</td>\n",
       "      <td>0</td>\n",
       "      <td>0</td>\n",
       "      <td>...</td>\n",
       "      <td>0</td>\n",
       "      <td>0</td>\n",
       "      <td>1</td>\n",
       "      <td>1</td>\n",
       "      <td>0</td>\n",
       "      <td>0</td>\n",
       "      <td>0</td>\n",
       "      <td>0</td>\n",
       "      <td>1</td>\n",
       "      <td>&lt;=50K</td>\n",
       "    </tr>\n",
       "    <tr>\n",
       "      <th>1</th>\n",
       "      <td>82</td>\n",
       "      <td>9</td>\n",
       "      <td>0</td>\n",
       "      <td>4356</td>\n",
       "      <td>18</td>\n",
       "      <td>0</td>\n",
       "      <td>0</td>\n",
       "      <td>0</td>\n",
       "      <td>1</td>\n",
       "      <td>0</td>\n",
       "      <td>...</td>\n",
       "      <td>0</td>\n",
       "      <td>0</td>\n",
       "      <td>1</td>\n",
       "      <td>1</td>\n",
       "      <td>0</td>\n",
       "      <td>0</td>\n",
       "      <td>0</td>\n",
       "      <td>0</td>\n",
       "      <td>1</td>\n",
       "      <td>&lt;=50K</td>\n",
       "    </tr>\n",
       "  </tbody>\n",
       "</table>\n",
       "<p>2 rows × 45 columns</p>\n",
       "</div>\n",
       "      <button class=\"colab-df-convert\" onclick=\"convertToInteractive('df-663cc9d2-bc79-443d-9792-8c30ec1db4ad')\"\n",
       "              title=\"Convert this dataframe to an interactive table.\"\n",
       "              style=\"display:none;\">\n",
       "        \n",
       "  <svg xmlns=\"http://www.w3.org/2000/svg\" height=\"24px\"viewBox=\"0 0 24 24\"\n",
       "       width=\"24px\">\n",
       "    <path d=\"M0 0h24v24H0V0z\" fill=\"none\"/>\n",
       "    <path d=\"M18.56 5.44l.94 2.06.94-2.06 2.06-.94-2.06-.94-.94-2.06-.94 2.06-2.06.94zm-11 1L8.5 8.5l.94-2.06 2.06-.94-2.06-.94L8.5 2.5l-.94 2.06-2.06.94zm10 10l.94 2.06.94-2.06 2.06-.94-2.06-.94-.94-2.06-.94 2.06-2.06.94z\"/><path d=\"M17.41 7.96l-1.37-1.37c-.4-.4-.92-.59-1.43-.59-.52 0-1.04.2-1.43.59L10.3 9.45l-7.72 7.72c-.78.78-.78 2.05 0 2.83L4 21.41c.39.39.9.59 1.41.59.51 0 1.02-.2 1.41-.59l7.78-7.78 2.81-2.81c.8-.78.8-2.07 0-2.86zM5.41 20L4 18.59l7.72-7.72 1.47 1.35L5.41 20z\"/>\n",
       "  </svg>\n",
       "      </button>\n",
       "      \n",
       "  <style>\n",
       "    .colab-df-container {\n",
       "      display:flex;\n",
       "      flex-wrap:wrap;\n",
       "      gap: 12px;\n",
       "    }\n",
       "\n",
       "    .colab-df-convert {\n",
       "      background-color: #E8F0FE;\n",
       "      border: none;\n",
       "      border-radius: 50%;\n",
       "      cursor: pointer;\n",
       "      display: none;\n",
       "      fill: #1967D2;\n",
       "      height: 32px;\n",
       "      padding: 0 0 0 0;\n",
       "      width: 32px;\n",
       "    }\n",
       "\n",
       "    .colab-df-convert:hover {\n",
       "      background-color: #E2EBFA;\n",
       "      box-shadow: 0px 1px 2px rgba(60, 64, 67, 0.3), 0px 1px 3px 1px rgba(60, 64, 67, 0.15);\n",
       "      fill: #174EA6;\n",
       "    }\n",
       "\n",
       "    [theme=dark] .colab-df-convert {\n",
       "      background-color: #3B4455;\n",
       "      fill: #D2E3FC;\n",
       "    }\n",
       "\n",
       "    [theme=dark] .colab-df-convert:hover {\n",
       "      background-color: #434B5C;\n",
       "      box-shadow: 0px 1px 3px 1px rgba(0, 0, 0, 0.15);\n",
       "      filter: drop-shadow(0px 1px 2px rgba(0, 0, 0, 0.3));\n",
       "      fill: #FFFFFF;\n",
       "    }\n",
       "  </style>\n",
       "\n",
       "      <script>\n",
       "        const buttonEl =\n",
       "          document.querySelector('#df-663cc9d2-bc79-443d-9792-8c30ec1db4ad button.colab-df-convert');\n",
       "        buttonEl.style.display =\n",
       "          google.colab.kernel.accessAllowed ? 'block' : 'none';\n",
       "\n",
       "        async function convertToInteractive(key) {\n",
       "          const element = document.querySelector('#df-663cc9d2-bc79-443d-9792-8c30ec1db4ad');\n",
       "          const dataTable =\n",
       "            await google.colab.kernel.invokeFunction('convertToInteractive',\n",
       "                                                     [key], {});\n",
       "          if (!dataTable) return;\n",
       "\n",
       "          const docLinkHtml = 'Like what you see? Visit the ' +\n",
       "            '<a target=\"_blank\" href=https://colab.research.google.com/notebooks/data_table.ipynb>data table notebook</a>'\n",
       "            + ' to learn more about interactive tables.';\n",
       "          element.innerHTML = '';\n",
       "          dataTable['output_type'] = 'display_data';\n",
       "          await google.colab.output.renderOutput(dataTable, element);\n",
       "          const docLink = document.createElement('div');\n",
       "          docLink.innerHTML = docLinkHtml;\n",
       "          element.appendChild(docLink);\n",
       "        }\n",
       "      </script>\n",
       "    </div>\n",
       "  </div>\n",
       "  "
      ],
      "text/plain": [
       "   age  education.num  capital.gain  capital.loss  hours.per.week  \\\n",
       "0   90              9             0          4356              40   \n",
       "1   82              9             0          4356              18   \n",
       "\n",
       "   workclass_Federal-gov  workclass_Local-gov  workclass_Never-worked  \\\n",
       "0                      0                    0                       0   \n",
       "1                      0                    0                       0   \n",
       "\n",
       "   workclass_Private  workclass_Self-emp-inc  ...  race_Black  race_Other  \\\n",
       "0                  0                       0  ...           0           0   \n",
       "1                  1                       0  ...           0           0   \n",
       "\n",
       "   race_White  sex_Female  sex_Male  marital-group_Married  \\\n",
       "0           1           1         0                      0   \n",
       "1           1           1         0                      0   \n",
       "\n",
       "   marital-group_NotMarried  marital-group_Separated  marital-group_Widowed  \\\n",
       "0                         0                        0                      1   \n",
       "1                         0                        0                      1   \n",
       "\n",
       "   target  \n",
       "0   <=50K  \n",
       "1   <=50K  \n",
       "\n",
       "[2 rows x 45 columns]"
      ]
     },
     "execution_count": 60,
     "metadata": {},
     "output_type": "execute_result"
    }
   ],
   "source": [
    "df = pd.read_csv('adult2.csv')\n",
    "df.head(2)"
   ]
  },
  {
   "cell_type": "code",
   "execution_count": 61,
   "id": "q_q4xooKMNUO",
   "metadata": {
    "executionInfo": {
     "elapsed": 2,
     "status": "ok",
     "timestamp": 1665496555093,
     "user": {
      "displayName": "堀川佑太",
      "userId": "16618798410430071825"
     },
     "user_tz": -540
    },
    "id": "q_q4xooKMNUO"
   },
   "outputs": [],
   "source": [
    "target_dict = {'<=50K':0, '>50K':1}\n",
    "x = df.drop('target', axis=1)\n",
    "t = df['target'].map(target_dict)"
   ]
  },
  {
   "cell_type": "code",
   "execution_count": 62,
   "id": "b89c0827-e120-4b95-8bbd-707e251eb146",
   "metadata": {
    "colab": {
     "base_uri": "https://localhost:8080/"
    },
    "executionInfo": {
     "elapsed": 8140,
     "status": "ok",
     "timestamp": 1665496563640,
     "user": {
      "displayName": "堀川佑太",
      "userId": "16618798410430071825"
     },
     "user_tz": -540
    },
    "id": "b89c0827-e120-4b95-8bbd-707e251eb146",
    "outputId": "d472425d-7d5c-4541-b54c-660b933d6df7"
   },
   "outputs": [
    {
     "name": "stderr",
     "output_type": "stream",
     "text": [
      "/usr/local/lib/python3.7/dist-packages/ipykernel_launcher.py:9: DeprecationWarning: `np.float` is a deprecated alias for the builtin `float`. To silence this warning, use `float` by itself. Doing this will not modify any behavior and is safe. If you specifically wanted the numpy scalar type, use `np.float64` here.\n",
      "Deprecated in NumPy 1.20; for more details and guidance: https://numpy.org/devdocs/release/1.20.0-notes.html#deprecations\n",
      "  if __name__ == '__main__':\n"
     ]
    },
    {
     "name": "stdout",
     "output_type": "stream",
     "text": [
      "Training until validation scores don't improve for 100 rounds.\n",
      "Early stopping, best iteration is:\n",
      "[323]\tvalid_0's binary_logloss: 0.273191\n",
      "Fold 0\n",
      "Accuracy: 0.9359\n",
      "Precision: 0.8786\n",
      "Recall: 0.8193\n",
      "F1 Score: 0.8474\n",
      "Training until validation scores don't improve for 100 rounds.\n",
      "Early stopping, best iteration is:\n",
      "[263]\tvalid_0's binary_logloss: 0.26657\n",
      "Fold 1\n",
      "Accuracy: 0.9346\n",
      "Precision: 0.8804\n",
      "Recall: 0.8184\n",
      "F1 Score: 0.8477\n",
      "Training until validation scores don't improve for 100 rounds.\n",
      "Early stopping, best iteration is:\n",
      "[312]\tvalid_0's binary_logloss: 0.276577\n",
      "Fold 2\n",
      "Accuracy: 0.9338\n",
      "Precision: 0.8854\n",
      "Recall: 0.8070\n",
      "F1 Score: 0.8435\n",
      "Training until validation scores don't improve for 100 rounds.\n",
      "Early stopping, best iteration is:\n",
      "[289]\tvalid_0's binary_logloss: 0.269246\n",
      "Fold 3\n",
      "Accuracy: 0.9343\n",
      "Precision: 0.8846\n",
      "Recall: 0.8081\n",
      "F1 Score: 0.8438\n",
      "Training until validation scores don't improve for 100 rounds.\n",
      "Early stopping, best iteration is:\n",
      "[178]\tvalid_0's binary_logloss: 0.285566\n",
      "Fold 4\n",
      "Accuracy: 0.9325\n",
      "Precision: 0.8873\n",
      "Recall: 0.8005\n",
      "F1 Score: 0.8406\n",
      "--------------------------------------------------\n",
      "FINISHED | Whole F1 Score: 0.8446\n"
     ]
    }
   ],
   "source": [
    "from sklearn.model_selection import KFold\n",
    "\n",
    "fold = KFold(n_splits=5, shuffle=True, random_state=0)\n",
    "cv = list(fold.split(x, t))\n",
    "\n",
    "oof, models = fit_lgbm(x, t, cv, params=params, verbose=500)"
   ]
  },
  {
   "cell_type": "markdown",
   "id": "0TWVMSzCNBz2",
   "metadata": {
    "id": "0TWVMSzCNBz2"
   },
   "source": [
    "## 特徴量重要度 (FeatureImporatnce) の可視化"
   ]
  },
  {
   "cell_type": "markdown",
   "id": "161ae8ec-a1e4-4076-bca6-1222c5a6658e",
   "metadata": {
    "id": "161ae8ec-a1e4-4076-bca6-1222c5a6658e"
   },
   "source": [
    "\n",
    "\n",
    "LightGBM など木系のモデルではどの特徴量で分割を行ってどれだけ目的変数を説明しているかを特徴重要度 (feature importance) として出力することができます。これを見ることで\n",
    "\n",
    "* どの特徴量が大事なのか\n",
    "* どの特徴量はあまり大事ではないか\n",
    "\n",
    "といった特徴量に関する情報を得ることができます。これによって、例えば重要となった特徴量を使う別の特徴を考えたり、反対に大事ではない特徴を削ったりといったインサイトを得ることが可能です。"
   ]
  },
  {
   "cell_type": "code",
   "execution_count": 36,
   "id": "957e878a-d01d-4e60-87f8-d66b911217b6",
   "metadata": {
    "executionInfo": {
     "elapsed": 2,
     "status": "ok",
     "timestamp": 1665494590641,
     "user": {
      "displayName": "堀川佑太",
      "userId": "16618798410430071825"
     },
     "user_tz": -540
    },
    "id": "957e878a-d01d-4e60-87f8-d66b911217b6"
   },
   "outputs": [],
   "source": [
    "def visualize_importance(models, df_train_feature):\n",
    "    \n",
    "    feature_importance_df = pd.DataFrame()\n",
    "    for i, model in enumerate(models):\n",
    "        _df = pd.DataFrame()\n",
    "        _df['feature_importance'] = model.feature_importances_\n",
    "        _df['column'] = df_train_feature.columns\n",
    "        _df['fold'] = i + 1\n",
    "        feature_importance_df = pd.concat([feature_importance_df, _df], \n",
    "                                          axis=0, ignore_index=True)\n",
    "\n",
    "    order = feature_importance_df.groupby('column')\\\n",
    "        .sum()[['feature_importance']]\\\n",
    "        .sort_values('feature_importance', ascending=False).index[:50]\n",
    "\n",
    "    fig, ax = plt.subplots(figsize=(8, max(6, len(order) * .25)))\n",
    "    sns.boxplot(data=feature_importance_df, \n",
    "                  x='feature_importance', \n",
    "                  y='column', \n",
    "                  order=order, \n",
    "                  ax=ax, \n",
    "                  palette='viridis', \n",
    "                  orient='h')\n",
    "    ax.tick_params(axis='x', rotation=90)\n",
    "    ax.set_title('Importance')\n",
    "    ax.grid()\n",
    "    fig.tight_layout()\n",
    "    return fig, ax, feature_importance_df"
   ]
  },
  {
   "cell_type": "code",
   "execution_count": 37,
   "id": "7676e499-b008-4451-aa68-5f011fdae3e1",
   "metadata": {
    "colab": {
     "base_uri": "https://localhost:8080/",
     "height": 801
    },
    "executionInfo": {
     "elapsed": 1943,
     "status": "ok",
     "timestamp": 1665494593201,
     "user": {
      "displayName": "堀川佑太",
      "userId": "16618798410430071825"
     },
     "user_tz": -540
    },
    "id": "7676e499-b008-4451-aa68-5f011fdae3e1",
    "outputId": "5d375e9c-a2c4-40dd-c46e-63f0d8b190b9"
   },
   "outputs": [
    {
     "data": {
      "image/png": "[encoded data removed]",
      "text/plain": [
       "<Figure size 576x792 with 1 Axes>"
      ]
     },
     "metadata": {
      "needs_background": "light"
     },
     "output_type": "display_data"
    }
   ],
   "source": [
    "fig, ax, feature_importance_df = visualize_importance(models, df.drop('target', axis=1))"
   ]
  },
  {
   "cell_type": "code",
   "execution_count": 43,
   "id": "1FAhD3csNciH",
   "metadata": {
    "colab": {
     "base_uri": "https://localhost:8080/",
     "height": 395
    },
    "executionInfo": {
     "elapsed": 5,
     "status": "ok",
     "timestamp": 1665494704216,
     "user": {
      "displayName": "堀川佑太",
      "userId": "16618798410430071825"
     },
     "user_tz": -540
    },
    "id": "1FAhD3csNciH",
    "outputId": "289915a4-4318-48c1-ec1e-4c00add93341"
   },
   "outputs": [
    {
     "data": {
      "text/html": [
       "\n",
       "  <div id=\"df-922b6b74-3090-42f8-9159-a69e00b03b6f\">\n",
       "    <div class=\"colab-df-container\">\n",
       "      <div>\n",
       "<style scoped>\n",
       "    .dataframe tbody tr th:only-of-type {\n",
       "        vertical-align: middle;\n",
       "    }\n",
       "\n",
       "    .dataframe tbody tr th {\n",
       "        vertical-align: top;\n",
       "    }\n",
       "\n",
       "    .dataframe thead th {\n",
       "        text-align: right;\n",
       "    }\n",
       "</style>\n",
       "<table border=\"1\" class=\"dataframe\">\n",
       "  <thead>\n",
       "    <tr style=\"text-align: right;\">\n",
       "      <th></th>\n",
       "      <th>feature_importance</th>\n",
       "      <th>fold</th>\n",
       "    </tr>\n",
       "    <tr>\n",
       "      <th>column</th>\n",
       "      <th></th>\n",
       "      <th></th>\n",
       "    </tr>\n",
       "  </thead>\n",
       "  <tbody>\n",
       "    <tr>\n",
       "      <th>capital.gain</th>\n",
       "      <td>77382.412387</td>\n",
       "      <td>15</td>\n",
       "    </tr>\n",
       "    <tr>\n",
       "      <th>education.num</th>\n",
       "      <td>54119.537804</td>\n",
       "      <td>15</td>\n",
       "    </tr>\n",
       "    <tr>\n",
       "      <th>marital-group_Married</th>\n",
       "      <td>50938.390608</td>\n",
       "      <td>15</td>\n",
       "    </tr>\n",
       "    <tr>\n",
       "      <th>age</th>\n",
       "      <td>38741.040416</td>\n",
       "      <td>15</td>\n",
       "    </tr>\n",
       "    <tr>\n",
       "      <th>relationship_Husband</th>\n",
       "      <td>29218.304230</td>\n",
       "      <td>15</td>\n",
       "    </tr>\n",
       "    <tr>\n",
       "      <th>capital.loss</th>\n",
       "      <td>24718.682911</td>\n",
       "      <td>15</td>\n",
       "    </tr>\n",
       "    <tr>\n",
       "      <th>hours.per.week</th>\n",
       "      <td>20558.669582</td>\n",
       "      <td>15</td>\n",
       "    </tr>\n",
       "    <tr>\n",
       "      <th>marital-group_NotMarried</th>\n",
       "      <td>12624.540526</td>\n",
       "      <td>15</td>\n",
       "    </tr>\n",
       "    <tr>\n",
       "      <th>marital-group_Separated</th>\n",
       "      <td>11077.268367</td>\n",
       "      <td>15</td>\n",
       "    </tr>\n",
       "    <tr>\n",
       "      <th>occupation_Exec-managerial</th>\n",
       "      <td>9190.568434</td>\n",
       "      <td>15</td>\n",
       "    </tr>\n",
       "  </tbody>\n",
       "</table>\n",
       "</div>\n",
       "      <button class=\"colab-df-convert\" onclick=\"convertToInteractive('df-922b6b74-3090-42f8-9159-a69e00b03b6f')\"\n",
       "              title=\"Convert this dataframe to an interactive table.\"\n",
       "              style=\"display:none;\">\n",
       "        \n",
       "  <svg xmlns=\"http://www.w3.org/2000/svg\" height=\"24px\"viewBox=\"0 0 24 24\"\n",
       "       width=\"24px\">\n",
       "    <path d=\"M0 0h24v24H0V0z\" fill=\"none\"/>\n",
       "    <path d=\"M18.56 5.44l.94 2.06.94-2.06 2.06-.94-2.06-.94-.94-2.06-.94 2.06-2.06.94zm-11 1L8.5 8.5l.94-2.06 2.06-.94-2.06-.94L8.5 2.5l-.94 2.06-2.06.94zm10 10l.94 2.06.94-2.06 2.06-.94-2.06-.94-.94-2.06-.94 2.06-2.06.94z\"/><path d=\"M17.41 7.96l-1.37-1.37c-.4-.4-.92-.59-1.43-.59-.52 0-1.04.2-1.43.59L10.3 9.45l-7.72 7.72c-.78.78-.78 2.05 0 2.83L4 21.41c.39.39.9.59 1.41.59.51 0 1.02-.2 1.41-.59l7.78-7.78 2.81-2.81c.8-.78.8-2.07 0-2.86zM5.41 20L4 18.59l7.72-7.72 1.47 1.35L5.41 20z\"/>\n",
       "  </svg>\n",
       "      </button>\n",
       "      \n",
       "  <style>\n",
       "    .colab-df-container {\n",
       "      display:flex;\n",
       "      flex-wrap:wrap;\n",
       "      gap: 12px;\n",
       "    }\n",
       "\n",
       "    .colab-df-convert {\n",
       "      background-color: #E8F0FE;\n",
       "      border: none;\n",
       "      border-radius: 50%;\n",
       "      cursor: pointer;\n",
       "      display: none;\n",
       "      fill: #1967D2;\n",
       "      height: 32px;\n",
       "      padding: 0 0 0 0;\n",
       "      width: 32px;\n",
       "    }\n",
       "\n",
       "    .colab-df-convert:hover {\n",
       "      background-color: #E2EBFA;\n",
       "      box-shadow: 0px 1px 2px rgba(60, 64, 67, 0.3), 0px 1px 3px 1px rgba(60, 64, 67, 0.15);\n",
       "      fill: #174EA6;\n",
       "    }\n",
       "\n",
       "    [theme=dark] .colab-df-convert {\n",
       "      background-color: #3B4455;\n",
       "      fill: #D2E3FC;\n",
       "    }\n",
       "\n",
       "    [theme=dark] .colab-df-convert:hover {\n",
       "      background-color: #434B5C;\n",
       "      box-shadow: 0px 1px 3px 1px rgba(0, 0, 0, 0.15);\n",
       "      filter: drop-shadow(0px 1px 2px rgba(0, 0, 0, 0.3));\n",
       "      fill: #FFFFFF;\n",
       "    }\n",
       "  </style>\n",
       "\n",
       "      <script>\n",
       "        const buttonEl =\n",
       "          document.querySelector('#df-922b6b74-3090-42f8-9159-a69e00b03b6f button.colab-df-convert');\n",
       "        buttonEl.style.display =\n",
       "          google.colab.kernel.accessAllowed ? 'block' : 'none';\n",
       "\n",
       "        async function convertToInteractive(key) {\n",
       "          const element = document.querySelector('#df-922b6b74-3090-42f8-9159-a69e00b03b6f');\n",
       "          const dataTable =\n",
       "            await google.colab.kernel.invokeFunction('convertToInteractive',\n",
       "                                                     [key], {});\n",
       "          if (!dataTable) return;\n",
       "\n",
       "          const docLinkHtml = 'Like what you see? Visit the ' +\n",
       "            '<a target=\"_blank\" href=https://colab.research.google.com/notebooks/data_table.ipynb>data table notebook</a>'\n",
       "            + ' to learn more about interactive tables.';\n",
       "          element.innerHTML = '';\n",
       "          dataTable['output_type'] = 'display_data';\n",
       "          await google.colab.output.renderOutput(dataTable, element);\n",
       "          const docLink = document.createElement('div');\n",
       "          docLink.innerHTML = docLinkHtml;\n",
       "          element.appendChild(docLink);\n",
       "        }\n",
       "      </script>\n",
       "    </div>\n",
       "  </div>\n",
       "  "
      ],
      "text/plain": [
       "                            feature_importance  fold\n",
       "column                                              \n",
       "capital.gain                      77382.412387    15\n",
       "education.num                     54119.537804    15\n",
       "marital-group_Married             50938.390608    15\n",
       "age                               38741.040416    15\n",
       "relationship_Husband              29218.304230    15\n",
       "capital.loss                      24718.682911    15\n",
       "hours.per.week                    20558.669582    15\n",
       "marital-group_NotMarried          12624.540526    15\n",
       "marital-group_Separated           11077.268367    15\n",
       "occupation_Exec-managerial         9190.568434    15"
      ]
     },
     "execution_count": 43,
     "metadata": {},
     "output_type": "execute_result"
    }
   ],
   "source": [
    "feature_importance_df.groupby('column').sum().sort_values('feature_importance', ascending=False).head(10)"
   ]
  },
  {
   "cell_type": "markdown",
   "id": "9190ecb3-f9d6-490c-8680-199419c34e00",
   "metadata": {
    "id": "9190ecb3-f9d6-490c-8680-199419c34e00"
   },
   "source": [
    "## 学習済みモデルを用いた予測結果の確認"
   ]
  },
  {
   "cell_type": "code",
   "execution_count": 45,
   "id": "de974941-ea71-486e-bea3-2b83aeca436f",
   "metadata": {
    "executionInfo": {
     "elapsed": 3280,
     "status": "ok",
     "timestamp": 1665494806860,
     "user": {
      "displayName": "堀川佑太",
      "userId": "16618798410430071825"
     },
     "user_tz": -540
    },
    "id": "de974941-ea71-486e-bea3-2b83aeca436f"
   },
   "outputs": [],
   "source": [
    "pred = np.array([model.predict(x) for model in models])\n",
    "pred = np.mean(pred, axis=0)"
   ]
  },
  {
   "cell_type": "markdown",
   "id": "dfa620fd-aa7b-40fa-81a3-25f9da2df543",
   "metadata": {
    "id": "dfa620fd-aa7b-40fa-81a3-25f9da2df543"
   },
   "source": [
    "## 予測値の分布を確認\n",
    "\n",
    "あまりに大きくずれているときは実装がおかしい or 分布がずれている可能性が高いです。"
   ]
  },
  {
   "cell_type": "code",
   "execution_count": 46,
   "id": "cb8e638b-d30b-4542-89ca-fa76324d622c",
   "metadata": {
    "colab": {
     "base_uri": "https://localhost:8080/",
     "height": 483
    },
    "executionInfo": {
     "elapsed": 1354,
     "status": "ok",
     "timestamp": 1665494818497,
     "user": {
      "displayName": "堀川佑太",
      "userId": "16618798410430071825"
     },
     "user_tz": -540
    },
    "id": "cb8e638b-d30b-4542-89ca-fa76324d622c",
    "outputId": "03c32ede-30ae-4a58-a548-ca659007bb9e"
   },
   "outputs": [
    {
     "data": {
      "image/png": "[encoded data removed]",
      "text/plain": [
       "<Figure size 576x576 with 1 Axes>"
      ]
     },
     "metadata": {
      "needs_background": "light"
     },
     "output_type": "display_data"
    }
   ],
   "source": [
    "fig, ax = plt.subplots(figsize=(8, 8))\n",
    "sns.histplot(pred, label='Test Predict', ax=ax, color='black')\n",
    "sns.histplot(oof, label='Out Of Fold', ax=ax, color='C1')\n",
    "ax.legend();"
   ]
  },
  {
   "cell_type": "markdown",
   "id": "tX1-zkApOhMk",
   "metadata": {
    "id": "tX1-zkApOhMk"
   },
   "source": [
    "## 【補足】 Permutation Feature Importance"
   ]
  },
  {
   "cell_type": "code",
   "execution_count": 47,
   "id": "vE39k0TDSPSp",
   "metadata": {
    "executionInfo": {
     "elapsed": 2,
     "status": "ok",
     "timestamp": 1665495819968,
     "user": {
      "displayName": "堀川佑太",
      "userId": "16618798410430071825"
     },
     "user_tz": -540
    },
    "id": "vE39k0TDSPSp"
   },
   "outputs": [],
   "source": [
    "from sklearn.inspection import permutation_importance"
   ]
  },
  {
   "cell_type": "code",
   "execution_count": 89,
   "id": "3NtzVO-CSLl3",
   "metadata": {
    "executionInfo": {
     "elapsed": 4,
     "status": "ok",
     "timestamp": 1665499746823,
     "user": {
      "displayName": "堀川佑太",
      "userId": "16618798410430071825"
     },
     "user_tz": -540
    },
    "id": "3NtzVO-CSLl3"
   },
   "outputs": [],
   "source": [
    "def fit_lgbm(X, t, cv, params: dict=None, verbose: int=50):\n",
    "\n",
    "    # パラメータがないときは、空の dict で置き換える\n",
    "    if params is None:\n",
    "        params = {}\n",
    "\n",
    "    models = []\n",
    "    importance_list = []\n",
    "    # training data の target と同じだけのゼロ配列を用意\n",
    "    oof_pred = np.zeros_like(t, dtype=np.float)\n",
    "\n",
    "    # この部分が交差検証のところです。データセットを cv instance によって分割します\n",
    "    # training data を trian/val に分割\n",
    "    for i, (idx_train, idx_val) in enumerate(cv): \n",
    "        x_train, t_train = X.values[idx_train], t.values[idx_train]\n",
    "        x_val, t_val = X.values[idx_val], t.values[idx_val]\n",
    "\n",
    "        clf = lgbm.LGBMClassifier(**params)\n",
    "\n",
    "        clf.fit(x_train, t_train, eval_set=[(x_val, t_val)], early_stopping_rounds=100, verbose=verbose)\n",
    "\n",
    "        # PI の実装を追加\n",
    "        result = permutation_importance(clf, x_val, t_val, n_repeats=10, random_state=0)\n",
    "\n",
    "        importance_list.append(result.importances_mean)\n",
    "        pred_i = clf.predict(x_val)\n",
    "        oof_pred[idx_val] = pred_i\n",
    "        models.append(clf)\n",
    "        print(f'Fold {i}')\n",
    "        print(f'Accuracy: {accuracy_score(t_val, pred_i) ** .5:.4f}')\n",
    "        print(f'Precision: {precision_score(t_val, pred_i) ** .5:.4f}')\n",
    "        print(f'Recall: {recall_score(t_val, pred_i) ** .5:.4f}')\n",
    "        print(f'F1 Score: {f1_score(t_val, pred_i) ** .5:.4f}')\n",
    "\n",
    "    score = f1_score(t, oof_pred) ** .5\n",
    "    print('-' * 50)\n",
    "    print('FINISHED | Whole F1 Score: {:.4f}'.format(score))\n",
    "    return oof_pred, models, importance_list"
   ]
  },
  {
   "cell_type": "code",
   "execution_count": 90,
   "id": "Hz_0EYa8TnIT",
   "metadata": {
    "colab": {
     "base_uri": "https://localhost:8080/"
    },
    "executionInfo": {
     "elapsed": 148051,
     "status": "ok",
     "timestamp": 1665499894871,
     "user": {
      "displayName": "堀川佑太",
      "userId": "16618798410430071825"
     },
     "user_tz": -540
    },
    "id": "Hz_0EYa8TnIT",
    "outputId": "aa6a1fd4-0bc3-4d57-fe55-d946e7552ad6"
   },
   "outputs": [
    {
     "name": "stderr",
     "output_type": "stream",
     "text": [
      "/usr/local/lib/python3.7/dist-packages/ipykernel_launcher.py:10: DeprecationWarning: `np.float` is a deprecated alias for the builtin `float`. To silence this warning, use `float` by itself. Doing this will not modify any behavior and is safe. If you specifically wanted the numpy scalar type, use `np.float64` here.\n",
      "Deprecated in NumPy 1.20; for more details and guidance: https://numpy.org/devdocs/release/1.20.0-notes.html#deprecations\n",
      "  # Remove the CWD from sys.path while we load stuff.\n"
     ]
    },
    {
     "name": "stdout",
     "output_type": "stream",
     "text": [
      "Training until validation scores don't improve for 100 rounds.\n",
      "Early stopping, best iteration is:\n",
      "[323]\tvalid_0's binary_logloss: 0.273191\n",
      "Fold 0\n",
      "Accuracy: 0.9359\n",
      "Precision: 0.8786\n",
      "Recall: 0.8193\n",
      "F1 Score: 0.8474\n",
      "Training until validation scores don't improve for 100 rounds.\n",
      "Early stopping, best iteration is:\n",
      "[263]\tvalid_0's binary_logloss: 0.26657\n",
      "Fold 1\n",
      "Accuracy: 0.9346\n",
      "Precision: 0.8804\n",
      "Recall: 0.8184\n",
      "F1 Score: 0.8477\n",
      "Training until validation scores don't improve for 100 rounds.\n",
      "Early stopping, best iteration is:\n",
      "[312]\tvalid_0's binary_logloss: 0.276577\n",
      "Fold 2\n",
      "Accuracy: 0.9338\n",
      "Precision: 0.8854\n",
      "Recall: 0.8070\n",
      "F1 Score: 0.8435\n",
      "Training until validation scores don't improve for 100 rounds.\n",
      "Early stopping, best iteration is:\n",
      "[289]\tvalid_0's binary_logloss: 0.269246\n",
      "Fold 3\n",
      "Accuracy: 0.9343\n",
      "Precision: 0.8846\n",
      "Recall: 0.8081\n",
      "F1 Score: 0.8438\n",
      "Training until validation scores don't improve for 100 rounds.\n",
      "Early stopping, best iteration is:\n",
      "[178]\tvalid_0's binary_logloss: 0.285566\n",
      "Fold 4\n",
      "Accuracy: 0.9325\n",
      "Precision: 0.8873\n",
      "Recall: 0.8005\n",
      "F1 Score: 0.8406\n",
      "--------------------------------------------------\n",
      "FINISHED | Whole F1 Score: 0.8446\n"
     ]
    }
   ],
   "source": [
    "from sklearn.model_selection import KFold\n",
    "\n",
    "fold = KFold(n_splits=5, shuffle=True, random_state=0)\n",
    "cv = list(fold.split(x, t))\n",
    "\n",
    "oof, models, importance_list = fit_lgbm(x, t, cv, params=params, verbose=500)"
   ]
  },
  {
   "cell_type": "code",
   "execution_count": 95,
   "id": "UMibboxeW1Vz",
   "metadata": {
    "executionInfo": {
     "elapsed": 257,
     "status": "ok",
     "timestamp": 1665499991988,
     "user": {
      "displayName": "堀川佑太",
      "userId": "16618798410430071825"
     },
     "user_tz": -540
    },
    "id": "UMibboxeW1Vz"
   },
   "outputs": [],
   "source": [
    "def visualize_importance(models, feature_list, df):\n",
    "    \n",
    "    feature_importance_df = pd.DataFrame()\n",
    "    for i, model in enumerate(models):\n",
    "        _df = pd.DataFrame()\n",
    "        _df['feature_importance'] = importance_list[i]\n",
    "        _df['column'] = df.columns\n",
    "        _df['fold'] = i + 1\n",
    "        feature_importance_df = pd.concat([feature_importance_df, _df],\n",
    "                                            axis=0, ignore_index=True)\n",
    "\n",
    "    order = feature_importance_df.groupby('column')\\\n",
    "        .sum()[['feature_importance']]\\\n",
    "        .sort_values('feature_importance', ascending=False).index[:50]\n",
    "\n",
    "    fig, ax = plt.subplots(figsize=(8, max(6, len(order) * .25)))\n",
    "    sns.boxplot(data=feature_importance_df, \n",
    "                  x='feature_importance', \n",
    "                  y='column', \n",
    "                  order=order, \n",
    "                  ax=ax, \n",
    "                  palette='viridis', \n",
    "                  orient='h')\n",
    "    ax.tick_params(axis='x', rotation=90)\n",
    "    ax.set_title('Importance')\n",
    "    ax.grid()\n",
    "    fig.tight_layout()\n",
    "    return fig, ax, feature_importance_df"
   ]
  },
  {
   "cell_type": "code",
   "execution_count": 96,
   "id": "jBbaZutIiQw9",
   "metadata": {
    "colab": {
     "base_uri": "https://localhost:8080/",
     "height": 801
    },
    "executionInfo": {
     "elapsed": 3543,
     "status": "ok",
     "timestamp": 1665500037080,
     "user": {
      "displayName": "堀川佑太",
      "userId": "16618798410430071825"
     },
     "user_tz": -540
    },
    "id": "jBbaZutIiQw9",
    "outputId": "a5d7b24f-6aa4-4e8f-a711-d5d9d426196f"
   },
   "outputs": [
    {
     "data": {
      "image/png": "[encoded data removed]",
      "text/plain": [
       "<Figure size 576x792 with 1 Axes>"
      ]
     },
     "metadata": {
      "needs_background": "light"
     },
     "output_type": "display_data"
    }
   ],
   "source": [
    "fig, ax, feature_importance_df = visualize_importance(models, importance_list, df.drop('target', axis=1))"
   ]
  }
 ],
 "metadata": {
  "colab": {
   "collapsed_sections": [],
   "provenance": []
  },
  "kernelspec": {
   "display_name": "Python 3.9.7 64-bit",
   "language": "python",
   "name": "python3"
  },
  "language_info": {
   "codemirror_mode": {
    "name": "ipython",
    "version": 3
   },
   "file_extension": ".py",
   "mimetype": "text/x-python",
   "name": "python",
   "nbconvert_exporter": "python",
   "pygments_lexer": "ipython3",
   "version": "3.9.7"
  },
  "vscode": {
   "interpreter": {
    "hash": "b0fa6594d8f4cbf19f97940f81e996739fb7646882a419484c72d19e05852a7e"
   }
  }
 },
 "nbformat": 4,
 "nbformat_minor": 5
}
